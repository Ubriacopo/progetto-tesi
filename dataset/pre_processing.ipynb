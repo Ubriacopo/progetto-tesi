{
 "cells": [
  {
   "metadata": {},
   "cell_type": "markdown",
   "source": "Notebook in cui abbozzo le cose e vedo di farle andare",
   "id": "b11bfc5aba710545"
  },
  {
   "cell_type": "code",
   "id": "initial_id",
   "metadata": {
    "collapsed": true,
    "ExecuteTime": {
     "end_time": "2025-04-07T16:19:23.720613Z",
     "start_time": "2025-04-07T16:19:22.015453Z"
    }
   },
   "source": [
    "from scipy.io import loadmat\n",
    "\n",
    "mat = loadmat(\"../resources/Data_Preprocessed_P01.mat\")"
   ],
   "outputs": [],
   "execution_count": 1
  },
  {
   "metadata": {
    "ExecuteTime": {
     "end_time": "2025-04-07T16:20:35.499655Z",
     "start_time": "2025-04-07T16:20:35.495656Z"
    }
   },
   "cell_type": "code",
   "source": "mat.keys()",
   "id": "9dfc7374a7a0d722",
   "outputs": [
    {
     "data": {
      "text/plain": [
       "dict_keys(['__header__', '__version__', '__globals__', 'VideoIDs', 'joined_data', 'labels_ext_annotation', 'labels_selfassessment'])"
      ]
     },
     "execution_count": 3,
     "metadata": {},
     "output_type": "execute_result"
    }
   ],
   "execution_count": 3
  },
  {
   "metadata": {
    "ExecuteTime": {
     "end_time": "2025-04-07T17:47:32.921021Z",
     "start_time": "2025-04-07T17:47:32.917052Z"
    }
   },
   "cell_type": "code",
   "source": "mat['joined_data'][0][1][0]",
   "id": "839cc4a0d26cd48c",
   "outputs": [
    {
     "data": {
      "text/plain": [
       "array([ 8.56684233e-06,  6.51970573e-06, -1.05969983e-05, -9.65927756e-06,\n",
       "        8.14420771e-06, -5.24802822e-06, -4.74614954e-06,  5.99141238e-06,\n",
       "        1.72544375e-06, -5.75462403e-08, -7.58572622e-06,  9.72625756e-07,\n",
       "        7.21686428e-07,  5.25180172e-06,  2.94796493e+00,  7.48186313e+00,\n",
       "        4.00532927e+05])"
      ]
     },
     "execution_count": 30,
     "metadata": {},
     "output_type": "execute_result"
    }
   ],
   "execution_count": 30
  },
  {
   "metadata": {},
   "cell_type": "code",
   "outputs": [],
   "execution_count": null,
   "source": [
    "# Joined data last 3 rows are relative to ECG and GSR.\n",
    "# Should we drop them? TODO"
   ],
   "id": "9a1de4b127ab0ab2"
  }
 ],
 "metadata": {
  "kernelspec": {
   "display_name": "Python 3",
   "language": "python",
   "name": "python3"
  },
  "language_info": {
   "codemirror_mode": {
    "name": "ipython",
    "version": 2
   },
   "file_extension": ".py",
   "mimetype": "text/x-python",
   "name": "python",
   "nbconvert_exporter": "python",
   "pygments_lexer": "ipython2",
   "version": "2.7.6"
  }
 },
 "nbformat": 4,
 "nbformat_minor": 5
}
