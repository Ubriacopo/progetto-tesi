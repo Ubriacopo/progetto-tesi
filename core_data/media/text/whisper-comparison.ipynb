{
 "cells": [
  {
   "cell_type": "code",
   "id": "initial_id",
   "metadata": {
    "collapsed": true,
    "ExecuteTime": {
     "end_time": "2025-09-29T16:02:31.757511Z",
     "start_time": "2025-09-29T15:53:50.342896Z"
    }
   },
   "source": [
    "from moviepy import AudioFileClip\n",
    "\n",
    "from core_data.media.text.transforms import FasterWhisperExtractor, WhisperExtractor\n",
    "\n",
    "# P1_31_face\n",
    "faster = FasterWhisperExtractor()  # > 1m\n",
    "# WhisperExtractor() # 519.789 seconds on CPU with large\n",
    "# WhisperExtractor() # 5 seconds on GPU with medium -> Stick to medium"
   ],
   "outputs": [
    {
     "data": {
      "text/plain": [
       "model.bin:   0%|          | 0.00/3.09G [00:00<?, ?B/s]"
      ],
      "application/vnd.jupyter.widget-view+json": {
       "version_major": 2,
       "version_minor": 0,
       "model_id": "c08d8eed5c944cb997bfae4e31b0a488"
      }
     },
     "metadata": {},
     "output_type": "display_data",
     "jetTransient": {
      "display_id": null
     }
    }
   ],
   "execution_count": 1
  },
  {
   "metadata": {
    "jupyter": {
     "is_executing": true
    },
    "ExecuteTime": {
     "start_time": "2025-09-29T16:03:07.660645Z"
    }
   },
   "cell_type": "code",
   "source": [
    "import torch\n",
    "\n",
    "audio = AudioFileClip(\"../../../resources/AMIGOS/face/P1_31_face.mov\")\n",
    "res = faster(torch.tensor(audio.to_soundarray()), audio.fps)"
   ],
   "id": "a53d25716aac1005",
   "outputs": [],
   "execution_count": null
  },
  {
   "metadata": {},
   "cell_type": "code",
   "outputs": [],
   "execution_count": null,
   "source": "",
   "id": "c63067faba6e0d93"
  }
 ],
 "metadata": {
  "kernelspec": {
   "display_name": "Python 3",
   "language": "python",
   "name": "python3"
  },
  "language_info": {
   "codemirror_mode": {
    "name": "ipython",
    "version": 2
   },
   "file_extension": ".py",
   "mimetype": "text/x-python",
   "name": "python",
   "nbconvert_exporter": "python",
   "pygments_lexer": "ipython2",
   "version": "2.7.6"
  }
 },
 "nbformat": 4,
 "nbformat_minor": 5
}
