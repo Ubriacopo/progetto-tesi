{
 "cells": [
  {
   "cell_type": "code",
   "id": "initial_id",
   "metadata": {
    "collapsed": true,
    "ExecuteTime": {
     "end_time": "2025-09-12T15:31:19.201540Z",
     "start_time": "2025-09-12T15:31:14.513302Z"
    }
   },
   "source": [
    "from torchvision.transforms import v2\n",
    "from torch import nn\n",
    "import torch\n",
    "import common.data.video.transforms as vtransforms\n",
    "from common.model.embedding.predefined.vivit import ViViTFoundationEmbedder\n",
    "\n",
    "transform = nn.Sequential(\n",
    "    vtransforms.ViVitImageProcessorTransform(),\n",
    "    v2.Lambda(lambda x: x.pixel_values),\n",
    "    vtransforms.SequenceResampling(\n",
    "        original_fps=25, sequence_duration_seconds=2,\n",
    "        frames_resampler=vtransforms.RegularFrameResampling(32, drop_mask=True)\n",
    "    ),\n",
    "    ViViTFoundationEmbedder()\n",
    ")"
   ],
   "outputs": [
    {
     "name": "stderr",
     "output_type": "stream",
     "text": [
      "/home/jacopo/PycharmProjects/progetto-tesi/.venv/lib/python3.12/site-packages/torch/cuda/__init__.py:174: UserWarning: CUDA initialization: CUDA unknown error - this may be due to an incorrectly set up environment, e.g. changing env variable CUDA_VISIBLE_DEVICES after program start. Setting the available devices to be zero. (Triggered internally at /pytorch/c10/cuda/CUDAFunctions.cpp:109.)\n",
      "  return torch._C._cuda_getDeviceCount() > 0\n",
      "Some weights of VivitModel were not initialized from the model checkpoint at google/vivit-b-16x2-kinetics400 and are newly initialized: ['pooler.dense.bias', 'pooler.dense.weight']\n",
      "You should probably TRAIN this model on a down-stream task to be able to use it for predictions and inference.\n"
     ]
    }
   ],
   "execution_count": 1
  },
  {
   "metadata": {
    "ExecuteTime": {
     "end_time": "2025-09-12T15:31:20.193961Z",
     "start_time": "2025-09-12T15:31:19.977219Z"
    }
   },
   "cell_type": "code",
   "source": [
    "# Video di 11s\n",
    "vid = torch.randint(low=0, high=256, size=(275, 3, 224, 224))"
   ],
   "id": "15938954167a0982",
   "outputs": [],
   "execution_count": 2
  },
  {
   "metadata": {
    "ExecuteTime": {
     "end_time": "2025-09-12T15:31:33.439983Z",
     "start_time": "2025-09-12T15:31:20.845047Z"
    }
   },
   "cell_type": "code",
   "source": "out = transform(vid)",
   "id": "bda8ae4defa2a2df",
   "outputs": [],
   "execution_count": 3
  },
  {
   "metadata": {
    "ExecuteTime": {
     "end_time": "2025-09-12T15:31:39.189367Z",
     "start_time": "2025-09-12T15:31:39.184764Z"
    }
   },
   "cell_type": "code",
   "source": "torch.cuda.is_available()",
   "id": "e6e0bdc577d9b7c9",
   "outputs": [
    {
     "data": {
      "text/plain": [
       "False"
      ]
     },
     "execution_count": 4,
     "metadata": {},
     "output_type": "execute_result"
    }
   ],
   "execution_count": 4
  },
  {
   "metadata": {},
   "cell_type": "code",
   "outputs": [],
   "execution_count": null,
   "source": "",
   "id": "aca6ca1d0a6e0280"
  }
 ],
 "metadata": {
  "kernelspec": {
   "display_name": "Python 3",
   "language": "python",
   "name": "python3"
  },
  "language_info": {
   "codemirror_mode": {
    "name": "ipython",
    "version": 2
   },
   "file_extension": ".py",
   "mimetype": "text/x-python",
   "name": "python",
   "nbconvert_exporter": "python",
   "pygments_lexer": "ipython2",
   "version": "2.7.6"
  }
 },
 "nbformat": 4,
 "nbformat_minor": 5
}
