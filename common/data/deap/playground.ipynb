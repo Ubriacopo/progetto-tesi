{
 "cells": [
  {
   "metadata": {
    "collapsed": true,
    "ExecuteTime": {
     "end_time": "2025-09-09T20:34:41.692713Z",
     "start_time": "2025-09-09T20:34:38.733670Z"
    }
   },
   "cell_type": "code",
   "source": [
    "from pathlib import Path\n",
    "\n",
    "from common.data.deap.loader import DeapPointsLoader\n",
    "\n",
    "path = \"../../../resources/DEAP/\"\n",
    "preprocessed = \"data_preprocessed_python/\"\n",
    "\n",
    "dir = next(Path(path + preprocessed).iterdir())"
   ],
   "id": "initial_id",
   "outputs": [],
   "execution_count": 1
  },
  {
   "metadata": {
    "ExecuteTime": {
     "end_time": "2025-09-09T20:34:42.837778Z",
     "start_time": "2025-09-09T20:34:42.835674Z"
    }
   },
   "cell_type": "code",
   "source": [
    "loader = DeapPointsLoader(path)\n",
    "gen = loader.scan()"
   ],
   "id": "66305131185c2b6a",
   "outputs": [],
   "execution_count": 2
  },
  {
   "metadata": {
    "ExecuteTime": {
     "end_time": "2025-09-09T20:35:08.087472Z",
     "start_time": "2025-09-09T20:35:08.036782Z"
    }
   },
   "cell_type": "code",
   "source": "next(gen)",
   "id": "9ce3cc14d82e0fef",
   "outputs": [
    {
     "data": {
      "text/plain": [
       "EEGDatasetDataPoint(entry_id='s01_trial06', eeg=EEG(data=array([[ 1.10114106e+01,  7.40297598e+00,  1.12046916e+00, ...,\n",
       "        -3.97941186e+00,  2.78747364e+00,  5.94707446e+00],\n",
       "       [ 1.08322166e+01,  8.30919813e+00,  2.51974676e+00, ...,\n",
       "        -5.41793332e+00,  1.43207561e+00,  5.79992145e+00],\n",
       "       [ 1.19630598e+01,  9.01088892e+00,  2.18393158e+00, ...,\n",
       "        -7.33725274e+00, -1.01284035e+00,  4.49991377e+00],\n",
       "       ...,\n",
       "       [ 5.30213620e+02,  3.69463917e+02,  2.96214052e+02, ...,\n",
       "        -4.87347000e+02, -4.14628384e+02, -7.83533953e+02],\n",
       "       [ 5.60658516e+03,  5.60902653e+03,  5.59340177e+03, ...,\n",
       "        -8.74085301e+03, -8.69300218e+03, -8.63294450e+03],\n",
       "       [-6.40356377e-03, -6.40356377e-03, -6.40356377e-03, ...,\n",
       "        -6.04028718e-02, -6.04028718e-02, -6.04028718e-02]],\n",
       "      shape=(40, 8064)), file_path=None, entry_id='s01_trial06', fs=128, interval=None), vid=Video(data=<moviepy.video.io.VideoFileClip.VideoFileClip object at 0x771d41960110>, file_path='../../../resources/DEAP/videos/s01/s01_trial06.avi', entry_id='s01_trial06', fps=50.0, resolution=[720, 576], interval=None), txt=None, aud=Audio(data=None, file_path='../../../resources/DEAP/videos/s01/s01_trial06.avi', entry_id='s01_trial06', fs=128, interval=None), metadata=None)"
      ]
     },
     "execution_count": 8,
     "metadata": {},
     "output_type": "execute_result"
    }
   ],
   "execution_count": 8
  },
  {
   "metadata": {},
   "cell_type": "code",
   "source": "",
   "id": "30e923b33f365273",
   "outputs": [],
   "execution_count": null
  }
 ],
 "metadata": {
  "kernelspec": {
   "display_name": "Python 3",
   "language": "python",
   "name": "python3"
  },
  "language_info": {
   "codemirror_mode": {
    "name": "ipython",
    "version": 2
   },
   "file_extension": ".py",
   "mimetype": "text/x-python",
   "name": "python",
   "nbconvert_exporter": "python",
   "pygments_lexer": "ipython2",
   "version": "2.7.6"
  }
 },
 "nbformat": 4,
 "nbformat_minor": 5
}
