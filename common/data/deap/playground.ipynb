{
 "cells": [
  {
   "metadata": {
    "collapsed": true,
    "ExecuteTime": {
     "end_time": "2025-09-09T21:27:44.226783Z",
     "start_time": "2025-09-09T21:27:41.277914Z"
    }
   },
   "cell_type": "code",
   "source": [
    "from pathlib import Path\n",
    "\n",
    "from common.data.data_point import AgnosticDatasetPoint\n",
    "from common.data.deap.loader import DeapPointsLoader\n",
    "\n",
    "path = \"../../../resources/DEAP/\"\n",
    "preprocessed = \"data_preprocessed_python/\"\n",
    "\n",
    "dir = next(Path(path + preprocessed).iterdir())"
   ],
   "id": "initial_id",
   "outputs": [],
   "execution_count": 1
  },
  {
   "metadata": {
    "ExecuteTime": {
     "end_time": "2025-09-09T21:27:44.232195Z",
     "start_time": "2025-09-09T21:27:44.230Z"
    }
   },
   "cell_type": "code",
   "source": [
    "loader = DeapPointsLoader(path)\n",
    "gen = loader.scan()"
   ],
   "id": "66305131185c2b6a",
   "outputs": [],
   "execution_count": 2
  },
  {
   "metadata": {
    "ExecuteTime": {
     "end_time": "2025-09-09T21:27:44.515462Z",
     "start_time": "2025-09-09T21:27:44.273147Z"
    }
   },
   "cell_type": "code",
   "source": "a = next(gen)",
   "id": "9ce3cc14d82e0fef",
   "outputs": [],
   "execution_count": 3
  },
  {
   "metadata": {},
   "cell_type": "code",
   "source": "",
   "id": "fbfc6ebcc50bb6a6",
   "outputs": [],
   "execution_count": null
  },
  {
   "metadata": {},
   "cell_type": "code",
   "source": [
    "from common.data.audio import Audio\n",
    "from common.data.video import Video\n",
    "from common.data.data_point import AgnosticDatasetPoint\n",
    "\n",
    "p = AgnosticDatasetPoint(\n",
    "    \"1\",\n",
    "    (\"vid\", Video(data=None, file_path=\"filepath\", fps=31, resolution=(220, 232), entry_id=\"1\")),\n",
    "    (\"aud\", Audio(data=None, file_path=\"filepath\", fs=31, entry_id=\"1\")),\n",
    ")"
   ],
   "id": "30e923b33f365273",
   "outputs": [],
   "execution_count": null
  },
  {
   "metadata": {},
   "cell_type": "code",
   "source": "d = p.to_dict()",
   "id": "eda31aae3a74e840",
   "outputs": [],
   "execution_count": null
  },
  {
   "metadata": {},
   "cell_type": "code",
   "source": "d",
   "id": "5f650c052862cc39",
   "outputs": [],
   "execution_count": null
  },
  {
   "metadata": {},
   "cell_type": "code",
   "source": "p = AgnosticDatasetPoint.from_dict(d)",
   "id": "4807716293a8be6b",
   "outputs": [],
   "execution_count": null
  },
  {
   "metadata": {},
   "cell_type": "code",
   "source": "",
   "id": "b751c2f6713644d8",
   "outputs": [],
   "execution_count": null
  }
 ],
 "metadata": {
  "kernelspec": {
   "display_name": "Python 3",
   "language": "python",
   "name": "python3"
  },
  "language_info": {
   "codemirror_mode": {
    "name": "ipython",
    "version": 2
   },
   "file_extension": ".py",
   "mimetype": "text/x-python",
   "name": "python",
   "nbconvert_exporter": "python",
   "pygments_lexer": "ipython2",
   "version": "2.7.6"
  }
 },
 "nbformat": 4,
 "nbformat_minor": 5
}
