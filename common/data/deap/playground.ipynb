{
 "cells": [
  {
   "metadata": {
    "collapsed": true,
    "ExecuteTime": {
     "end_time": "2025-09-09T21:27:44.226783Z",
     "start_time": "2025-09-09T21:27:41.277914Z"
    }
   },
   "cell_type": "code",
   "source": [
    "from pathlib import Path\n",
    "\n",
    "from common.data.data_point import FlexibleDatasetPoint\n",
    "from common.data.deap.loader import DeapPointsLoader\n",
    "\n",
    "path = \"../../../resources/DEAP/\"\n",
    "preprocessed = \"data_preprocessed_python/\"\n",
    "\n",
    "dir = next(Path(path + preprocessed).iterdir())"
   ],
   "id": "initial_id",
   "outputs": [],
   "execution_count": 1
  },
  {
   "metadata": {
    "ExecuteTime": {
     "end_time": "2025-09-09T21:27:44.232195Z",
     "start_time": "2025-09-09T21:27:44.230Z"
    }
   },
   "cell_type": "code",
   "source": [
    "loader = DeapPointsLoader(path)\n",
    "gen = loader.scan()"
   ],
   "id": "66305131185c2b6a",
   "outputs": [],
   "execution_count": 2
  },
  {
   "metadata": {
    "ExecuteTime": {
     "end_time": "2025-09-09T21:27:44.515462Z",
     "start_time": "2025-09-09T21:27:44.273147Z"
    }
   },
   "cell_type": "code",
   "source": "a = next(gen)",
   "id": "9ce3cc14d82e0fef",
   "outputs": [],
   "execution_count": 3
  },
  {
   "metadata": {},
   "cell_type": "code",
   "source": "",
   "id": "fbfc6ebcc50bb6a6",
   "outputs": [],
   "execution_count": null
  },
  {
   "metadata": {},
   "cell_type": "code",
   "source": [
    "from common.data.audio import Audio\n",
    "from common.data.video import Video\n",
    "from common.data.data_point import FlexibleDatasetPoint\n",
    "\n",
    "p = FlexibleDatasetPoint(\n",
    "    \"1\",\n",
    "    (\"vid\", Video(data=None, file_path=\"filepath\", fps=31, resolution=(220, 232), entry_id=\"1\")),\n",
    "    (\"aud\", Audio(data=None, file_path=\"filepath\", fs=31, entry_id=\"1\")),\n",
    ")"
   ],
   "id": "30e923b33f365273",
   "outputs": [],
   "execution_count": null
  },
  {
   "metadata": {},
   "cell_type": "code",
   "source": "d = p.to_dict()",
   "id": "eda31aae3a74e840",
   "outputs": [],
   "execution_count": null
  },
  {
   "metadata": {},
   "cell_type": "code",
   "source": "d",
   "id": "5f650c052862cc39",
   "outputs": [],
   "execution_count": null
  },
  {
   "metadata": {},
   "cell_type": "code",
   "source": "p = FlexibleDatasetPoint.from_dict(d)",
   "id": "4807716293a8be6b",
   "outputs": [],
   "execution_count": null
  },
  {
   "metadata": {
    "ExecuteTime": {
     "end_time": "2025-09-09T21:38:05.942253Z",
     "start_time": "2025-09-09T21:38:05.935967Z"
    }
   },
   "cell_type": "code",
   "source": "a.eeg",
   "id": "b751c2f6713644d8",
   "outputs": [
    {
     "data": {
      "text/plain": [
       "EEG(data=array([[ 9.48231681e-01,  1.65333533e+00,  3.01372577e+00, ...,\n",
       "        -2.82648937e+00, -4.47722969e+00, -3.67692812e+00],\n",
       "       [ 1.24706590e-01,  1.39008270e+00,  1.83509881e+00, ...,\n",
       "        -2.98702069e+00, -6.28780884e+00, -4.47429041e+00],\n",
       "       [-2.21651099e+00,  2.29201682e+00,  2.74636923e+00, ...,\n",
       "        -2.63707760e+00, -7.40651010e+00, -6.75590441e+00],\n",
       "       ...,\n",
       "       [ 2.30779684e+02,  6.96716323e+02,  1.19512165e+03, ...,\n",
       "         1.01080949e+03,  1.28312149e+03,  1.51996480e+03],\n",
       "       [-1.54180981e+03, -1.61798052e+03, -1.69268642e+03, ...,\n",
       "        -1.57842691e+04, -1.57823160e+04, -1.57808512e+04],\n",
       "       [ 6.39054310e-03,  6.39054310e-03,  6.39054310e-03, ...,\n",
       "        -9.76081241e-02, -9.76081241e-02, -9.76081241e-02]],\n",
       "      shape=(40, 8064)), file_path=None, entry_id='s01_trial01', fs=128, interval=None)"
      ]
     },
     "execution_count": 4,
     "metadata": {},
     "output_type": "execute_result"
    }
   ],
   "execution_count": 4
  },
  {
   "metadata": {
    "ExecuteTime": {
     "end_time": "2025-09-09T21:38:35.485873Z",
     "start_time": "2025-09-09T21:38:35.482314Z"
    }
   },
   "cell_type": "code",
   "source": "getattr(a, \"eeg\")",
   "id": "3abb34eff0088f99",
   "outputs": [
    {
     "data": {
      "text/plain": [
       "EEG(data=array([[ 9.48231681e-01,  1.65333533e+00,  3.01372577e+00, ...,\n",
       "        -2.82648937e+00, -4.47722969e+00, -3.67692812e+00],\n",
       "       [ 1.24706590e-01,  1.39008270e+00,  1.83509881e+00, ...,\n",
       "        -2.98702069e+00, -6.28780884e+00, -4.47429041e+00],\n",
       "       [-2.21651099e+00,  2.29201682e+00,  2.74636923e+00, ...,\n",
       "        -2.63707760e+00, -7.40651010e+00, -6.75590441e+00],\n",
       "       ...,\n",
       "       [ 2.30779684e+02,  6.96716323e+02,  1.19512165e+03, ...,\n",
       "         1.01080949e+03,  1.28312149e+03,  1.51996480e+03],\n",
       "       [-1.54180981e+03, -1.61798052e+03, -1.69268642e+03, ...,\n",
       "        -1.57842691e+04, -1.57823160e+04, -1.57808512e+04],\n",
       "       [ 6.39054310e-03,  6.39054310e-03,  6.39054310e-03, ...,\n",
       "        -9.76081241e-02, -9.76081241e-02, -9.76081241e-02]],\n",
       "      shape=(40, 8064)), file_path=None, entry_id='s01_trial01', fs=128, interval=None)"
      ]
     },
     "execution_count": 6,
     "metadata": {},
     "output_type": "execute_result"
    }
   ],
   "execution_count": 6
  },
  {
   "metadata": {},
   "cell_type": "code",
   "outputs": [],
   "execution_count": null,
   "source": "",
   "id": "52ecd5b9679113e9"
  }
 ],
 "metadata": {
  "kernelspec": {
   "display_name": "Python 3",
   "language": "python",
   "name": "python3"
  },
  "language_info": {
   "codemirror_mode": {
    "name": "ipython",
    "version": 2
   },
   "file_extension": ".py",
   "mimetype": "text/x-python",
   "name": "python",
   "nbconvert_exporter": "python",
   "pygments_lexer": "ipython2",
   "version": "2.7.6"
  }
 },
 "nbformat": 4,
 "nbformat_minor": 5
}
