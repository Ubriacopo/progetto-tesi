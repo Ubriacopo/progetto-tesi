{
 "cells": [
  {
   "cell_type": "code",
   "id": "initial_id",
   "metadata": {
    "collapsed": true,
    "ExecuteTime": {
     "end_time": "2025-09-10T16:34:21.619468Z",
     "start_time": "2025-09-10T16:34:18.746138Z"
    }
   },
   "source": [
    "from dataset import AgnosticEmbeddingsReadyPdSpecMediaDataset\n",
    "\n",
    "ds = AgnosticEmbeddingsReadyPdSpecMediaDataset(\n",
    "    dataset_spec_file=\"../../resources/AMIGOS/processed/spec.csv\"\n",
    ")"
   ],
   "outputs": [
    {
     "name": "stderr",
     "output_type": "stream",
     "text": [
      "/home/jacopo/PycharmProjects/progetto-tesi/.venv/lib/python3.12/site-packages/torch/cuda/__init__.py:174: UserWarning: CUDA initialization: CUDA unknown error - this may be due to an incorrectly set up environment, e.g. changing env variable CUDA_VISIBLE_DEVICES after program start. Setting the available devices to be zero. (Triggered internally at /pytorch/c10/cuda/CUDAFunctions.cpp:109.)\n",
      "  return torch._C._cuda_getDeviceCount() > 0\n"
     ]
    }
   ],
   "execution_count": 1
  },
  {
   "metadata": {
    "ExecuteTime": {
     "end_time": "2025-09-10T16:34:34.561179Z",
     "start_time": "2025-09-10T16:34:34.557655Z"
    }
   },
   "cell_type": "code",
   "source": "ds[0].to_dict()",
   "id": "582b9a485fd33bfb",
   "outputs": [
    {
     "data": {
      "text/plain": [
       "{'eid': 'P01_31',\n",
       " 'eeg': {'file_path': '/P01_31_raw.fif',\n",
       "  'eid': 'P01_31_0',\n",
       "  'fs': 128,\n",
       "  'interval': (0, 8),\n",
       "  'classname': 'EEG'},\n",
       " 'vid': {'file_path': '/P01_31/P01_31_0.mp4',\n",
       "  'eid': 'P01_31_0',\n",
       "  'fps': 25.0,\n",
       "  'resolution': (260, 260),\n",
       "  'interval': (0, 8),\n",
       "  'classname': 'Video'},\n",
       " 'aud': {'file_path': '/P01_31/P01_31_0.wav',\n",
       "  'eid': 'P01_31_0',\n",
       "  'fs': 44100,\n",
       "  'interval': (0, 8),\n",
       "  'classname': 'Audio'}}"
      ]
     },
     "execution_count": 3,
     "metadata": {},
     "output_type": "execute_result"
    }
   ],
   "execution_count": 3
  },
  {
   "metadata": {},
   "cell_type": "code",
   "outputs": [],
   "execution_count": null,
   "source": "",
   "id": "eb64901cd22967f3"
  }
 ],
 "metadata": {
  "kernelspec": {
   "display_name": "Python 3",
   "language": "python",
   "name": "python3"
  },
  "language_info": {
   "codemirror_mode": {
    "name": "ipython",
    "version": 2
   },
   "file_extension": ".py",
   "mimetype": "text/x-python",
   "name": "python",
   "nbconvert_exporter": "python",
   "pygments_lexer": "ipython2",
   "version": "2.7.6"
  }
 },
 "nbformat": 4,
 "nbformat_minor": 5
}
