{
 "cells": [
  {
   "cell_type": "code",
   "id": "initial_id",
   "metadata": {
    "collapsed": true,
    "ExecuteTime": {
     "end_time": "2025-09-15T17:46:36.635236Z",
     "start_time": "2025-09-15T17:46:33.499810Z"
    }
   },
   "source": [
    "from dataset import AgnosticEmbeddingsReadyPdSpecMediaDataset\n",
    "\n",
    "ds = AgnosticEmbeddingsReadyPdSpecMediaDataset(\n",
    "    dataset_spec_file=\"../../resources/AMIGOS/processed-interleaved/spec.csv\",\n",
    "    cache_in_ram=True\n",
    ")"
   ],
   "outputs": [],
   "execution_count": 1
  },
  {
   "metadata": {
    "ExecuteTime": {
     "end_time": "2025-09-15T17:46:38.309038Z",
     "start_time": "2025-09-15T17:46:38.081408Z"
    }
   },
   "cell_type": "code",
   "source": "res = ds[0]",
   "id": "582b9a485fd33bfb",
   "outputs": [],
   "execution_count": 2
  },
  {
   "metadata": {
    "ExecuteTime": {
     "end_time": "2025-09-15T17:46:40.715401Z",
     "start_time": "2025-09-15T17:46:40.707719Z"
    }
   },
   "cell_type": "code",
   "source": "ds",
   "id": "eb64901cd22967f3",
   "outputs": [
    {
     "data": {
      "text/plain": [
       "<dataset.AgnosticEmbeddingsReadyPdSpecMediaDataset at 0x7817495a6d50>"
      ]
     },
     "execution_count": 3,
     "metadata": {},
     "output_type": "execute_result"
    }
   ],
   "execution_count": 3
  },
  {
   "metadata": {},
   "cell_type": "code",
   "source": "ds[12]",
   "id": "ddd1cb8f78ba6fd1",
   "outputs": [],
   "execution_count": null
  },
  {
   "metadata": {
    "ExecuteTime": {
     "end_time": "2025-09-15T17:47:11.890068Z",
     "start_time": "2025-09-15T17:47:11.863778Z"
    }
   },
   "cell_type": "code",
   "source": "ds[12]['eeg'].device",
   "id": "190a98b57c6dd830",
   "outputs": [
    {
     "data": {
      "text/plain": [
       "device(type='cuda', index=0)"
      ]
     },
     "execution_count": 8,
     "metadata": {},
     "output_type": "execute_result"
    }
   ],
   "execution_count": 8
  },
  {
   "metadata": {},
   "cell_type": "code",
   "outputs": [],
   "execution_count": null,
   "source": "",
   "id": "906abfb5ffcefd3"
  }
 ],
 "metadata": {
  "kernelspec": {
   "display_name": "Python 3",
   "language": "python",
   "name": "python3"
  },
  "language_info": {
   "codemirror_mode": {
    "name": "ipython",
    "version": 2
   },
   "file_extension": ".py",
   "mimetype": "text/x-python",
   "name": "python",
   "nbconvert_exporter": "python",
   "pygments_lexer": "ipython2",
   "version": "2.7.6"
  }
 },
 "nbformat": 4,
 "nbformat_minor": 5
}
