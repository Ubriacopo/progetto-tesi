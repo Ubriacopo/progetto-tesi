{
 "cells": [
  {
   "metadata": {
    "ExecuteTime": {
     "end_time": "2025-09-23T15:29:07.697542Z",
     "start_time": "2025-09-23T15:29:05.264082Z"
    }
   },
   "cell_type": "code",
   "source": [
    "from pathlib import Path\n",
    "from common.data.amigos.utils import load_participant_data\n",
    "from common.data.amigos.config import AmigosConfig\n",
    "import mne.io\n",
    "\n",
    "from common.data.eeg.saliency_extractor import EEGFeatureExtractor\n",
    "\n",
    "info = mne.create_info(\n",
    "    ch_names=AmigosConfig.CH_NAMES,\n",
    "    ch_types=AmigosConfig.CH_TYPES,\n",
    "    sfreq=AmigosConfig.original_eeg_fs\n",
    ")\n",
    "participant_data = load_participant_data(Path(\"../../../resources/AMIGOS/pre_processed_py/\"))\n",
    "eeg_data = participant_data[\"P01\"][\"joined_data\"][0]\n",
    "raw = mne.io.RawArray(eeg_data.T, info=info, verbose=False)"
   ],
   "id": "eb96df96e8ffe1ee",
   "outputs": [],
   "execution_count": 1
  },
  {
   "metadata": {},
   "cell_type": "code",
   "source": [
    "extractor = EEGFeatureExtractor(raw)\n",
    "starts = extractor.pick_segments(4, 0.125, bands=((4, 8), (8, 13), (13, 30)))"
   ],
   "id": "b34bb761b6910765",
   "outputs": [],
   "execution_count": null
  },
  {
   "metadata": {
    "ExecuteTime": {
     "end_time": "2025-09-23T15:51:08.727657Z",
     "start_time": "2025-09-23T15:51:08.725431Z"
    }
   },
   "cell_type": "code",
   "source": [
    "from common.data.sampler import FeatureAndRandomLogUniformIntervalsSegmenter\n",
    "\n",
    "feat_seg = FeatureAndRandomLogUniformIntervalsSegmenter(\n",
    "    min_length=1,\n",
    "    max_length=30,\n",
    "    num_segments=20,\n",
    "    extraction_jitter=0,\n",
    "    anchor_identification_hop=0.125\n",
    ")"
   ],
   "id": "f8c4fd87515ef2be",
   "outputs": [],
   "execution_count": 37
  },
  {
   "metadata": {
    "ExecuteTime": {
     "end_time": "2025-09-23T15:51:12.356023Z",
     "start_time": "2025-09-23T15:51:10.023197Z"
    }
   },
   "cell_type": "code",
   "source": [
    "from common.data.eeg import EEG\n",
    "import numpy as np\n",
    "\n",
    "r = feat_seg.compute_segments(EEG(data=raw, eid=\"1\", fs=128))\n",
    "a = np.array(r)\n",
    "\n",
    "np.diff(a)"
   ],
   "id": "48f5f1d70ea89e93",
   "outputs": [
    {
     "name": "stdout",
     "output_type": "stream",
     "text": [
      "Finding segments below or above PTP threshold.\n",
      "Filtering raw data in 1 contiguous segment\n",
      "Setting up band-pass filter from 30 - 45 Hz\n",
      "\n",
      "FIR filter parameters\n",
      "---------------------\n",
      "Designing a one-pass, zero-phase, non-causal bandpass filter:\n",
      "- Windowed time-domain design (firwin) method\n",
      "- Hamming window with 0.0194 passband ripple and 53 dB stopband attenuation\n",
      "- Lower passband edge: 30.00\n",
      "- Lower transition bandwidth: 7.50 Hz (-6 dB cutoff frequency: 26.25 Hz)\n",
      "- Upper passband edge: 45.00 Hz\n",
      "- Upper transition bandwidth: 11.25 Hz (-6 dB cutoff frequency: 50.62 Hz)\n",
      "- Filter length: 57 samples (0.445 s)\n",
      "\n",
      "Setting up low-pass filter at 4 Hz\n",
      "\n",
      "FIR filter parameters\n",
      "---------------------\n",
      "Designing a one-pass, zero-phase, non-causal lowpass filter:\n",
      "- Windowed time-domain design (firwin) method\n",
      "- Hamming window with 0.0194 passband ripple and 53 dB stopband attenuation\n",
      "- Upper passband edge: 4.00 Hz\n",
      "- Upper transition bandwidth: 2.00 Hz (-6 dB cutoff frequency: 5.00 Hz)\n",
      "- Filter length: 213 samples (1.664 s)\n",
      "\n",
      "We used anchor: 10464 (13).\n",
      "candidate_anchors: [  416  1280  1888  2608  3632  4368  5056  5632  6656  7248  8368  8944\n",
      "  9520 10464 11104 11680].\n",
      "\n",
      "\n",
      "We used anchor: 6656 (8).\n",
      "candidate_anchors: [  416  1280  1888  2608  3632  4368  5056  5632  6656  7248  8368  8944\n",
      "  9520 11104 11680].\n",
      "\n",
      "\n",
      "We used anchor: 8944 (10).\n",
      "candidate_anchors: [  416  1280  1888  2608  3632  4368  5056  5632  7248  8368  8944  9520\n",
      " 11104 11680].\n",
      "\n",
      "\n",
      "We used anchor: 9520 (10).\n",
      "candidate_anchors: [  416  1280  1888  2608  3632  4368  5056  5632  7248  8368  9520 11104\n",
      " 11680].\n",
      "\n",
      "\n",
      "We used anchor: 3632 (4).\n",
      "candidate_anchors: [  416  1280  1888  2608  3632  4368  5056  5632  7248  8368 11104 11680].\n",
      "\n",
      "\n",
      "Check failed for (10450-10708) (S).\n",
      "Problem was iou.\n",
      "It generated from segment/random.\n",
      "\n",
      "\n",
      "We used anchor: 2608 (3).\n",
      "candidate_anchors: [  416  1280  1888  2608  4368  5056  5632  7248  8368 11104 11680].\n",
      "\n",
      "\n",
      "Check failed for (8794-10405) (M).\n",
      "Problem was iou.\n",
      "It generated from segment/random.\n",
      "\n",
      "\n",
      "Check failed for (2756-4490) (M).\n",
      "Problem was iou.\n",
      "It generated from segment/random.\n",
      "\n",
      "\n",
      "Check failed for (3639-5373) (M).\n",
      "Problem was iou.\n",
      "It generated from segment/random.\n",
      "\n",
      "\n"
     ]
    },
    {
     "data": {
      "text/plain": [
       "array([[ 4.       ],\n",
       "       [ 4.       ],\n",
       "       [ 4.       ],\n",
       "       [ 4.       ],\n",
       "       [ 1.78125  ],\n",
       "       [ 1.9140625],\n",
       "       [ 4.       ],\n",
       "       [ 2.015625 ],\n",
       "       [ 4.       ],\n",
       "       [ 2.53125  ],\n",
       "       [ 2.9453125],\n",
       "       [ 5.25     ],\n",
       "       [ 8.609375 ],\n",
       "       [ 9.75     ],\n",
       "       [10.4921875],\n",
       "       [12.1875   ],\n",
       "       [12.5859375],\n",
       "       [13.546875 ],\n",
       "       [21.2890625],\n",
       "       [27.28125  ]])"
      ]
     },
     "execution_count": 38,
     "metadata": {},
     "output_type": "execute_result"
    }
   ],
   "execution_count": 38
  },
  {
   "metadata": {
    "ExecuteTime": {
     "end_time": "2025-09-23T15:51:13.880351Z",
     "start_time": "2025-09-23T15:51:13.877512Z"
    }
   },
   "cell_type": "code",
   "source": [
    "# Total coverage:\n",
    "unique_coverage = 0\n",
    "duration = raw.duration\n",
    "\n",
    "taken_quarter_seconds = np.array([0 for i in range(int(duration * 4))])\n",
    "for start, stop in a:\n",
    "    start = int(start * 4)\n",
    "    stop = int(stop * 4)\n",
    "    taken_quarter_seconds[start:stop] += 1\n",
    "\n",
    "unique_coverage = len(taken_quarter_seconds[taken_quarter_seconds > 0]) / (raw.duration * 4)\n",
    "print(unique_coverage)  # We use 95% of the original signal"
   ],
   "id": "b5d1f0b2837a98d8",
   "outputs": [
    {
     "name": "stdout",
     "output_type": "stream",
     "text": [
      "0.9292433537832311\n"
     ]
    }
   ],
   "execution_count": 39
  },
  {
   "metadata": {
    "ExecuteTime": {
     "end_time": "2025-09-23T15:51:15.009392Z",
     "start_time": "2025-09-23T15:51:15.006225Z"
    }
   },
   "cell_type": "code",
   "source": [
    "# Coverage of SHORT segments:\n",
    "unique_coverage = 0\n",
    "duration = raw.duration\n",
    "\n",
    "taken_quarter_seconds = np.array([0 for i in range(int(duration * 4))])\n",
    "for start, stop in a[a[:, 1] - a[:, 0] < 4.1]:\n",
    "    start = int(start * 4)\n",
    "    stop = int(stop * 4)\n",
    "    taken_quarter_seconds[start:stop] += 1\n",
    "\n",
    "unique_coverage = len(taken_quarter_seconds[taken_quarter_seconds > 0]) / (raw.duration * 4)\n",
    "print(unique_coverage)  # We use 95% of the original signal"
   ],
   "id": "58df6a17cc15b22",
   "outputs": [
    {
     "name": "stdout",
     "output_type": "stream",
     "text": [
      "0.369079754601227\n"
     ]
    }
   ],
   "execution_count": 40
  },
  {
   "metadata": {},
   "cell_type": "code",
   "outputs": [],
   "execution_count": null,
   "source": "",
   "id": "19adde31fc19b7a2"
  }
 ],
 "metadata": {
  "kernelspec": {
   "display_name": "Python 3",
   "language": "python",
   "name": "python3"
  },
  "language_info": {
   "codemirror_mode": {
    "name": "ipython",
    "version": 2
   },
   "file_extension": ".py",
   "mimetype": "text/x-python",
   "name": "python",
   "nbconvert_exporter": "python",
   "pygments_lexer": "ipython2",
   "version": "2.7.6"
  }
 },
 "nbformat": 4,
 "nbformat_minor": 5
}
