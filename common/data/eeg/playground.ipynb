{
 "cells": [
  {
   "metadata": {
    "ExecuteTime": {
     "end_time": "2025-09-22T20:09:06.746489Z",
     "start_time": "2025-09-22T20:09:04.335866Z"
    }
   },
   "cell_type": "code",
   "source": [
    "from pathlib import Path\n",
    "from common.data.amigos.utils import load_participant_data\n",
    "from common.data.amigos.config import AmigosConfig\n",
    "import mne.io\n",
    "\n",
    "from common.data.eeg.saliency_extractor import EEGFeatureExtractor\n",
    "\n",
    "info = mne.create_info(\n",
    "    ch_names=AmigosConfig.CH_NAMES,\n",
    "    ch_types=AmigosConfig.CH_TYPES,\n",
    "    sfreq=AmigosConfig.original_eeg_fs\n",
    ")\n",
    "participant_data = load_participant_data(Path(\"../../../resources/AMIGOS/pre_processed_py/\"))\n",
    "eeg_data = participant_data[\"P01\"][\"joined_data\"][0]\n",
    "raw = mne.io.RawArray(eeg_data.T, info=info, verbose=False)"
   ],
   "id": "eb96df96e8ffe1ee",
   "outputs": [],
   "execution_count": 1
  },
  {
   "metadata": {},
   "cell_type": "code",
   "source": "raw",
   "id": "a0c6a85c7efd4d23",
   "outputs": [],
   "execution_count": null
  },
  {
   "metadata": {},
   "cell_type": "code",
   "source": [
    "extractor = EEGFeatureExtractor(raw)\n",
    "starts = extractor.pick_segments(4, 0.125, bands=((4, 8), (8, 13), (13, 30)))"
   ],
   "id": "b34bb761b6910765",
   "outputs": [],
   "execution_count": null
  },
  {
   "metadata": {},
   "cell_type": "code",
   "source": "starts",
   "id": "4fefa735bb2fdf91",
   "outputs": [],
   "execution_count": null
  },
  {
   "metadata": {},
   "cell_type": "code",
   "source": "len(starts)",
   "id": "6158cada0b521334",
   "outputs": [],
   "execution_count": null
  },
  {
   "metadata": {
    "ExecuteTime": {
     "end_time": "2025-09-22T20:09:07.150027Z",
     "start_time": "2025-09-22T20:09:07.144403Z"
    }
   },
   "cell_type": "code",
   "source": [
    "from common.data.sampler import FeatureAndRandomLogUniformIntervalsSegmenter\n",
    "\n",
    "feat_seg = FeatureAndRandomLogUniformIntervalsSegmenter(\n",
    "    min_length=1,\n",
    "    max_length=30,\n",
    "    num_segments=20,\n",
    "    extraction_jitter=0,\n",
    "    anchor_identification_hop=0.125\n",
    ")"
   ],
   "id": "f8c4fd87515ef2be",
   "outputs": [],
   "execution_count": 2
  },
  {
   "metadata": {
    "ExecuteTime": {
     "end_time": "2025-09-22T20:10:15.295048Z",
     "start_time": "2025-09-22T20:10:12.877205Z"
    }
   },
   "cell_type": "code",
   "source": [
    "from common.data.eeg import EEG\n",
    "\n",
    "r = feat_seg.compute_segments(EEG(data=raw, eid=\"1\", fs=128))"
   ],
   "id": "48f5f1d70ea89e93",
   "outputs": [
    {
     "name": "stdout",
     "output_type": "stream",
     "text": [
      "Finding segments below or above PTP threshold.\n",
      "Filtering raw data in 1 contiguous segment\n",
      "Setting up band-pass filter from 30 - 45 Hz\n",
      "\n",
      "FIR filter parameters\n",
      "---------------------\n",
      "Designing a one-pass, zero-phase, non-causal bandpass filter:\n",
      "- Windowed time-domain design (firwin) method\n",
      "- Hamming window with 0.0194 passband ripple and 53 dB stopband attenuation\n",
      "- Lower passband edge: 30.00\n",
      "- Lower transition bandwidth: 7.50 Hz (-6 dB cutoff frequency: 26.25 Hz)\n",
      "- Upper passband edge: 45.00 Hz\n",
      "- Upper transition bandwidth: 11.25 Hz (-6 dB cutoff frequency: 50.62 Hz)\n",
      "- Filter length: 57 samples (0.445 s)\n",
      "\n",
      "Setting up low-pass filter at 4 Hz\n",
      "\n",
      "FIR filter parameters\n",
      "---------------------\n",
      "Designing a one-pass, zero-phase, non-causal lowpass filter:\n",
      "- Windowed time-domain design (firwin) method\n",
      "- Hamming window with 0.0194 passband ripple and 53 dB stopband attenuation\n",
      "- Upper passband edge: 4.00 Hz\n",
      "- Upper transition bandwidth: 2.00 Hz (-6 dB cutoff frequency: 5.00 Hz)\n",
      "- Filter length: 213 samples (1.664 s)\n",
      "\n",
      "Something went wrong for interval 25.728151170436984 and duration will be discarded\n",
      "Something went wrong for interval 27.179488691552145 and duration will be discarded\n",
      "Something went wrong for interval 29.173253408267062 and duration will be discarded\n"
     ]
    }
   ],
   "execution_count": 5
  },
  {
   "metadata": {
    "ExecuteTime": {
     "end_time": "2025-09-22T20:12:53.658731Z",
     "start_time": "2025-09-22T20:12:53.656177Z"
    }
   },
   "cell_type": "code",
   "source": "len(r)",
   "id": "712872f3237aed2",
   "outputs": [
    {
     "data": {
      "text/plain": [
       "17"
      ]
     },
     "execution_count": 21,
     "metadata": {},
     "output_type": "execute_result"
    }
   ],
   "execution_count": 21
  },
  {
   "metadata": {
    "ExecuteTime": {
     "end_time": "2025-09-22T20:10:44.077370Z",
     "start_time": "2025-09-22T20:10:44.075341Z"
    }
   },
   "cell_type": "code",
   "source": [
    "import numpy as np\n",
    "\n",
    "a = np.array(r)"
   ],
   "id": "b5d1f0b2837a98d8",
   "outputs": [],
   "execution_count": 8
  },
  {
   "metadata": {
    "ExecuteTime": {
     "end_time": "2025-09-22T20:10:51.163704Z",
     "start_time": "2025-09-22T20:10:51.160833Z"
    }
   },
   "cell_type": "code",
   "source": "a",
   "id": "92acfe80694fae04",
   "outputs": [
    {
     "data": {
      "text/plain": [
       "array([[22.8046875, 24.046875 ],\n",
       "       [26.0390625, 27.296875 ],\n",
       "       [34.125    , 38.125    ],\n",
       "       [ 3.25     ,  7.25     ],\n",
       "       [10.       , 14.       ],\n",
       "       [14.75     , 18.75     ],\n",
       "       [74.375    , 78.375    ],\n",
       "       [65.375    , 69.375    ],\n",
       "       [91.25     , 95.25     ],\n",
       "       [20.6328125, 26.2421875],\n",
       "       [78.9609375, 86.1875   ],\n",
       "       [10.8203125, 22.6640625],\n",
       "       [31.4453125, 47.0703125],\n",
       "       [45.734375 , 61.578125 ],\n",
       "       [17.1328125, 36.2578125],\n",
       "       [ 0.859375 , 22.9921875],\n",
       "       [64.6484375, 88.1875   ]])"
      ]
     },
     "execution_count": 10,
     "metadata": {},
     "output_type": "execute_result"
    }
   ],
   "execution_count": 10
  },
  {
   "metadata": {
    "ExecuteTime": {
     "end_time": "2025-09-22T20:12:09.582747Z",
     "start_time": "2025-09-22T20:12:09.564842Z"
    }
   },
   "cell_type": "code",
   "source": "a.diff(axis=1) / 2",
   "id": "700a048a96d23e00",
   "outputs": [
    {
     "ename": "AttributeError",
     "evalue": "'numpy.ndarray' object has no attribute 'diff'",
     "output_type": "error",
     "traceback": [
      "\u001B[31m---------------------------------------------------------------------------\u001B[39m",
      "\u001B[31mAttributeError\u001B[39m                            Traceback (most recent call last)",
      "\u001B[36mCell\u001B[39m\u001B[36m \u001B[39m\u001B[32mIn[19]\u001B[39m\u001B[32m, line 1\u001B[39m\n\u001B[32m----> \u001B[39m\u001B[32m1\u001B[39m \u001B[43ma\u001B[49m\u001B[43m.\u001B[49m\u001B[43mdiff\u001B[49m(axis=\u001B[32m1\u001B[39m) / \u001B[32m2\u001B[39m\n",
      "\u001B[31mAttributeError\u001B[39m: 'numpy.ndarray' object has no attribute 'diff'"
     ]
    }
   ],
   "execution_count": 19
  },
  {
   "metadata": {
    "ExecuteTime": {
     "end_time": "2025-09-22T20:12:18.432265Z",
     "start_time": "2025-09-22T20:12:18.428622Z"
    }
   },
   "cell_type": "code",
   "source": "np.diff(a)",
   "id": "56e973586e7d1c9c",
   "outputs": [
    {
     "data": {
      "text/plain": [
       "array([[ 1.2421875],\n",
       "       [ 1.2578125],\n",
       "       [ 4.       ],\n",
       "       [ 4.       ],\n",
       "       [ 4.       ],\n",
       "       [ 4.       ],\n",
       "       [ 4.       ],\n",
       "       [ 4.       ],\n",
       "       [ 4.       ],\n",
       "       [ 5.609375 ],\n",
       "       [ 7.2265625],\n",
       "       [11.84375  ],\n",
       "       [15.625    ],\n",
       "       [15.84375  ],\n",
       "       [19.125    ],\n",
       "       [22.1328125],\n",
       "       [23.5390625]])"
      ]
     },
     "execution_count": 20,
     "metadata": {},
     "output_type": "execute_result"
    }
   ],
   "execution_count": 20
  },
  {
   "metadata": {},
   "cell_type": "code",
   "outputs": [],
   "execution_count": null,
   "source": "",
   "id": "1cfd38de7e93ea7a"
  }
 ],
 "metadata": {
  "kernelspec": {
   "display_name": "Python 3",
   "language": "python",
   "name": "python3"
  },
  "language_info": {
   "codemirror_mode": {
    "name": "ipython",
    "version": 2
   },
   "file_extension": ".py",
   "mimetype": "text/x-python",
   "name": "python",
   "nbconvert_exporter": "python",
   "pygments_lexer": "ipython2",
   "version": "2.7.6"
  }
 },
 "nbformat": 4,
 "nbformat_minor": 5
}
