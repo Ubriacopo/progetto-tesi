{
 "cells": [
  {
   "metadata": {
    "ExecuteTime": {
     "end_time": "2025-09-23T16:28:27.163283Z",
     "start_time": "2025-09-23T16:28:24.626055Z"
    }
   },
   "cell_type": "code",
   "source": [
    "from pathlib import Path\n",
    "from common.data.amigos.utils import load_participant_data\n",
    "from common.data.amigos.config import AmigosConfig\n",
    "import mne.io\n",
    "\n",
    "from common.data.eeg.saliency_extractor import EEGFeatureExtractor\n",
    "\n",
    "info = mne.create_info(\n",
    "    ch_names=AmigosConfig.CH_NAMES,\n",
    "    ch_types=AmigosConfig.CH_TYPES,\n",
    "    sfreq=AmigosConfig.original_eeg_fs\n",
    ")\n",
    "participant_data = load_participant_data(Path(\"../../../resources/AMIGOS/pre_processed_py/\"))\n",
    "eeg_data = participant_data[\"P01\"][\"joined_data\"][0]\n",
    "raw = mne.io.RawArray(eeg_data.T, info=info, verbose=False)"
   ],
   "id": "eb96df96e8ffe1ee",
   "outputs": [],
   "execution_count": 1
  },
  {
   "metadata": {},
   "cell_type": "code",
   "source": [
    "extractor = EEGFeatureExtractor(raw)\n",
    "starts = extractor.pick_segments(\n",
    "    4, 0.125, bands=((4, 8), (8, 13), (13, 30)), band_weights=(0.4, 0.5, 0.4)\n",
    ")"
   ],
   "id": "b34bb761b6910765",
   "outputs": [],
   "execution_count": null
  },
  {
   "metadata": {
    "ExecuteTime": {
     "end_time": "2025-09-23T16:28:27.579290Z",
     "start_time": "2025-09-23T16:28:27.573026Z"
    }
   },
   "cell_type": "code",
   "source": [
    "from common.data.sampler import FeatureAndRandomLogUniformIntervalsSegmenter\n",
    "\n",
    "feat_seg = FeatureAndRandomLogUniformIntervalsSegmenter(\n",
    "    min_length=1,\n",
    "    max_length=30,\n",
    "    num_segments=20,\n",
    "    extraction_jitter=0,\n",
    "    anchor_identification_hop=0.125\n",
    ")"
   ],
   "id": "f8c4fd87515ef2be",
   "outputs": [],
   "execution_count": 2
  },
  {
   "metadata": {
    "ExecuteTime": {
     "end_time": "2025-09-23T16:28:30.721069Z",
     "start_time": "2025-09-23T16:28:28.324177Z"
    }
   },
   "cell_type": "code",
   "source": [
    "from common.data.eeg import EEG\n",
    "import numpy as np\n",
    "\n",
    "r = feat_seg.compute_segments(EEG(data=raw, eid=\"1\", fs=128))\n",
    "a = np.array(r)\n",
    "\n",
    "np.diff(a)"
   ],
   "id": "48f5f1d70ea89e93",
   "outputs": [
    {
     "name": "stdout",
     "output_type": "stream",
     "text": [
      "Finding segments below or above PTP threshold.\n",
      "Filtering raw data in 1 contiguous segment\n",
      "Setting up band-pass filter from 30 - 45 Hz\n",
      "\n",
      "FIR filter parameters\n",
      "---------------------\n",
      "Designing a one-pass, zero-phase, non-causal bandpass filter:\n",
      "- Windowed time-domain design (firwin) method\n",
      "- Hamming window with 0.0194 passband ripple and 53 dB stopband attenuation\n",
      "- Lower passband edge: 30.00\n",
      "- Lower transition bandwidth: 7.50 Hz (-6 dB cutoff frequency: 26.25 Hz)\n",
      "- Upper passband edge: 45.00 Hz\n",
      "- Upper transition bandwidth: 11.25 Hz (-6 dB cutoff frequency: 50.62 Hz)\n",
      "- Filter length: 57 samples (0.445 s)\n",
      "\n",
      "Setting up low-pass filter at 4 Hz\n",
      "\n",
      "FIR filter parameters\n",
      "---------------------\n",
      "Designing a one-pass, zero-phase, non-causal lowpass filter:\n",
      "- Windowed time-domain design (firwin) method\n",
      "- Hamming window with 0.0194 passband ripple and 53 dB stopband attenuation\n",
      "- Upper passband edge: 4.00 Hz\n",
      "- Upper transition bandwidth: 2.00 Hz (-6 dB cutoff frequency: 5.00 Hz)\n",
      "- Filter length: 213 samples (1.664 s)\n",
      "\n",
      "We used anchor: 7248 (9).\n",
      "candidate_anchors: [  416  1280  1872  2608  3392  3984  4800  5632  6656  7248  8368  8944\n",
      "  9520 10464 11104 11680].\n",
      "\n",
      "\n",
      "We used anchor: 11104 (13).\n",
      "candidate_anchors: [  416  1280  1872  2608  3392  3984  4800  5632  6656  8368  8944  9520\n",
      " 10464 11104 11680].\n",
      "\n",
      "\n",
      "We used anchor: 3984 (5).\n",
      "candidate_anchors: [  416  1280  1872  2608  3392  3984  4800  5632  6656  8368  8944  9520\n",
      " 10464 11680].\n",
      "\n",
      "\n",
      "We used anchor: 3392 (4).\n",
      "candidate_anchors: [  416  1280  1872  2608  3392  4800  5632  6656  8368  8944  9520 10464\n",
      " 11680].\n",
      "\n",
      "\n",
      "We used anchor: 8368 (7).\n",
      "candidate_anchors: [  416  1280  1872  2608  4800  5632  6656  8368  8944  9520 10464 11680].\n",
      "\n",
      "\n",
      "Check failed for (2255-3189) (M).\n",
      "Problem was: IoU.\n",
      "It generated from segment/random.\n",
      "\n",
      "\n",
      "Check failed for (1591-2525) (M).\n",
      "Problem was: IoU.\n",
      "It generated from segment/random.\n",
      "\n",
      "\n",
      "Check failed for (8080-9397) (M).\n",
      "Problem was: IoU.\n",
      "It generated from segment/random.\n",
      "\n",
      "\n",
      "Check failed for (8790-10107) (M).\n",
      "Problem was: IoU.\n",
      "It generated from segment/random.\n",
      "\n",
      "\n",
      "Check failed for (6691-8008) (M).\n",
      "Problem was: IoU.\n",
      "It generated from segment/random.\n",
      "\n",
      "\n",
      "Check failed for (2306-3623) (M).\n",
      "Problem was: IoU.\n",
      "It generated from segment/random.\n",
      "\n",
      "\n",
      "Check failed for (1273-2590) (M).\n",
      "Problem was: IoU.\n",
      "It generated from segment/random.\n",
      "\n",
      "\n",
      "Check failed for (1182-2499) (M).\n",
      "Problem was: IoU.\n",
      "It generated from segment/random.\n",
      "\n",
      "\n",
      "Check failed for (2732-4049) (M).\n",
      "Problem was: IoU.\n",
      "It generated from segment/random.\n",
      "\n",
      "\n",
      "Check failed for (4306-5623) (M).\n",
      "Problem was: IoU.\n",
      "It generated from segment/random.\n",
      "\n",
      "\n",
      "Check failed for (1088-2405) (M).\n",
      "Problem was: IoU.\n",
      "It generated from segment/random.\n",
      "\n",
      "\n",
      "Check failed for (8197-10010) (M).\n",
      "Problem was: IoU.\n",
      "It generated from segment/random.\n",
      "\n",
      "\n",
      "Check failed for (2070-4453) (L).\n",
      "Problem was: IoU.\n",
      "It generated from segment/random.\n",
      "\n",
      "\n",
      "Check failed for (6021-9744) (L).\n",
      "Problem was: IoU.\n",
      "It generated from segment/random.\n",
      "\n",
      "\n",
      "Check failed for (6064-9787) (L).\n",
      "Problem was: IoU.\n",
      "It generated from segment/random.\n",
      "\n",
      "\n",
      "Check failed for (3084-6807) (L).\n",
      "Problem was: IoU.\n",
      "It generated from segment/random.\n",
      "\n",
      "\n",
      "Check failed for (1162-4885) (L).\n",
      "Problem was: IoU.\n",
      "It generated from segment/random.\n",
      "\n",
      "\n",
      "Check failed for (4487-8210) (L).\n",
      "Problem was: IoU.\n",
      "It generated from segment/random.\n",
      "\n",
      "\n",
      "Check failed for (1138-4861) (L).\n",
      "Problem was: IoU.\n",
      "It generated from segment/random.\n",
      "\n",
      "\n",
      "Check failed for (5700-9423) (L).\n",
      "Problem was: IoU.\n",
      "It generated from segment/random.\n",
      "\n",
      "\n",
      "Check failed for (3165-6888) (L).\n",
      "Problem was: IoU.\n",
      "It generated from segment/random.\n",
      "\n",
      "\n",
      "Check failed for (2722-6445) (L).\n",
      "Problem was: IoU.\n",
      "It generated from segment/random.\n",
      "\n",
      "\n",
      "Check failed for (3205-6928) (L).\n",
      "Problem was: IoU.\n",
      "It generated from segment/random.\n",
      "\n",
      "\n",
      "Check failed for (331-4054) (L).\n",
      "Problem was: IoU.\n",
      "It generated from segment/random.\n",
      "\n",
      "\n",
      "Something went wrong for interval 29.08864498732038 and duration will be discarded\n"
     ]
    },
    {
     "data": {
      "text/plain": [
       "array([[ 4.       ],\n",
       "       [ 4.       ],\n",
       "       [ 1.828125 ],\n",
       "       [ 4.       ],\n",
       "       [ 2.6015625],\n",
       "       [ 4.       ],\n",
       "       [ 4.       ],\n",
       "       [ 3.4375   ],\n",
       "       [ 5.078125 ],\n",
       "       [ 6.34375  ],\n",
       "       [ 7.2578125],\n",
       "       [ 7.296875 ],\n",
       "       [ 7.6328125],\n",
       "       [ 9.078125 ],\n",
       "       [10.2890625],\n",
       "       [14.1640625],\n",
       "       [18.6171875],\n",
       "       [21.078125 ],\n",
       "       [21.3828125]])"
      ]
     },
     "execution_count": 3,
     "metadata": {},
     "output_type": "execute_result"
    }
   ],
   "execution_count": 3
  },
  {
   "metadata": {
    "ExecuteTime": {
     "end_time": "2025-09-23T16:29:50.620253Z",
     "start_time": "2025-09-23T16:29:50.617177Z"
    }
   },
   "cell_type": "code",
   "source": "a",
   "id": "c25525d4e1db6ab7",
   "outputs": [
    {
     "data": {
      "text/plain": [
       "array([[56.625    , 60.625    ],\n",
       "       [86.75     , 90.75     ],\n",
       "       [39.3203125, 41.1484375],\n",
       "       [31.125    , 35.125    ],\n",
       "       [61.5234375, 64.125    ],\n",
       "       [26.5      , 30.5      ],\n",
       "       [65.375    , 69.375    ],\n",
       "       [44.03125  , 47.46875  ],\n",
       "       [15.7578125, 20.8359375],\n",
       "       [68.0078125, 74.3515625],\n",
       "       [35.40625  , 42.6640625],\n",
       "       [50.609375 , 57.90625  ],\n",
       "       [ 7.4453125, 15.078125 ],\n",
       "       [17.34375  , 26.421875 ],\n",
       "       [39.8359375, 50.125    ],\n",
       "       [21.1796875, 35.34375  ],\n",
       "       [63.7890625, 82.40625  ],\n",
       "       [35.4921875, 56.5703125],\n",
       "       [14.6015625, 35.984375 ]])"
      ]
     },
     "execution_count": 6,
     "metadata": {},
     "output_type": "execute_result"
    }
   ],
   "execution_count": 6
  },
  {
   "metadata": {
    "ExecuteTime": {
     "end_time": "2025-09-23T16:28:31.889021Z",
     "start_time": "2025-09-23T16:28:31.885894Z"
    }
   },
   "cell_type": "code",
   "source": [
    "# Total coverage:\n",
    "unique_coverage = 0\n",
    "duration = raw.duration\n",
    "\n",
    "taken_quarter_seconds = np.array([0 for i in range(int(duration * 4))])\n",
    "for start, stop in a:\n",
    "    start = int(start * 4)\n",
    "    stop = int(stop * 4)\n",
    "    taken_quarter_seconds[start:stop] += 1\n",
    "\n",
    "unique_coverage = len(taken_quarter_seconds[taken_quarter_seconds > 0]) / (raw.duration * 4)\n",
    "print(unique_coverage)  # We use 95% of the original signal"
   ],
   "id": "b5d1f0b2837a98d8",
   "outputs": [
    {
     "name": "stdout",
     "output_type": "stream",
     "text": [
      "0.8166871165644172\n"
     ]
    }
   ],
   "execution_count": 4
  },
  {
   "metadata": {
    "ExecuteTime": {
     "end_time": "2025-09-23T16:28:33.029369Z",
     "start_time": "2025-09-23T16:28:33.026066Z"
    }
   },
   "cell_type": "code",
   "source": [
    "# Coverage of SHORT segments:\n",
    "unique_coverage = 0\n",
    "duration = raw.duration\n",
    "\n",
    "taken_quarter_seconds = np.array([0 for i in range(int(duration * 4))])\n",
    "for start, stop in a[a[:, 1] - a[:, 0] < 4.1]:\n",
    "    start = int(start * 4)\n",
    "    stop = int(stop * 4)\n",
    "    taken_quarter_seconds[start:stop] += 1\n",
    "\n",
    "unique_coverage = len(taken_quarter_seconds[taken_quarter_seconds > 0]) / (raw.duration * 4)\n",
    "print(unique_coverage)  # We use 95% of the original signal"
   ],
   "id": "58df6a17cc15b22",
   "outputs": [
    {
     "name": "stdout",
     "output_type": "stream",
     "text": [
      "0.2879345603271984\n"
     ]
    }
   ],
   "execution_count": 5
  },
  {
   "metadata": {},
   "cell_type": "code",
   "source": "",
   "id": "19adde31fc19b7a2",
   "outputs": [],
   "execution_count": null
  }
 ],
 "metadata": {
  "kernelspec": {
   "display_name": "Python 3",
   "language": "python",
   "name": "python3"
  },
  "language_info": {
   "codemirror_mode": {
    "name": "ipython",
    "version": 2
   },
   "file_extension": ".py",
   "mimetype": "text/x-python",
   "name": "python",
   "nbconvert_exporter": "python",
   "pygments_lexer": "ipython2",
   "version": "2.7.6"
  }
 },
 "nbformat": 4,
 "nbformat_minor": 5
}
