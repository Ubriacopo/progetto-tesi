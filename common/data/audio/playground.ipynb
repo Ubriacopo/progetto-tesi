{
 "cells": [
  {
   "metadata": {
    "ExecuteTime": {
     "end_time": "2025-09-12T17:00:07.630765Z",
     "start_time": "2025-09-12T17:00:03.563399Z"
    }
   },
   "cell_type": "code",
   "source": [
    "from torchvision.transforms import v2\n",
    "from common.model.embedding.predefined.w2vbert import W2VBertFoundationEmbedder\n",
    "from torchaudio.transforms import Resample\n",
    "from torch import nn\n",
    "import common.data.audio.transforms as audtransforms\n",
    "\n",
    "transform = nn.Sequential(\n",
    "    audtransforms.AudioSequenceResampler(\n",
    "        original_fs=44100, sequence_duration_seconds=2, channels_first=True,\n",
    "        resampler=nn.Sequential(\n",
    "            v2.Lambda(lambda x: x.T),\n",
    "            Resample(44100, 16000),\n",
    "            v2.Lambda(lambda x: x.T),\n",
    "            audtransforms.AudioZeroMasking(2, 16000, channels_first=False)),\n",
    "    ),\n",
    "    audtransforms.W2VBertFeatureExtractorTransform(force_time_seq=True),\n",
    "    W2VBertFoundationEmbedder()\n",
    ")"
   ],
   "id": "7974a2f08d666a9a",
   "outputs": [
    {
     "name": "stderr",
     "output_type": "stream",
     "text": [
      "/home/jacopo/PycharmProjects/progetto-tesi/.venv/lib/python3.12/site-packages/torch/cuda/__init__.py:174: UserWarning: CUDA initialization: CUDA unknown error - this may be due to an incorrectly set up environment, e.g. changing env variable CUDA_VISIBLE_DEVICES after program start. Setting the available devices to be zero. (Triggered internally at /pytorch/c10/cuda/CUDAFunctions.cpp:109.)\n",
      "  return torch._C._cuda_getDeviceCount() > 0\n"
     ]
    }
   ],
   "execution_count": 1
  },
  {
   "metadata": {
    "ExecuteTime": {
     "end_time": "2025-09-12T17:00:07.663168Z",
     "start_time": "2025-09-12T17:00:07.634287Z"
    }
   },
   "cell_type": "code",
   "source": [
    "import torch\n",
    "\n",
    "# Video di 11s\n",
    "o = torch.randn((17, 352800))"
   ],
   "id": "b4752cfbbe1dfca8",
   "outputs": [],
   "execution_count": 2
  },
  {
   "metadata": {
    "ExecuteTime": {
     "end_time": "2025-09-12T17:00:08.546052Z",
     "start_time": "2025-09-12T17:00:07.678371Z"
    }
   },
   "cell_type": "code",
   "source": "out = transform(o)",
   "id": "bd5223ba339cbfc8",
   "outputs": [
    {
     "name": "stderr",
     "output_type": "stream",
     "text": [
      "It is strongly recommended to pass the `sampling_rate` argument to `SeamlessM4TFeatureExtractor()`. Failing to do so can result in silent errors that might be hard to debug.\n"
     ]
    }
   ],
   "execution_count": 3
  },
  {
   "metadata": {
    "ExecuteTime": {
     "end_time": "2025-09-12T17:00:08.601432Z",
     "start_time": "2025-09-12T17:00:08.596836Z"
    }
   },
   "cell_type": "code",
   "source": "out.shape",
   "id": "f41f72017cfadecb",
   "outputs": [
    {
     "data": {
      "text/plain": [
       "torch.Size([4, 99, 1024])"
      ]
     },
     "execution_count": 4,
     "metadata": {},
     "output_type": "execute_result"
    }
   ],
   "execution_count": 4
  },
  {
   "metadata": {
    "ExecuteTime": {
     "end_time": "2025-09-12T17:00:28.756580Z",
     "start_time": "2025-09-12T17:00:18.587906Z"
    }
   },
   "cell_type": "code",
   "source": [
    "o1 = torch.randn((17, 3568000))\n",
    "out1 = transform(o1)\n",
    "out1.shape"
   ],
   "id": "5d98952f74cdcb5b",
   "outputs": [
    {
     "name": "stderr",
     "output_type": "stream",
     "text": [
      "It is strongly recommended to pass the `sampling_rate` argument to `SeamlessM4TFeatureExtractor()`. Failing to do so can result in silent errors that might be hard to debug.\n"
     ]
    },
    {
     "data": {
      "text/plain": [
       "torch.Size([41, 99, 1024])"
      ]
     },
     "execution_count": 6,
     "metadata": {},
     "output_type": "execute_result"
    }
   ],
   "execution_count": 6
  },
  {
   "metadata": {},
   "cell_type": "code",
   "source": "",
   "id": "8497f4bffcf64027",
   "outputs": [],
   "execution_count": null
  }
 ],
 "metadata": {
  "kernelspec": {
   "display_name": "Python 3",
   "language": "python",
   "name": "python3"
  },
  "language_info": {
   "codemirror_mode": {
    "name": "ipython",
    "version": 2
   },
   "file_extension": ".py",
   "mimetype": "text/x-python",
   "name": "python",
   "nbconvert_exporter": "python",
   "pygments_lexer": "ipython2",
   "version": "2.7.6"
  }
 },
 "nbformat": 4,
 "nbformat_minor": 5
}
