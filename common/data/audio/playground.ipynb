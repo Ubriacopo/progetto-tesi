{
 "cells": [
  {
   "metadata": {
    "ExecuteTime": {
     "end_time": "2025-09-12T17:00:07.630765Z",
     "start_time": "2025-09-12T17:00:03.563399Z"
    }
   },
   "cell_type": "code",
   "source": [
    "from torchvision.transforms import v2\n",
    "from common.model.embedding.predefined.w2vbert import W2VBertFoundationEmbedder\n",
    "from torchaudio.transforms import Resample\n",
    "from torch import nn\n",
    "import common.data.audio.transforms as audtransforms\n",
    "import common.data.signal.transforms\n",
    "\n",
    "transform = nn.Sequential(\n",
    "    audtransforms.AudioSequencePartitioning(\n",
    "        fs=44100, sequence_duration_seconds=2, channels_first=True,\n",
    "        resampler=nn.Sequential(\n",
    "            v2.Lambda(lambda x: x.T),\n",
    "            Resample(44100, 16000),\n",
    "            v2.Lambda(lambda x: x.T),\n",
    "            common.data.signal.transforms.SignalZeroMasking(2, 16000, channels_first=False)),\n",
    "    ),\n",
    "    audtransforms.W2VBertFeatureExtractorTransform(force_time_seq=True),\n",
    "    W2VBertFoundationEmbedder()\n",
    ")"
   ],
   "id": "7974a2f08d666a9a",
   "outputs": [
    {
     "name": "stderr",
     "output_type": "stream",
     "text": [
      "/home/jacopo/PycharmProjects/progetto-tesi/.venv/lib/python3.12/site-packages/torch/cuda/__init__.py:174: UserWarning: CUDA initialization: CUDA unknown error - this may be due to an incorrectly set up environment, e.g. changing env variable CUDA_VISIBLE_DEVICES after program start. Setting the available devices to be zero. (Triggered internally at /pytorch/c10/cuda/CUDAFunctions.cpp:109.)\n",
      "  return torch._C._cuda_getDeviceCount() > 0\n"
     ]
    }
   ],
   "execution_count": 1
  },
  {
   "metadata": {
    "ExecuteTime": {
     "end_time": "2025-09-12T17:00:07.663168Z",
     "start_time": "2025-09-12T17:00:07.634287Z"
    }
   },
   "cell_type": "code",
   "source": [
    "import torch\n",
    "\n",
    "# Video di 11s\n",
    "o = torch.randn((17, 352800))"
   ],
   "id": "b4752cfbbe1dfca8",
   "outputs": [],
   "execution_count": 2
  },
  {
   "metadata": {
    "ExecuteTime": {
     "end_time": "2025-09-12T17:00:08.546052Z",
     "start_time": "2025-09-12T17:00:07.678371Z"
    }
   },
   "cell_type": "code",
   "source": "out = transform(o)",
   "id": "bd5223ba339cbfc8",
   "outputs": [
    {
     "name": "stderr",
     "output_type": "stream",
     "text": [
      "It is strongly recommended to pass the `sampling_rate` argument to `SeamlessM4TFeatureExtractor()`. Failing to do so can result in silent errors that might be hard to debug.\n"
     ]
    }
   ],
   "execution_count": 3
  },
  {
   "metadata": {
    "ExecuteTime": {
     "end_time": "2025-09-12T17:00:08.601432Z",
     "start_time": "2025-09-12T17:00:08.596836Z"
    }
   },
   "cell_type": "code",
   "source": "out.shape",
   "id": "f41f72017cfadecb",
   "outputs": [
    {
     "data": {
      "text/plain": [
       "torch.Size([4, 99, 1024])"
      ]
     },
     "execution_count": 4,
     "metadata": {},
     "output_type": "execute_result"
    }
   ],
   "execution_count": 4
  },
  {
   "metadata": {
    "ExecuteTime": {
     "end_time": "2025-09-12T17:00:28.756580Z",
     "start_time": "2025-09-12T17:00:18.587906Z"
    }
   },
   "cell_type": "code",
   "source": [
    "o1 = torch.randn((17, 3568000))\n",
    "out1 = transform(o1)\n",
    "out1.shape"
   ],
   "id": "5d98952f74cdcb5b",
   "outputs": [
    {
     "name": "stderr",
     "output_type": "stream",
     "text": [
      "It is strongly recommended to pass the `sampling_rate` argument to `SeamlessM4TFeatureExtractor()`. Failing to do so can result in silent errors that might be hard to debug.\n"
     ]
    },
    {
     "data": {
      "text/plain": [
       "torch.Size([41, 99, 1024])"
      ]
     },
     "execution_count": 6,
     "metadata": {},
     "output_type": "execute_result"
    }
   ],
   "execution_count": 6
  },
  {
   "metadata": {
    "ExecuteTime": {
     "end_time": "2025-09-13T11:41:20.927262Z",
     "start_time": "2025-09-13T11:41:20.147782Z"
    }
   },
   "cell_type": "code",
   "source": [
    "from transformers import AutoProcessor, WavLMModel, AutoFeatureExtractor\n",
    "\n",
    "processor = AutoFeatureExtractor.from_pretrained(\"microsoft/wavlm-base\")\n",
    "model = WavLMModel.from_pretrained(\"microsoft/wavlm-base\")"
   ],
   "id": "8497f4bffcf64027",
   "outputs": [],
   "execution_count": 85
  },
  {
   "metadata": {
    "ExecuteTime": {
     "end_time": "2025-09-13T11:44:07.764524Z",
     "start_time": "2025-09-13T11:44:07.761927Z"
    }
   },
   "cell_type": "code",
   "source": "a = torch.randn(16000)",
   "id": "998ed893e4c0eb58",
   "outputs": [],
   "execution_count": 90
  },
  {
   "metadata": {
    "ExecuteTime": {
     "end_time": "2025-09-13T11:44:08.326127Z",
     "start_time": "2025-09-13T11:44:08.282309Z"
    }
   },
   "cell_type": "code",
   "source": "b = processor(a.unbind(0), return_tensors=\"pt\")",
   "id": "d166ab0ec0e78869",
   "outputs": [
    {
     "name": "stderr",
     "output_type": "stream",
     "text": [
      "It is strongly recommended to pass the `sampling_rate` argument to `Wav2Vec2FeatureExtractor()`. Failing to do so can result in silent errors that might be hard to debug.\n"
     ]
    }
   ],
   "execution_count": 91
  },
  {
   "metadata": {
    "ExecuteTime": {
     "end_time": "2025-09-13T11:41:23.070523Z",
     "start_time": "2025-09-13T11:41:23.065963Z"
    }
   },
   "cell_type": "code",
   "source": "b.data[\"input_values\"]",
   "id": "8a9fcd54edb4c323",
   "outputs": [
    {
     "data": {
      "text/plain": [
       "tensor([[[-0.4366,  0.9578, -0.2994,  ...,  0.7621, -0.8440,  0.1853],\n",
       "         [ 0.9509, -1.9667, -1.1055,  ..., -0.5600,  1.2421,  1.5442],\n",
       "         [-1.8123, -2.1959,  0.6806,  ..., -1.0523, -1.6041, -0.8999]]])"
      ]
     },
     "execution_count": 88,
     "metadata": {},
     "output_type": "execute_result"
    }
   ],
   "execution_count": 88
  },
  {
   "metadata": {
    "ExecuteTime": {
     "end_time": "2025-09-13T11:44:29.962122Z",
     "start_time": "2025-09-13T11:44:29.959312Z"
    }
   },
   "cell_type": "code",
   "source": "x=b",
   "id": "3094a769893d7457",
   "outputs": [],
   "execution_count": 93
  },
  {
   "metadata": {
    "ExecuteTime": {
     "end_time": "2025-09-13T11:34:46.179517Z",
     "start_time": "2025-09-13T11:34:46.176595Z"
    }
   },
   "cell_type": "code",
   "source": [
    "x = b\n",
    "x.data[\"input_values\"] = x.data[\"input_values\"].squeeze()\n",
    "if \"attention_mask\" in x.data:\n",
    "    x.data[\"attention_mask\"] = x.data[\"attention_mask\"].squeeze()"
   ],
   "id": "a14b18141cc610b3",
   "outputs": [],
   "execution_count": 63
  },
  {
   "metadata": {
    "ExecuteTime": {
     "end_time": "2025-09-13T11:44:31.506449Z",
     "start_time": "2025-09-13T11:44:31.435876Z"
    }
   },
   "cell_type": "code",
   "source": "model(x.input_values, x.attention_mask).last_hidden_state.shape",
   "id": "c957606c999fbbc5",
   "outputs": [
    {
     "name": "stderr",
     "output_type": "stream",
     "text": [
      "/home/jacopo/PycharmProjects/progetto-tesi/.venv/lib/python3.12/site-packages/torch/nn/functional.py:5962: UserWarning: Support for mismatched key_padding_mask and attn_mask is deprecated. Use same type for both instead.\n",
      "  warnings.warn(\n"
     ]
    },
    {
     "data": {
      "text/plain": [
       "torch.Size([1, 49, 768])"
      ]
     },
     "execution_count": 94,
     "metadata": {},
     "output_type": "execute_result"
    }
   ],
   "execution_count": 94
  },
  {
   "metadata": {
    "ExecuteTime": {
     "end_time": "2025-09-13T11:33:59.260796Z",
     "start_time": "2025-09-13T11:33:59.256408Z"
    }
   },
   "cell_type": "code",
   "source": "o = x.data[\"input_values\"].unbind(0)",
   "id": "1cbecede9ec50688",
   "outputs": [],
   "execution_count": 58
  },
  {
   "metadata": {},
   "cell_type": "code",
   "outputs": [],
   "execution_count": null,
   "source": "",
   "id": "a4271855c5a248c4"
  }
 ],
 "metadata": {
  "kernelspec": {
   "display_name": "Python 3",
   "language": "python",
   "name": "python3"
  },
  "language_info": {
   "codemirror_mode": {
    "name": "ipython",
    "version": 2
   },
   "file_extension": ".py",
   "mimetype": "text/x-python",
   "name": "python",
   "nbconvert_exporter": "python",
   "pygments_lexer": "ipython2",
   "version": "2.7.6"
  }
 },
 "nbformat": 4,
 "nbformat_minor": 5
}
