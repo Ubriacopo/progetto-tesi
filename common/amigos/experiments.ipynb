{
 "cells": [
  {
   "cell_type": "code",
   "id": "initial_id",
   "metadata": {
    "collapsed": true,
    "jupyter": {
     "is_executing": true
    },
    "ExecuteTime": {
     "start_time": "2025-07-04T17:04:22.287792Z"
    }
   },
   "source": [
    "from data_sampler import sample_amigos\n",
    "\n",
    "sample_amigos(\"./../../resources/AMIGOS/\")"
   ],
   "outputs": [
    {
     "name": "stderr",
     "output_type": "stream",
     "text": [
      "ffmpeg version 6.1.1-3ubuntu5 Copyright (c) 2000-2023 the FFmpeg developers\n",
      "  built with gcc 13 (Ubuntu 13.2.0-23ubuntu3)\n",
      "  configuration: --prefix=/usr --extra-version=3ubuntu5 --toolchain=hardened --libdir=/usr/lib/x86_64-linux-gnu --incdir=/usr/include/x86_64-linux-gnu --arch=amd64 --enable-gpl --disable-stripping --disable-omx --enable-gnutls --enable-libaom --enable-libass --enable-libbs2b --enable-libcaca --enable-libcdio --enable-libcodec2 --enable-libdav1d --enable-libflite --enable-libfontconfig --enable-libfreetype --enable-libfribidi --enable-libglslang --enable-libgme --enable-libgsm --enable-libharfbuzz --enable-libmp3lame --enable-libmysofa --enable-libopenjpeg --enable-libopenmpt --enable-libopus --enable-librubberband --enable-libshine --enable-libsnappy --enable-libsoxr --enable-libspeex --enable-libtheora --enable-libtwolame --enable-libvidstab --enable-libvorbis --enable-libvpx --enable-libwebp --enable-libx265 --enable-libxml2 --enable-libxvid --enable-libzimg --enable-openal --enable-opencl --enable-opengl --disable-sndio --enable-libvpl --disable-libmfx --enable-libdc1394 --enable-libdrm --enable-libiec61883 --enable-chromaprint --enable-frei0r --enable-ladspa --enable-libbluray --enable-libjack --enable-libpulse --enable-librabbitmq --enable-librist --enable-libsrt --enable-libssh --enable-libsvtav1 --enable-libx264 --enable-libzmq --enable-libzvbi --enable-lv2 --enable-sdl2 --enable-libplacebo --enable-librav1e --enable-pocketsphinx --enable-librsvg --enable-libjxl --enable-shared\n",
      "  libavutil      58. 29.100 / 58. 29.100\n",
      "  libavcodec     60. 31.102 / 60. 31.102\n",
      "  libavformat    60. 16.100 / 60. 16.100\n",
      "  libavdevice    60.  3.100 / 60.  3.100\n",
      "  libavfilter     9. 12.100 /  9. 12.100\n",
      "  libswscale      7.  5.100 /  7.  5.100\n",
      "  libswresample   4. 12.100 /  4. 12.100\n",
      "  libpostproc    57.  3.100 / 57.  3.100\n",
      "Input #0, mov,mp4,m4a,3gp,3g2,mj2, from '../../resources/AMIGOS/face/P1_31_face.mov':\n",
      "  Metadata:\n",
      "    major_brand     : qt  \n",
      "    minor_version   : 512\n",
      "    compatible_brands: qt  \n",
      "    encoder         : Lavf56.3.100\n",
      "  Duration: 00:02:35.80, start: 0.000000, bitrate: 24595 kb/s\n",
      "  Stream #0:0[0x1](eng): Video: h264 (High) (avc1 / 0x31637661), yuv420p(progressive), 1280x720 [SAR 1:1 DAR 16:9], 24461 kb/s, 25 fps, 25 tbr, 12800 tbn (default)\n",
      "    Metadata:\n",
      "      handler_name    : VideoHandler\n",
      "      vendor_id       : FFMP\n",
      "      encoder         : Lavc56.1.100 libx264\n",
      "      timecode        : 17:18:17:22\n",
      "  Stream #0:1[0x2](eng): Audio: aac (LC) (mp4a / 0x6134706D), 48000 Hz, stereo, fltp, 128 kb/s (default)\n",
      "    Metadata:\n",
      "      handler_name    : SoundHandler\n",
      "      vendor_id       : [0][0][0][0]\n",
      "  Stream #0:2[0x3](eng): Data: none (tmcd / 0x64636D74)\n",
      "    Metadata:\n",
      "      handler_name    : TimeCodeHandler\n",
      "      timecode        : 17:18:17:22\n",
      "Stream mapping:\n",
      "  Stream #0:0 -> #0:0 (h264 (native) -> h264 (libx264))\n",
      "  Stream #0:1 -> #0:1 (aac (native) -> aac (native))\n",
      "Press [q] to stop, [?] for help\n",
      "[libx264 @ 0x60ec9dafd140] using SAR=1/1\n",
      "[libx264 @ 0x60ec9dafd140] using cpu capabilities: MMX2 SSE2Fast SSSE3 SSE4.2 AVX FMA3 BMI2 AVX2\n",
      "[libx264 @ 0x60ec9dafd140] profile High, level 3.1, 4:2:0, 8-bit\n",
      "[libx264 @ 0x60ec9dafd140] 264 - core 164 r3108 31e19f9 - H.264/MPEG-4 AVC codec - Copyleft 2003-2023 - http://www.videolan.org/x264.html - options: cabac=1 ref=3 deblock=1:0:0 analyse=0x3:0x113 me=hex subme=7 psy=1 psy_rd=1.00:0.00 mixed_ref=1 me_range=16 chroma_me=1 trellis=1 8x8dct=1 cqm=0 deadzone=21,11 fast_pskip=1 chroma_qp_offset=-2 threads=22 lookahead_threads=3 sliced_threads=0 nr=0 decimate=1 interlaced=0 bluray_compat=0 constrained_intra=0 bframes=3 b_pyramid=2 b_adapt=1 b_bias=0 direct=1 weightb=1 open_gop=0 weightp=2 keyint=250 keyint_min=15 scenecut=40 intra_refresh=0 rc_lookahead=40 rc=crf mbtree=1 crf=23.0 qcomp=0.60 qpmin=0 qpmax=69 qpstep=4 ip_ratio=1.40 aq=1:1.00\n",
      "[mov @ 0x60ec9dacd180] Using non-standard frame rate 15/1\n",
      "    Last message repeated 1 times\n",
      "Output #0, mov, to '../../resources/AMIGOS/face/P1_31_face.mov.temp.mov':\n",
      "  Metadata:\n",
      "    major_brand     : qt  \n",
      "    minor_version   : 512\n",
      "    compatible_brands: qt  \n",
      "    encoder         : Lavf60.16.100\n",
      "  Stream #0:0(eng): Video: h264 (avc1 / 0x31637661), yuv420p(progressive), 1280x720 [SAR 1:1 DAR 16:9], q=2-31, 15 fps, 15360 tbn (default)\n",
      "    Metadata:\n",
      "      handler_name    : VideoHandler\n",
      "      vendor_id       : FFMP\n",
      "      timecode        : 17:18:17:22\n",
      "      encoder         : Lavc60.31.102 libx264\n",
      "    Side data:\n",
      "      cpb: bitrate max/min/avg: 0/0/0 buffer size: 0 vbv_delay: N/A\n",
      "  Stream #0:1(eng): Audio: aac (LC) (mp4a / 0x6134706D), 48000 Hz, stereo, fltp, 128 kb/s (default)\n",
      "    Metadata:\n",
      "      handler_name    : SoundHandler\n",
      "      vendor_id       : [0][0][0][0]\n",
      "      encoder         : Lavc60.31.102 aac\n",
      "[out#0/mov @ 0x60ec9dacd880] video:136460kB audio:2439kB subtitle:0kB other streams:0kB global headers:0kB muxing overhead: 0.059773%\n",
      "frame= 2339 fps=111 q=-1.0 Lsize=  138982kB time=00:02:35.73 bitrate=7310.8kbits/s dup=0 drop=1556 speed=7.36x    \n",
      "[libx264 @ 0x60ec9dafd140] frame I:23    Avg QP:21.23  size:179553\n",
      "[libx264 @ 0x60ec9dafd140] frame P:591   Avg QP:23.91  size: 82563\n",
      "[libx264 @ 0x60ec9dafd140] frame B:1725  Avg QP:24.49  size: 50325\n",
      "[libx264 @ 0x60ec9dafd140] consecutive B-frames:  1.3%  0.5%  1.9% 96.3%\n",
      "[libx264 @ 0x60ec9dafd140] mb I  I16..4:  2.6% 90.2%  7.1%\n",
      "[libx264 @ 0x60ec9dafd140] mb P  I16..4:  0.3% 42.5%  1.2%  P16..4: 27.0% 19.2%  9.8%  0.0%  0.0%    skip: 0.0%\n",
      "[libx264 @ 0x60ec9dafd140] mb B  I16..4:  0.2% 11.8%  0.0%  B16..8: 44.8%  6.7%  2.1%  direct:30.1%  skip: 4.1%  L0:44.9% L1:42.6% BI:12.5%\n",
      "[libx264 @ 0x60ec9dafd140] 8x8 transform intra:96.9% inter:71.5%\n",
      "[libx264 @ 0x60ec9dafd140] coded y,uvDC,uvAC intra: 96.9% 100.0% 99.6% inter: 68.4% 95.0% 71.3%\n",
      "[libx264 @ 0x60ec9dafd140] i16 v,h,dc,p:  2%  4% 66% 28%\n",
      "[libx264 @ 0x60ec9dafd140] i8 v,h,dc,ddl,ddr,vr,hd,vl,hu:  6% 10% 41%  7%  7%  6%  8%  6%  9%\n",
      "[libx264 @ 0x60ec9dafd140] i4 v,h,dc,ddl,ddr,vr,hd,vl,hu:  9% 12% 29% 10%  9%  7%  9%  6%  8%\n",
      "[libx264 @ 0x60ec9dafd140] i8c dc,h,v,p: 76%  9%  6%  9%\n",
      "[libx264 @ 0x60ec9dafd140] Weighted P-Frames: Y:0.5% UV:0.2%\n",
      "[libx264 @ 0x60ec9dafd140] ref P L0: 32.4% 11.6% 35.8% 20.2%  0.0%\n",
      "[libx264 @ 0x60ec9dafd140] ref B L0: 83.5% 11.8%  4.7%\n",
      "[libx264 @ 0x60ec9dafd140] ref B L1: 96.9%  3.1%\n",
      "[libx264 @ 0x60ec9dafd140] kb/s:7168.92\n",
      "[aac @ 0x60ec9e91e200] Qavg: 2401.971\n"
     ]
    }
   ],
   "execution_count": null
  },
  {
   "metadata": {},
   "cell_type": "code",
   "outputs": [],
   "execution_count": null,
   "source": "",
   "id": "80111ed532347075"
  }
 ],
 "metadata": {
  "kernelspec": {
   "display_name": "Python 3",
   "language": "python",
   "name": "python3"
  },
  "language_info": {
   "codemirror_mode": {
    "name": "ipython",
    "version": 2
   },
   "file_extension": ".py",
   "mimetype": "text/x-python",
   "name": "python",
   "nbconvert_exporter": "python",
   "pygments_lexer": "ipython2",
   "version": "2.7.6"
  }
 },
 "nbformat": 4,
 "nbformat_minor": 5
}
