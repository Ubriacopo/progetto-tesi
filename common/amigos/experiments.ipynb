{
 "cells": [
  {
   "metadata": {
    "ExecuteTime": {
     "end_time": "2025-08-06T15:54:49.208190Z",
     "start_time": "2025-08-06T15:54:48.802440Z"
    }
   },
   "cell_type": "code",
   "source": "from sampler import do_sample, TimedMoviepyAMIGOSSampler, TimedFastAMIGOSSampler",
   "id": "1cc82efb1c3f7207",
   "outputs": [],
   "execution_count": 1
  },
  {
   "metadata": {},
   "cell_type": "markdown",
   "source": "",
   "id": "ff433e2e6a455f7e"
  },
  {
   "cell_type": "code",
   "id": "initial_id",
   "metadata": {
    "collapsed": true,
    "ExecuteTime": {
     "end_time": "2025-08-06T15:59:14.765838Z",
     "start_time": "2025-08-06T15:54:49.798424Z"
    }
   },
   "source": [
    "%%time\n",
    "%%capture --no-display\n",
    "# ~ 4 minutes for my current subset of data.\n",
    "path = \"./../../resources/AMIGOS/\"\n",
    "sampler = TimedFastAMIGOSSampler(path + \"sampled/\", 5)\n",
    "do_sample(path, path + \"sampled/\", sampler, 100, True)"
   ],
   "outputs": [
    {
     "name": "stderr",
     "output_type": "stream",
     "text": [
      "File './../../resources/AMIGOS/sampled/P01_5/0.mp4' already exists. Overwrite? [y/N] File './../../resources/AMIGOS/sampled/P01_5/1.mp4' already exists. Overwrite? [y/N] File './../../resources/AMIGOS/sampled/P01_5/2.mp4' already exists. Overwrite? [y/N] File './../../resources/AMIGOS/sampled/P01_5/3.mp4' already exists. Overwrite? [y/N] File './../../resources/AMIGOS/sampled/P01_5/4.mp4' already exists. Overwrite? [y/N] File './../../resources/AMIGOS/sampled/P01_5/5.mp4' already exists. Overwrite? [y/N] File './../../resources/AMIGOS/sampled/P01_5/6.mp4' already exists. Overwrite? [y/N] File './../../resources/AMIGOS/sampled/P01_5/8.mp4' already exists. Overwrite? [y/N] File './../../resources/AMIGOS/sampled/P01_5/7.mp4' already exists. Overwrite? [y/N] File './../../resources/AMIGOS/sampled/P01_5/9.mp4' already exists. Overwrite? [y/N] File './../../resources/AMIGOS/sampled/P01_5/10.mp4' already exists. Overwrite? [y/N] File './../../resources/AMIGOS/sampled/P01_5/11.mp4' already exists. Overwrite? [y/N] File './../../resources/AMIGOS/sampled/P01_5/12.mp4' already exists. Overwrite? [y/N] File './../../resources/AMIGOS/sampled/P01_5/14.mp4' already exists. Overwrite? [y/N] File './../../resources/AMIGOS/sampled/P01_5/13.mp4' already exists. Overwrite? [y/N] File './../../resources/AMIGOS/sampled/P01_5/1.wav' already exists. Overwrite? [y/N] File './../../resources/AMIGOS/sampled/P01_5/2.wav' already exists. Overwrite? [y/N] File './../../resources/AMIGOS/sampled/P01_5/3.wav' already exists. Overwrite? [y/N] File './../../resources/AMIGOS/sampled/P01_5/0.wav' already exists. Overwrite? [y/N] File './../../resources/AMIGOS/sampled/P01_5/15.mp4' already exists. Overwrite? [y/N] File './../../resources/AMIGOS/sampled/P01_5/4.wav' already exists. Overwrite? [y/N] File './../../resources/AMIGOS/sampled/P01_5/5.wav' already exists. Overwrite? [y/N] File './../../resources/AMIGOS/sampled/P01_5/8.wav' already exists. Overwrite? [y/N] File './../../resources/AMIGOS/sampled/P01_5/6.wav' already exists. Overwrite? [y/N] File './../../resources/AMIGOS/sampled/P01_5/7.wav' already exists. Overwrite? [y/N] File './../../resources/AMIGOS/sampled/P01_5/9.wav' already exists. Overwrite? [y/N] File './../../resources/AMIGOS/sampled/P01_5/10.wav' already exists. Overwrite? [y/N] File './../../resources/AMIGOS/sampled/P01_5/11.wav' already exists. Overwrite? [y/N] File './../../resources/AMIGOS/sampled/P01_5/14.wav' already exists. Overwrite? [y/N] File './../../resources/AMIGOS/sampled/P01_5/12.wav' already exists. Overwrite? [y/N] File './../../resources/AMIGOS/sampled/P01_5/13.wav' already exists. Overwrite? [y/N] File './../../resources/AMIGOS/sampled/P01_5/16.mp4' already exists. Overwrite? [y/N] File './../../resources/AMIGOS/sampled/P01_5/15.wav' already exists. Overwrite? [y/N] File './../../resources/AMIGOS/sampled/P01_5/18.mp4' already exists. Overwrite? [y/N] File './../../resources/AMIGOS/sampled/P01_5/19.mp4' already exists. Overwrite? [y/N] File './../../resources/AMIGOS/sampled/P01_5/17.mp4' already exists. Overwrite? [y/N] File './../../resources/AMIGOS/sampled/P01_5/20.mp4' already exists. Overwrite? [y/N] File './../../resources/AMIGOS/sampled/P01_5/21.mp4' already exists. Overwrite? [y/N] File './../../resources/AMIGOS/sampled/P01_5/22.mp4' already exists. Overwrite? [y/N] File './../../resources/AMIGOS/sampled/P01_5/16.wav' already exists. Overwrite? [y/N] File './../../resources/AMIGOS/sampled/P01_5/17.wav' already exists. Overwrite? [y/N] File './../../resources/AMIGOS/sampled/P01_5/18.wav' already exists. Overwrite? [y/N] File './../../resources/AMIGOS/sampled/P01_5/20.wav' already exists. Overwrite? [y/N] File './../../resources/AMIGOS/sampled/P01_5/19.wav' already exists. Overwrite? [y/N] File './../../resources/AMIGOS/sampled/P01_5/21.wav' already exists. Overwrite? [y/N] File './../../resources/AMIGOS/sampled/P01_5/22.wav' already exists. Overwrite? [y/N] "
     ]
    },
    {
     "name": "stdout",
     "output_type": "stream",
     "text": [
      "CPU times: user 6.16 s, sys: 4.12 s, total: 10.3 s\n",
      "Wall time: 4min 24s\n"
     ]
    }
   ],
   "execution_count": 2
  },
  {
   "metadata": {},
   "cell_type": "markdown",
   "source": [
    "#### With ProcessPoolExecutor\n",
    "CPU times: user 6.16 s, sys: 4.12 s, total: 10.3 s <br>\n",
    "Wall time: 4min 24s\n",
    "\n",
    "#### With ThreadPoolExecutor\n",
    "CPU times: user 6.08 s, sys: 2.99 s, total: 9.07 s <br>\n",
    "Wall time: 4min 17s"
   ],
   "id": "98d8f708fe8e9142"
  },
  {
   "metadata": {},
   "cell_type": "code",
   "source": [
    "%%time\n",
    "%%capture --no-display\n",
    "path = \"./../../resources/AMIGOS/\"\n",
    "sampler = TimedMoviepyAMIGOSSampler(path + \"sampled/\", 5)\n",
    "do_sample(path, path + \"sampled/\", sampler, 100)"
   ],
   "id": "80111ed532347075",
   "outputs": [],
   "execution_count": null
  },
  {
   "metadata": {
    "ExecuteTime": {
     "end_time": "2025-08-05T16:53:42.176035Z",
     "start_time": "2025-08-05T16:37:55.722125Z"
    }
   },
   "cell_type": "code",
   "source": [
    "%%time\n",
    "%%capture --no-display\n",
    "# Does not work too well.\n",
    "path = \"./../../resources/AMIGOS/\"\n",
    "sampler = TimedMoviepyAMIGOSSampler(path + \"sampled/\", 5)\n",
    "do_sample(path, path + \"sampled/\", sampler, 100, True)"
   ],
   "id": "7a0d6c8bb5be4330",
   "outputs": [
    {
     "name": "stdout",
     "output_type": "stream",
     "text": [
      "CPU times: user 11min 20s, sys: 1min 44s, total: 13min 4s\n",
      "Wall time: 15min 46s\n"
     ]
    }
   ],
   "execution_count": 1
  },
  {
   "metadata": {},
   "cell_type": "code",
   "source": [
    "# CPU times: user 17.7 s, sys: 10.5 s, total: 28.1 s\n",
    "# Wall time: 9min 54s"
   ],
   "id": "da114c5c98c7f8a9",
   "outputs": [],
   "execution_count": null
  }
 ],
 "metadata": {
  "kernelspec": {
   "display_name": "Python 3",
   "language": "python",
   "name": "python3"
  },
  "language_info": {
   "codemirror_mode": {
    "name": "ipython",
    "version": 2
   },
   "file_extension": ".py",
   "mimetype": "text/x-python",
   "name": "python",
   "nbconvert_exporter": "python",
   "pygments_lexer": "ipython2",
   "version": "2.7.6"
  }
 },
 "nbformat": 4,
 "nbformat_minor": 5
}
