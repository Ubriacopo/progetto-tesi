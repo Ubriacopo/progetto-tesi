{
 "cells": [
  {
   "metadata": {
    "ExecuteTime": {
     "end_time": "2025-08-26T16:16:44.188924Z",
     "start_time": "2025-08-26T16:16:44.186343Z"
    }
   },
   "cell_type": "code",
   "source": [
    "import torch\n",
    "\n",
    "x_emb = torch.rand(30, 128)\n",
    "y_emb = torch.rand(30, 128)\n",
    "\n",
    "# Temperature initialization. Should be a learnable parameter\n",
    "t_prime = torch.log(torch.Tensor([10]))\n",
    "\n",
    "# Learnable parameter, found to be a good starters -10.\n",
    "# Should be learned\n",
    "bias = torch.Tensor([-10])"
   ],
   "id": "1ac56e109b61d8c0",
   "outputs": [],
   "execution_count": 6
  },
  {
   "metadata": {
    "ExecuteTime": {
     "end_time": "2025-08-26T16:16:44.514797Z",
     "start_time": "2025-08-26T16:16:44.511131Z"
    }
   },
   "cell_type": "code",
   "source": [
    "from common.model.loss import sig_LIP_logits, sigLIP\n",
    "\n",
    "sigLIP(x_emb, y_emb, t_prime, bias)"
   ],
   "id": "56dc6a2527ea8c9",
   "outputs": [
    {
     "data": {
      "text/plain": [
       "tensor(4.9937)"
      ]
     },
     "execution_count": 7,
     "metadata": {},
     "output_type": "execute_result"
    }
   ],
   "execution_count": 7
  },
  {
   "metadata": {
    "ExecuteTime": {
     "end_time": "2025-08-26T16:11:43.065182Z",
     "start_time": "2025-08-26T16:11:43.061020Z"
    }
   },
   "cell_type": "code",
   "source": "sig_LIP_logits(x_emb, y_emb, t_prime, bias, reduction=\"sum\") / x_emb.shape[0]",
   "id": "52c58934017c767f",
   "outputs": [
    {
     "data": {
      "text/plain": [
       "tensor(4.9550)"
      ]
     },
     "execution_count": 3,
     "metadata": {},
     "output_type": "execute_result"
    }
   ],
   "execution_count": 3
  },
  {
   "metadata": {
    "ExecuteTime": {
     "end_time": "2025-08-26T16:11:43.826189Z",
     "start_time": "2025-08-26T16:11:43.822579Z"
    }
   },
   "cell_type": "code",
   "source": "sig_LIP_logits(x_emb, y_emb, t_prime, bias)",
   "id": "f71c411213200acf",
   "outputs": [
    {
     "data": {
      "text/plain": [
       "tensor(2.7508)"
      ]
     },
     "execution_count": 4,
     "metadata": {},
     "output_type": "execute_result"
    }
   ],
   "execution_count": 4
  },
  {
   "metadata": {},
   "cell_type": "code",
   "outputs": [],
   "execution_count": null,
   "source": "",
   "id": "7d9cb9231a872813"
  }
 ],
 "metadata": {
  "kernelspec": {
   "display_name": "Python 3",
   "language": "python",
   "name": "python3"
  },
  "language_info": {
   "codemirror_mode": {
    "name": "ipython",
    "version": 2
   },
   "file_extension": ".py",
   "mimetype": "text/x-python",
   "name": "python",
   "nbconvert_exporter": "python",
   "pygments_lexer": "ipython2",
   "version": "2.7.6"
  }
 },
 "nbformat": 4,
 "nbformat_minor": 5
}
