{
 "cells": [
  {
   "metadata": {
    "ExecuteTime": {
     "end_time": "2025-08-25T15:56:49.911405Z",
     "start_time": "2025-08-25T15:56:44.293258Z"
    }
   },
   "cell_type": "code",
   "source": [
    "from transformers import VivitForVideoClassification, VivitImageProcessor\n",
    "import torch\n",
    "\n",
    "# Video pre loader\n",
    "model_video = VivitForVideoClassification.from_pretrained(\"google/vivit-b-16x2-kinetics400\")\n",
    "processor_video = VivitImageProcessor.from_pretrained(\"google/vivit-b-16x2-kinetics400\")"
   ],
   "id": "5fe2acfd8651d042",
   "outputs": [],
   "execution_count": 1
  },
  {
   "metadata": {
    "ExecuteTime": {
     "end_time": "2025-08-25T15:56:50.018594Z",
     "start_time": "2025-08-25T15:56:49.914927Z"
    }
   },
   "cell_type": "code",
   "source": [
    "video = torch.randint(low=0, high=256, size=(32, 3, 224, 224))\n",
    "video = processor_video(list(video), return_tensors=\"pt\")"
   ],
   "id": "5be8a199caf8f85d",
   "outputs": [],
   "execution_count": 2
  },
  {
   "metadata": {
    "ExecuteTime": {
     "end_time": "2025-08-25T15:56:50.028126Z",
     "start_time": "2025-08-25T15:56:50.024323Z"
    }
   },
   "cell_type": "code",
   "source": "video.keys()",
   "id": "46eea3d959d30a0e",
   "outputs": [
    {
     "data": {
      "text/plain": [
       "dict_keys(['pixel_values'])"
      ]
     },
     "execution_count": 3,
     "metadata": {},
     "output_type": "execute_result"
    }
   ],
   "execution_count": 3
  },
  {
   "metadata": {
    "ExecuteTime": {
     "end_time": "2025-08-25T15:56:52.259231Z",
     "start_time": "2025-08-25T15:56:50.077747Z"
    }
   },
   "cell_type": "code",
   "source": "patched_video = model_video(**video).logits.squeeze(0)",
   "id": "ee8cef615cf305e7",
   "outputs": [],
   "execution_count": 4
  },
  {
   "metadata": {
    "ExecuteTime": {
     "end_time": "2025-08-25T15:56:52.314276Z",
     "start_time": "2025-08-25T15:56:52.311585Z"
    }
   },
   "cell_type": "code",
   "source": "patched_video.shape",
   "id": "a3969e52c1f9e359",
   "outputs": [
    {
     "data": {
      "text/plain": [
       "torch.Size([400])"
      ]
     },
     "execution_count": 5,
     "metadata": {},
     "output_type": "execute_result"
    }
   ],
   "execution_count": 5
  },
  {
   "metadata": {
    "collapsed": true,
    "ExecuteTime": {
     "end_time": "2025-08-25T15:56:52.572755Z",
     "start_time": "2025-08-25T15:56:52.359068Z"
    }
   },
   "cell_type": "code",
   "source": [
    "from constrastive_model import ContrastiveModel\n",
    "\n",
    "model = ContrastiveModel(hidden_channels=200, out_channels=100)\n",
    "model.load_state_dict(torch.load(\"../../dependencies/VATE/best_model_contrastive.pt\"))\n",
    "model.eval()"
   ],
   "id": "de92527f9c94bf0a",
   "outputs": [
    {
     "data": {
      "text/plain": [
       "ContrastiveModel(\n",
       "  (embedding_video): Sequential(\n",
       "    (0): Linear(in_features=400, out_features=200, bias=True)\n",
       "    (1): ReLU()\n",
       "    (2): Linear(in_features=200, out_features=200, bias=True)\n",
       "    (3): ReLU()\n",
       "    (4): Linear(in_features=200, out_features=100, bias=True)\n",
       "  )\n",
       "  (embedding_audio): Sequential(\n",
       "    (0): Linear(in_features=768, out_features=200, bias=True)\n",
       "    (1): ReLU()\n",
       "    (2): Linear(in_features=200, out_features=200, bias=True)\n",
       "    (3): ReLU()\n",
       "    (4): Linear(in_features=200, out_features=100, bias=True)\n",
       "  )\n",
       "  (embedding_text): Sequential(\n",
       "    (0): Linear(in_features=768, out_features=200, bias=True)\n",
       "    (1): ReLU()\n",
       "    (2): Linear(in_features=200, out_features=200, bias=True)\n",
       "    (3): ReLU()\n",
       "    (4): Linear(in_features=200, out_features=100, bias=True)\n",
       "  )\n",
       ")"
      ]
     },
     "execution_count": 6,
     "metadata": {},
     "output_type": "execute_result"
    }
   ],
   "execution_count": 6
  },
  {
   "metadata": {
    "ExecuteTime": {
     "end_time": "2025-08-25T15:56:52.589230Z",
     "start_time": "2025-08-25T15:56:52.586166Z"
    }
   },
   "cell_type": "code",
   "source": "res = model(x_video=patched_video.unsqueeze(0), x_audio=None, x_text=None)",
   "id": "9a733ca0eedb55ba",
   "outputs": [],
   "execution_count": 7
  },
  {
   "metadata": {
    "ExecuteTime": {
     "end_time": "2025-08-25T15:57:04.698016Z",
     "start_time": "2025-08-25T15:57:04.695207Z"
    }
   },
   "cell_type": "code",
   "source": "res[0].shape",
   "id": "c530fa026934ccc4",
   "outputs": [
    {
     "data": {
      "text/plain": [
       "torch.Size([1, 100])"
      ]
     },
     "execution_count": 9,
     "metadata": {},
     "output_type": "execute_result"
    }
   ],
   "execution_count": 9
  },
  {
   "metadata": {},
   "cell_type": "code",
   "outputs": [],
   "execution_count": null,
   "source": "",
   "id": "dd0e6d4fb93c699c"
  }
 ],
 "metadata": {
  "kernelspec": {
   "display_name": "Python 3",
   "language": "python",
   "name": "python3"
  },
  "language_info": {
   "codemirror_mode": {
    "name": "ipython",
    "version": 2
   },
   "file_extension": ".py",
   "mimetype": "text/x-python",
   "name": "python",
   "nbconvert_exporter": "python",
   "pygments_lexer": "ipython2",
   "version": "2.7.6"
  }
 },
 "nbformat": 4,
 "nbformat_minor": 5
}
