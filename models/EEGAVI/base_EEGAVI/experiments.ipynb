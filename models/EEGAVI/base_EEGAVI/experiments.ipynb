{
 "cells": [
  {
   "cell_type": "code",
   "execution_count": null,
   "id": "initial_id",
   "metadata": {
    "collapsed": true
   },
   "outputs": [],
   "source": [
    "from models.EEGAVI.base_EEGAVI.dataset import kd_train_dataset\n",
    "from torch.utils.data import DataLoader\n",
    "from models.EEGAVI.base_EEGAVI.EEGAVI import EEGAVI\n",
    "\n",
    "model = EEGAVI(video_kd_size=100, audio_kd_size=100)\n",
    "ds = kd_train_dataset(\"../../resources/AMIGOS/processed/spec.csv\")"
   ]
  },
  {
   "metadata": {},
   "cell_type": "code",
   "outputs": [],
   "execution_count": null,
   "source": "",
   "id": "612a58085e2a7231"
  }
 ],
 "metadata": {
  "kernelspec": {
   "display_name": "Python 3",
   "language": "python",
   "name": "python3"
  },
  "language_info": {
   "codemirror_mode": {
    "name": "ipython",
    "version": 2
   },
   "file_extension": ".py",
   "mimetype": "text/x-python",
   "name": "python",
   "nbconvert_exporter": "python",
   "pygments_lexer": "ipython2",
   "version": "2.7.6"
  }
 },
 "nbformat": 4,
 "nbformat_minor": 5
}
