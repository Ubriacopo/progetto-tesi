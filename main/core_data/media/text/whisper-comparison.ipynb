{
 "cells": [
  {
   "cell_type": "code",
   "id": "initial_id",
   "metadata": {
    "collapsed": true
   },
   "source": [
    "from moviepy import AudioFileClip\n",
    "\n",
    "from main.core_data.media.text.transforms import FasterWhisperExtractor, WhisperExtractor\n",
    "\n",
    "# P1_31_face\n",
    "# > 3 minutes\n",
    "faster = FasterWhisperExtractor()\n",
    "# 519.789 seconds on CPU with large\n",
    "cpu_large = WhisperExtractor()\n",
    "# 5 seconds on GPU with medium -> Stick to medium\n",
    "gpu_medium = WhisperExtractor(device=\"cuda:0\", model_id=\"openai/whisper-medium\")"
   ],
   "outputs": [],
   "execution_count": null
  },
  {
   "metadata": {},
   "cell_type": "code",
   "source": [
    "import torch\n",
    "\n",
    "audio = AudioFileClip(\"../../../resources/AMIGOS/face/P1_31_face.mov\")\n",
    "res = faster(torch.tensor(audio.to_soundarray()), audio.fps)"
   ],
   "id": "a53d25716aac1005",
   "outputs": [],
   "execution_count": null
  },
  {
   "metadata": {},
   "cell_type": "code",
   "source": "",
   "id": "c63067faba6e0d93",
   "outputs": [],
   "execution_count": null
  }
 ],
 "metadata": {
  "kernelspec": {
   "display_name": "Python 3",
   "language": "python",
   "name": "python3"
  },
  "language_info": {
   "codemirror_mode": {
    "name": "ipython",
    "version": 2
   },
   "file_extension": ".py",
   "mimetype": "text/x-python",
   "name": "python",
   "nbconvert_exporter": "python",
   "pygments_lexer": "ipython2",
   "version": "2.7.6"
  }
 },
 "nbformat": 4,
 "nbformat_minor": 5
}
