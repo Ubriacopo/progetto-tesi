{
 "cells": [
  {
   "metadata": {},
   "cell_type": "markdown",
   "source": [
    "## Brain BERT\n",
    "> the BrainBERT model — a reusable, off-the-shelf, subject-agnostic, and electrode-agnostic\n",
    "model that provides embeddings for intracranial recordings\n",
    "\n",
    "- We compute a spectrogram per electrode\n",
    "    - What is a spectrogram?\n",
    "- To that end, we adapt modern neural signal processing techniques for producing superresolution time-frequency representations of neurophysiological signals\n",
    "    - What?\n",
    "\n"
   ],
   "id": "419b8956e176e39"
  },
  {
   "metadata": {},
   "cell_type": "code",
   "outputs": [],
   "execution_count": null,
   "source": "",
   "id": "60eb5f070e955d75"
  },
  {
   "metadata": {},
   "cell_type": "markdown",
   "source": "",
   "id": "c79aa529725b055a"
  }
 ],
 "metadata": {
  "kernelspec": {
   "display_name": "Python 3",
   "language": "python",
   "name": "python3"
  },
  "language_info": {
   "codemirror_mode": {
    "name": "ipython",
    "version": 2
   },
   "file_extension": ".py",
   "mimetype": "text/x-python",
   "name": "python",
   "nbconvert_exporter": "python",
   "pygments_lexer": "ipython2",
   "version": "2.7.6"
  }
 },
 "nbformat": 4,
 "nbformat_minor": 5
}
