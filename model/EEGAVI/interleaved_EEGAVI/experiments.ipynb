{
 "cells": [
  {
   "metadata": {
    "ExecuteTime": {
     "end_time": "2025-09-04T16:01:54.795457Z",
     "start_time": "2025-09-04T16:01:54.259096Z"
    }
   },
   "cell_type": "code",
   "source": [
    "from model.EEGAVI.interleaved_EEGAVI.dataset import kd_train_dataset\n",
    "from torch.utils.data import DataLoader\n",
    "from model.EEGAVI.interleaved_EEGAVI.interleaved_model import MultimediaEEGAVI\n",
    "\n",
    "model = MultimediaEEGAVI(video_kd_size=100, audio_kd_size=100)\n",
    "ds = kd_train_dataset(\"../../resources/AMIGOS/processed/spec.csv\")"
   ],
   "id": "a1269cc602d9f485",
   "outputs": [],
   "execution_count": 5
  },
  {
   "metadata": {
    "ExecuteTime": {
     "end_time": "2025-09-04T16:02:02.668176Z",
     "start_time": "2025-09-04T16:01:55.621824Z"
    }
   },
   "cell_type": "code",
   "source": [
    "loader = DataLoader(ds, batch_size=2)\n",
    "x = next(iter(loader))\n",
    "\n",
    "x = x[0][\"EEGAVI\"]\n",
    "x[\"kd\"] = True\n",
    "res = model(x)"
   ],
   "id": "61b3f400b70fd776",
   "outputs": [
    {
     "name": "stdout",
     "output_type": "stream",
     "text": [
      "Opening raw data file ../../resources/AMIGOS/processed/P01_31_raw.fif...\n",
      "Isotrak not found\n",
      "    Range : 0 ... 19885 =      0.000 ...   155.352 secs\n",
      "Ready.\n"
     ]
    },
    {
     "name": "stderr",
     "output_type": "stream",
     "text": [
      "It is strongly recommended to pass the `sampling_rate` argument to `SeamlessM4TFeatureExtractor()`. Failing to do so can result in silent errors that might be hard to debug.\n"
     ]
    },
    {
     "name": "stdout",
     "output_type": "stream",
     "text": [
      "Opening raw data file ../../resources/AMIGOS/processed/P01_31_raw.fif...\n",
      "Isotrak not found\n",
      "    Range : 0 ... 19885 =      0.000 ...   155.352 secs\n",
      "Ready.\n"
     ]
    },
    {
     "name": "stderr",
     "output_type": "stream",
     "text": [
      "It is strongly recommended to pass the `sampling_rate` argument to `SeamlessM4TFeatureExtractor()`. Failing to do so can result in silent errors that might be hard to debug.\n"
     ]
    }
   ],
   "execution_count": 6
  },
  {
   "metadata": {
    "ExecuteTime": {
     "end_time": "2025-09-04T16:03:03.619546Z",
     "start_time": "2025-09-04T16:03:03.616177Z"
    }
   },
   "cell_type": "code",
   "source": "[res[1][k].shape for k in res[1].keys()]",
   "id": "b99d2e6c1402b731",
   "outputs": [
    {
     "data": {
      "text/plain": [
       "[torch.Size([2, 100]), torch.Size([2, 100])]"
      ]
     },
     "execution_count": 11,
     "metadata": {},
     "output_type": "execute_result"
    }
   ],
   "execution_count": 11
  },
  {
   "metadata": {},
   "cell_type": "code",
   "outputs": [],
   "execution_count": null,
   "source": "",
   "id": "3bf20ccd66ef1dd0"
  }
 ],
 "metadata": {
  "kernelspec": {
   "display_name": "Python 3",
   "language": "python",
   "name": "python3"
  },
  "language_info": {
   "codemirror_mode": {
    "name": "ipython",
    "version": 2
   },
   "file_extension": ".py",
   "mimetype": "text/x-python",
   "name": "python",
   "nbconvert_exporter": "python",
   "pygments_lexer": "ipython2",
   "version": "2.7.6"
  }
 },
 "nbformat": 4,
 "nbformat_minor": 5
}
