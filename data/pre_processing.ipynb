{
 "cells": [
  {
   "metadata": {
    "ExecuteTime": {
     "end_time": "2025-05-23T16:01:54.599751Z",
     "start_time": "2025-05-23T16:01:54.562069Z"
    }
   },
   "cell_type": "code",
   "source": [
    "import pandas as pd\n",
    "at = pd.read_excel(\"../resources/Video_List.ods\")"
   ],
   "id": "ced3e0fca8c38ae2",
   "outputs": [],
   "execution_count": 37
  },
  {
   "metadata": {
    "ExecuteTime": {
     "end_time": "2025-05-23T16:02:00.009294Z",
     "start_time": "2025-05-23T16:02:00.002620Z"
    }
   },
   "cell_type": "code",
   "source": "at",
   "id": "51fdaac3ebfc7511",
   "outputs": [
    {
     "data": {
      "text/plain": [
       "    Video_Number VideoID   FileName Experiment_Type Category Source_Dataset  \\\n",
       "0              1      10   '10.avi'    Short_Videos     HVLA          DECAF   \n",
       "1              2      13   '13.avi'    Short_Videos     HVLA          DECAF   \n",
       "2              3     138  '138.avi'    Short_Videos     LVLA     MAHNOB-HCI   \n",
       "3              4      18   '18.avi'    Short_Videos     HVLA          DECAF   \n",
       "4              5      19   '19.wmv'    Short_Videos     LVLA          DECAF   \n",
       "5              6      20   '20.avi'    Short_Videos     LVLA          DECAF   \n",
       "6              7      23   '23.wmv'    Short_Videos     LVLA          DECAF   \n",
       "7              8      30   '30.avi'    Short_Videos     LVHA     MAHNOB-HCI   \n",
       "8              9      31   '31.wmv'    Short_Videos     LVHA          DECAF   \n",
       "9             10      34   '34.avi'    Short_Videos     LVHA          DECAF   \n",
       "10            11      36   '36.avi'    Short_Videos     LVHA          DECAF   \n",
       "11            12       4    '4.avi'    Short_Videos     HVHA          DECAF   \n",
       "12            13       5    '5.wmv'    Short_Videos     HVHA          DECAF   \n",
       "13            14      58   '58.avi'    Short_Videos     HVLA     MAHNOB-HCI   \n",
       "14            15      80   '80.avi'    Short_Videos     HVHA     MAHNOB-HCI   \n",
       "15            16       9    '9.avi'    Short_Videos     HVHA          DECAF   \n",
       "16            17      N1   'N1.avi'     Long_Videos  Various    Unpublished   \n",
       "17            18      P1   'P1.avi'     Long_Videos  Various    Unpublished   \n",
       "18            19      B1   'B1.mp4'     Long_Videos  Various    Unpublished   \n",
       "19            20      U1   'U1.mp4'     Long_Videos  Various    Unpublished   \n",
       "\n",
       "                                         Source_Movie Video_Duration  \n",
       "0                                         August Rush       01:30:00  \n",
       "1                                       Love Actually       00:51:00  \n",
       "2                                   The Thin Red Line       01:56:00  \n",
       "3                             House of Flying Daggers       01:17:00  \n",
       "4                                        The Exorcist       02:00:00  \n",
       "5                                             My Girl       01:00:00  \n",
       "6                                        My Bodyguard       01:46:00  \n",
       "7                                         Silent Hill       01:10:00  \n",
       "8                                            Prestige       02:30:00  \n",
       "9                                      Pink Flamingos       01:00:00  \n",
       "10                                         Black Swan       01:02:00  \n",
       "11                                           Airplane       01:25:00  \n",
       "12                               When Harry Met Sally       01:47:00  \n",
       "13                                  Mr Beans' Holiday       00:58:00  \n",
       "14                                      Love Actually       01:36:00  \n",
       "15                                          Hot Shots       01:10:00  \n",
       "16  The Descent. Dir. Neil Marshall. Lionsgate. 2005.       23:35:00  \n",
       "17  Back to School Mr. Bean. Dir. John Birkin. Tig...       18:43:00  \n",
       "18  The Dark Knight. Dir. Christopher Nolan. Warne...       23:30:00  \n",
       "19  Up. Dirs. Pete Docter and Bob Peterson. Walt D...       14:06:00  "
      ],
      "text/html": [
       "<div>\n",
       "<style scoped>\n",
       "    .dataframe tbody tr th:only-of-type {\n",
       "        vertical-align: middle;\n",
       "    }\n",
       "\n",
       "    .dataframe tbody tr th {\n",
       "        vertical-align: top;\n",
       "    }\n",
       "\n",
       "    .dataframe thead th {\n",
       "        text-align: right;\n",
       "    }\n",
       "</style>\n",
       "<table border=\"1\" class=\"dataframe\">\n",
       "  <thead>\n",
       "    <tr style=\"text-align: right;\">\n",
       "      <th></th>\n",
       "      <th>Video_Number</th>\n",
       "      <th>VideoID</th>\n",
       "      <th>FileName</th>\n",
       "      <th>Experiment_Type</th>\n",
       "      <th>Category</th>\n",
       "      <th>Source_Dataset</th>\n",
       "      <th>Source_Movie</th>\n",
       "      <th>Video_Duration</th>\n",
       "    </tr>\n",
       "  </thead>\n",
       "  <tbody>\n",
       "    <tr>\n",
       "      <th>0</th>\n",
       "      <td>1</td>\n",
       "      <td>10</td>\n",
       "      <td>'10.avi'</td>\n",
       "      <td>Short_Videos</td>\n",
       "      <td>HVLA</td>\n",
       "      <td>DECAF</td>\n",
       "      <td>August Rush</td>\n",
       "      <td>01:30:00</td>\n",
       "    </tr>\n",
       "    <tr>\n",
       "      <th>1</th>\n",
       "      <td>2</td>\n",
       "      <td>13</td>\n",
       "      <td>'13.avi'</td>\n",
       "      <td>Short_Videos</td>\n",
       "      <td>HVLA</td>\n",
       "      <td>DECAF</td>\n",
       "      <td>Love Actually</td>\n",
       "      <td>00:51:00</td>\n",
       "    </tr>\n",
       "    <tr>\n",
       "      <th>2</th>\n",
       "      <td>3</td>\n",
       "      <td>138</td>\n",
       "      <td>'138.avi'</td>\n",
       "      <td>Short_Videos</td>\n",
       "      <td>LVLA</td>\n",
       "      <td>MAHNOB-HCI</td>\n",
       "      <td>The Thin Red Line</td>\n",
       "      <td>01:56:00</td>\n",
       "    </tr>\n",
       "    <tr>\n",
       "      <th>3</th>\n",
       "      <td>4</td>\n",
       "      <td>18</td>\n",
       "      <td>'18.avi'</td>\n",
       "      <td>Short_Videos</td>\n",
       "      <td>HVLA</td>\n",
       "      <td>DECAF</td>\n",
       "      <td>House of Flying Daggers</td>\n",
       "      <td>01:17:00</td>\n",
       "    </tr>\n",
       "    <tr>\n",
       "      <th>4</th>\n",
       "      <td>5</td>\n",
       "      <td>19</td>\n",
       "      <td>'19.wmv'</td>\n",
       "      <td>Short_Videos</td>\n",
       "      <td>LVLA</td>\n",
       "      <td>DECAF</td>\n",
       "      <td>The Exorcist</td>\n",
       "      <td>02:00:00</td>\n",
       "    </tr>\n",
       "    <tr>\n",
       "      <th>5</th>\n",
       "      <td>6</td>\n",
       "      <td>20</td>\n",
       "      <td>'20.avi'</td>\n",
       "      <td>Short_Videos</td>\n",
       "      <td>LVLA</td>\n",
       "      <td>DECAF</td>\n",
       "      <td>My Girl</td>\n",
       "      <td>01:00:00</td>\n",
       "    </tr>\n",
       "    <tr>\n",
       "      <th>6</th>\n",
       "      <td>7</td>\n",
       "      <td>23</td>\n",
       "      <td>'23.wmv'</td>\n",
       "      <td>Short_Videos</td>\n",
       "      <td>LVLA</td>\n",
       "      <td>DECAF</td>\n",
       "      <td>My Bodyguard</td>\n",
       "      <td>01:46:00</td>\n",
       "    </tr>\n",
       "    <tr>\n",
       "      <th>7</th>\n",
       "      <td>8</td>\n",
       "      <td>30</td>\n",
       "      <td>'30.avi'</td>\n",
       "      <td>Short_Videos</td>\n",
       "      <td>LVHA</td>\n",
       "      <td>MAHNOB-HCI</td>\n",
       "      <td>Silent Hill</td>\n",
       "      <td>01:10:00</td>\n",
       "    </tr>\n",
       "    <tr>\n",
       "      <th>8</th>\n",
       "      <td>9</td>\n",
       "      <td>31</td>\n",
       "      <td>'31.wmv'</td>\n",
       "      <td>Short_Videos</td>\n",
       "      <td>LVHA</td>\n",
       "      <td>DECAF</td>\n",
       "      <td>Prestige</td>\n",
       "      <td>02:30:00</td>\n",
       "    </tr>\n",
       "    <tr>\n",
       "      <th>9</th>\n",
       "      <td>10</td>\n",
       "      <td>34</td>\n",
       "      <td>'34.avi'</td>\n",
       "      <td>Short_Videos</td>\n",
       "      <td>LVHA</td>\n",
       "      <td>DECAF</td>\n",
       "      <td>Pink Flamingos</td>\n",
       "      <td>01:00:00</td>\n",
       "    </tr>\n",
       "    <tr>\n",
       "      <th>10</th>\n",
       "      <td>11</td>\n",
       "      <td>36</td>\n",
       "      <td>'36.avi'</td>\n",
       "      <td>Short_Videos</td>\n",
       "      <td>LVHA</td>\n",
       "      <td>DECAF</td>\n",
       "      <td>Black Swan</td>\n",
       "      <td>01:02:00</td>\n",
       "    </tr>\n",
       "    <tr>\n",
       "      <th>11</th>\n",
       "      <td>12</td>\n",
       "      <td>4</td>\n",
       "      <td>'4.avi'</td>\n",
       "      <td>Short_Videos</td>\n",
       "      <td>HVHA</td>\n",
       "      <td>DECAF</td>\n",
       "      <td>Airplane</td>\n",
       "      <td>01:25:00</td>\n",
       "    </tr>\n",
       "    <tr>\n",
       "      <th>12</th>\n",
       "      <td>13</td>\n",
       "      <td>5</td>\n",
       "      <td>'5.wmv'</td>\n",
       "      <td>Short_Videos</td>\n",
       "      <td>HVHA</td>\n",
       "      <td>DECAF</td>\n",
       "      <td>When Harry Met Sally</td>\n",
       "      <td>01:47:00</td>\n",
       "    </tr>\n",
       "    <tr>\n",
       "      <th>13</th>\n",
       "      <td>14</td>\n",
       "      <td>58</td>\n",
       "      <td>'58.avi'</td>\n",
       "      <td>Short_Videos</td>\n",
       "      <td>HVLA</td>\n",
       "      <td>MAHNOB-HCI</td>\n",
       "      <td>Mr Beans' Holiday</td>\n",
       "      <td>00:58:00</td>\n",
       "    </tr>\n",
       "    <tr>\n",
       "      <th>14</th>\n",
       "      <td>15</td>\n",
       "      <td>80</td>\n",
       "      <td>'80.avi'</td>\n",
       "      <td>Short_Videos</td>\n",
       "      <td>HVHA</td>\n",
       "      <td>MAHNOB-HCI</td>\n",
       "      <td>Love Actually</td>\n",
       "      <td>01:36:00</td>\n",
       "    </tr>\n",
       "    <tr>\n",
       "      <th>15</th>\n",
       "      <td>16</td>\n",
       "      <td>9</td>\n",
       "      <td>'9.avi'</td>\n",
       "      <td>Short_Videos</td>\n",
       "      <td>HVHA</td>\n",
       "      <td>DECAF</td>\n",
       "      <td>Hot Shots</td>\n",
       "      <td>01:10:00</td>\n",
       "    </tr>\n",
       "    <tr>\n",
       "      <th>16</th>\n",
       "      <td>17</td>\n",
       "      <td>N1</td>\n",
       "      <td>'N1.avi'</td>\n",
       "      <td>Long_Videos</td>\n",
       "      <td>Various</td>\n",
       "      <td>Unpublished</td>\n",
       "      <td>The Descent. Dir. Neil Marshall. Lionsgate. 2005.</td>\n",
       "      <td>23:35:00</td>\n",
       "    </tr>\n",
       "    <tr>\n",
       "      <th>17</th>\n",
       "      <td>18</td>\n",
       "      <td>P1</td>\n",
       "      <td>'P1.avi'</td>\n",
       "      <td>Long_Videos</td>\n",
       "      <td>Various</td>\n",
       "      <td>Unpublished</td>\n",
       "      <td>Back to School Mr. Bean. Dir. John Birkin. Tig...</td>\n",
       "      <td>18:43:00</td>\n",
       "    </tr>\n",
       "    <tr>\n",
       "      <th>18</th>\n",
       "      <td>19</td>\n",
       "      <td>B1</td>\n",
       "      <td>'B1.mp4'</td>\n",
       "      <td>Long_Videos</td>\n",
       "      <td>Various</td>\n",
       "      <td>Unpublished</td>\n",
       "      <td>The Dark Knight. Dir. Christopher Nolan. Warne...</td>\n",
       "      <td>23:30:00</td>\n",
       "    </tr>\n",
       "    <tr>\n",
       "      <th>19</th>\n",
       "      <td>20</td>\n",
       "      <td>U1</td>\n",
       "      <td>'U1.mp4'</td>\n",
       "      <td>Long_Videos</td>\n",
       "      <td>Various</td>\n",
       "      <td>Unpublished</td>\n",
       "      <td>Up. Dirs. Pete Docter and Bob Peterson. Walt D...</td>\n",
       "      <td>14:06:00</td>\n",
       "    </tr>\n",
       "  </tbody>\n",
       "</table>\n",
       "</div>"
      ]
     },
     "execution_count": 38,
     "metadata": {},
     "output_type": "execute_result"
    }
   ],
   "execution_count": 38
  },
  {
   "metadata": {},
   "cell_type": "code",
   "outputs": [],
   "execution_count": null,
   "source": [
    "# **Notebook in cui abbozzo le cose e vedo di farle andare **\n",
    "# Al momento non mi fa il rendering di testo Markdown quindi commento in celle."
   ],
   "id": "abe1128426df1f7f"
  },
  {
   "metadata": {},
   "cell_type": "code",
   "outputs": [],
   "execution_count": null,
   "source": [
    "\"\"\"\n",
    "## AMIGOS\n",
    "\n",
    "A data file (pre-processed) is relative to a specific participant from the name ex. [Data_Preprocessed_P01] -> Participant 1\n",
    "\n",
    "> The videos are in the order of Video_Number (See Video_List), so not in the order of presentation.\n",
    "This means the first video is the same for each participant. The following table shows the channel layout and the preprocessing performed:\n",
    "\n",
    "Each matrix is a video.\n",
    "\n",
    "Root level:\n",
    "    dict_keys(['__header__', '__version__', '__globals__', 'VideoIDs', 'joined_data', 'labels_ext_annotation', 'labels_selfassessment'])\n",
    "\n",
    "YY: are the trials\n",
    "\n",
    "joined_data  {1,YY}: Contiene gli esperimenti (Che sono una quantità definita: )\n",
    "    samples: XX x 17 (XX numero di samples per le 17 dimensioni processate).\n",
    "\n",
    "labels_ext_anotation {1,YY}: ZZ x 3 channels (segment_index, valence and arousal)\n",
    "\n",
    "\"\"\""
   ],
   "id": "bb5b09b70721255"
  },
  {
   "metadata": {},
   "cell_type": "code",
   "outputs": [],
   "execution_count": null,
   "source": "frequency = 128  # As stated by dataset after pre-processing 128Hz",
   "id": "3fd4504ff3c50279"
  },
  {
   "metadata": {
    "ExecuteTime": {
     "end_time": "2025-05-23T15:09:09.042222Z",
     "start_time": "2025-05-23T15:09:08.666020Z"
    }
   },
   "cell_type": "code",
   "source": [
    "from scipy.io import loadmat\n",
    "\n",
    "mat = loadmat(\"../resources/Data_Preprocessed_P01.mat\")"
   ],
   "id": "initial_id",
   "outputs": [],
   "execution_count": 2
  },
  {
   "metadata": {
    "ExecuteTime": {
     "end_time": "2025-05-23T15:09:13.525865Z",
     "start_time": "2025-05-23T15:09:13.521449Z"
    }
   },
   "cell_type": "code",
   "source": "mat.keys()",
   "id": "9dfc7374a7a0d722",
   "outputs": [
    {
     "data": {
      "text/plain": [
       "dict_keys(['__header__', '__version__', '__globals__', 'VideoIDs', 'joined_data', 'labels_ext_annotation', 'labels_selfassessment'])"
      ]
     },
     "execution_count": 3,
     "metadata": {},
     "output_type": "execute_result"
    }
   ],
   "execution_count": 3
  },
  {
   "metadata": {
    "ExecuteTime": {
     "end_time": "2025-05-23T15:10:58.414605Z",
     "start_time": "2025-05-23T15:10:58.411802Z"
    }
   },
   "cell_type": "code",
   "source": "mat['joined_data'].shape  # 1 x YY (The 20 videos data)",
   "id": "ebb73b4f238eebe7",
   "outputs": [
    {
     "data": {
      "text/plain": [
       "(20,)"
      ]
     },
     "execution_count": 9,
     "metadata": {},
     "output_type": "execute_result"
    }
   ],
   "execution_count": 9
  },
  {
   "metadata": {
    "ExecuteTime": {
     "end_time": "2025-05-23T15:26:51.759098Z",
     "start_time": "2025-05-23T15:26:51.755789Z"
    }
   },
   "cell_type": "code",
   "source": [
    "# First dimension is kinda lost (No use for it actually)s\n",
    "video = 0\n",
    "\n",
    "video_data = mat['joined_data'][0][video]\n",
    "video_data.shape  # (Sampling points x channels)"
   ],
   "id": "c5d47950a9825886",
   "outputs": [
    {
     "data": {
      "text/plain": [
       "(12225, 17)"
      ]
     },
     "execution_count": 33,
     "metadata": {},
     "output_type": "execute_result"
    }
   ],
   "execution_count": 33
  },
  {
   "metadata": {
    "ExecuteTime": {
     "end_time": "2025-05-23T15:26:52.733315Z",
     "start_time": "2025-05-23T15:26:52.731035Z"
    }
   },
   "cell_type": "code",
   "source": "print(f\"Video n.{video} lasts {video_data.shape[0] / 128} seconds\")",
   "id": "bd2804f79d70e5f0",
   "outputs": [
    {
     "name": "stdout",
     "output_type": "stream",
     "text": [
      "Video n.0 lasts 95.5078125 seconds\n"
     ]
    }
   ],
   "execution_count": 34
  },
  {
   "metadata": {
    "ExecuteTime": {
     "end_time": "2025-05-23T15:27:04.925989Z",
     "start_time": "2025-05-23T15:27:04.629214Z"
    }
   },
   "cell_type": "code",
   "source": [
    "from eeg.plotting import plot_time_series\n",
    "\n",
    "# Channel AF3\n",
    "eeg = video_data.T  # Shape becomes (17, 12225)\n",
    "plot_time_series(eeg[0], ticks=5, frequency=128)"
   ],
   "id": "ef8d274256f2790c",
   "outputs": [
    {
     "name": "stdout",
     "output_type": "stream",
     "text": [
      "With frequency 128  we have that our series lasts:  95.5078125\n"
     ]
    },
    {
     "data": {
      "text/plain": [
       "<module 'matplotlib.pyplot' from '/home/jacopo/PycharmProjects/progetto-tesi/.venv/lib/python3.12/site-packages/matplotlib/pyplot.py'>"
      ]
     },
     "execution_count": 35,
     "metadata": {},
     "output_type": "execute_result"
    },
    {
     "data": {
      "text/plain": [
       "<Figure size 1000x300 with 1 Axes>"
      ],
      "image/png": "[encoded data removed]"
     },
     "metadata": {},
     "output_type": "display_data"
    }
   ],
   "execution_count": 35
  },
  {
   "metadata": {
    "ExecuteTime": {
     "end_time": "2025-05-22T16:33:22.353632Z",
     "start_time": "2025-05-22T16:33:22.352235Z"
    }
   },
   "cell_type": "code",
   "source": [
    "# Joined data last 3 rows are relative to ECG and GSR.\n",
    "# Should we drop them? TODO"
   ],
   "id": "9a1de4b127ab0ab2",
   "outputs": [],
   "execution_count": 4
  },
  {
   "metadata": {
    "ExecuteTime": {
     "end_time": "2025-05-22T16:33:22.404290Z",
     "start_time": "2025-05-22T16:33:22.402692Z"
    }
   },
   "cell_type": "code",
   "source": "eeg = mat['joined_data'][0][0].T  # Shape becomes (17, 12225)",
   "id": "d073dd8a9b555daa",
   "outputs": [],
   "execution_count": 5
  },
  {
   "metadata": {
    "ExecuteTime": {
     "end_time": "2025-05-22T16:33:22.455063Z",
     "start_time": "2025-05-22T16:33:22.452826Z"
    }
   },
   "cell_type": "code",
   "source": "eeg[0]",
   "id": "3a32d969f0467237",
   "outputs": [
    {
     "data": {
      "text/plain": [
       "array([ 9.73663478e-06, -4.13422856e+00, -1.82200587e+01, ...,\n",
       "       -9.87916955e+00, -1.20316206e+00,  6.66026951e-06], shape=(12225,))"
      ]
     },
     "execution_count": 6,
     "metadata": {},
     "output_type": "execute_result"
    }
   ],
   "execution_count": 6
  },
  {
   "metadata": {
    "ExecuteTime": {
     "end_time": "2025-05-22T16:33:22.797066Z",
     "start_time": "2025-05-22T16:33:22.507278Z"
    }
   },
   "cell_type": "code",
   "source": [
    "from eeg.plotting import plot_time_series\n",
    "\n",
    "# Channel AF3\n",
    "eeg = mat['joined_data'][0][0].T  # Shape becomes (17, 12225)\n",
    "plot_time_series(eeg[0], ticks=5, frequency=frequency)"
   ],
   "id": "2b8ee162d2a62c8d",
   "outputs": [
    {
     "name": "stdout",
     "output_type": "stream",
     "text": [
      "With frequency 128  we have that our series lasts:  95.5078125\n"
     ]
    },
    {
     "data": {
      "text/plain": [
       "<module 'matplotlib.pyplot' from '/home/jacopo/PycharmProjects/progetto-tesi/.venv/lib/python3.12/site-packages/matplotlib/pyplot.py'>"
      ]
     },
     "execution_count": 7,
     "metadata": {},
     "output_type": "execute_result"
    },
    {
     "data": {
      "text/plain": [
       "<Figure size 1000x300 with 1 Axes>"
      ],
      "image/png": "[encoded data removed]"
     },
     "metadata": {},
     "output_type": "display_data"
    }
   ],
   "execution_count": 7
  },
  {
   "metadata": {
    "ExecuteTime": {
     "end_time": "2025-05-23T13:58:46.000930Z",
     "start_time": "2025-05-23T13:58:45.998373Z"
    }
   },
   "cell_type": "code",
   "source": "mat['labels_ext_annotation'][0][0].shape",
   "id": "8ac54f2a8e3e2a4d",
   "outputs": [
    {
     "data": {
      "text/plain": [
       "(6, 3)"
      ]
     },
     "execution_count": 12,
     "metadata": {},
     "output_type": "execute_result"
    }
   ],
   "execution_count": 12
  },
  {
   "metadata": {},
   "cell_type": "code",
   "outputs": [],
   "execution_count": null,
   "source": "",
   "id": "80dcd6991f569cf"
  },
  {
   "metadata": {},
   "cell_type": "markdown",
   "source": "##",
   "id": "692f009a697b74d8"
  },
  {
   "metadata": {
    "SqlCellData": {
     "variableName$1": "df_sql1"
    },
    "ExecuteTime": {
     "end_time": "2025-05-23T13:59:52.676396Z",
     "start_time": "2025-05-23T13:59:52.582056250Z"
    }
   },
   "cell_type": "code",
   "source": "%%sql\n",
   "id": "dcde0947865f13fd",
   "outputs": [
    {
     "ename": "InvalidInputException",
     "evalue": "Invalid Input Error: Python Object \"mat\" of type \"dict\" found on line \"/tmp/ipykernel_97515/748881735.py:1\" not suitable for replacement scans.\nMake sure that \"mat\" is either a pandas.DataFrame, duckdb.DuckDBPyRelation, pyarrow Table, Dataset, RecordBatchReader, Scanner, or NumPy ndarrays with supported format",
     "output_type": "error",
     "traceback": [
      "\u001B[31m---------------------------------------------------------------------------\u001B[39m",
      "\u001B[31mInvalidInputException\u001B[39m                     Traceback (most recent call last)",
      "\u001B[36mCell\u001B[39m\u001B[36m \u001B[39m\u001B[32mIn[14]\u001B[39m\u001B[32m, line 1\u001B[39m\n\u001B[32m----> \u001B[39m\u001B[32m1\u001B[39m df_sql1 = \u001B[38;5;28;43m__import__\u001B[39;49m\u001B[43m(\u001B[49m\u001B[33;43m\"\u001B[39;49m\u001B[33;43mduckdb\u001B[39;49m\u001B[33;43m\"\u001B[39;49m\u001B[43m)\u001B[49m\u001B[43m.\u001B[49m\u001B[43mexecute\u001B[49m\u001B[43m(\u001B[49m\u001B[38;5;28;43m__import__\u001B[39;49m\u001B[43m(\u001B[49m\u001B[33;43m'\u001B[39;49m\u001B[33;43mbase64\u001B[39;49m\u001B[33;43m'\u001B[39;49m\u001B[43m)\u001B[49m\u001B[43m.\u001B[49m\u001B[43mb64decode\u001B[49m\u001B[43m(\u001B[49m\u001B[33;43m'\u001B[39;49m\u001B[33;43mc2VsZWN0ICogZnJvbSBtYXQ=\u001B[39;49m\u001B[33;43m'\u001B[39;49m\u001B[43m)\u001B[49m\u001B[43m.\u001B[49m\u001B[43mdecode\u001B[49m\u001B[43m(\u001B[49m\u001B[33;43m'\u001B[39;49m\u001B[33;43mutf-8\u001B[39;49m\u001B[33;43m'\u001B[39;49m\u001B[43m)\u001B[49m\u001B[43m)\u001B[49m.fetchdf()\n\u001B[32m      2\u001B[39m df_sql1\n",
      "\u001B[31mInvalidInputException\u001B[39m: Invalid Input Error: Python Object \"mat\" of type \"dict\" found on line \"/tmp/ipykernel_97515/748881735.py:1\" not suitable for replacement scans.\nMake sure that \"mat\" is either a pandas.DataFrame, duckdb.DuckDBPyRelation, pyarrow Table, Dataset, RecordBatchReader, Scanner, or NumPy ndarrays with supported format"
     ]
    }
   ],
   "execution_count": 14
  }
 ],
 "metadata": {
  "kernelspec": {
   "display_name": "Python 3",
   "language": "python",
   "name": "python3"
  },
  "language_info": {
   "codemirror_mode": {
    "name": "ipython",
    "version": 2
   },
   "file_extension": ".py",
   "mimetype": "text/x-python",
   "name": "python",
   "nbconvert_exporter": "python",
   "pygments_lexer": "ipython2",
   "version": "2.7.6"
  }
 },
 "nbformat": 4,
 "nbformat_minor": 5
}
