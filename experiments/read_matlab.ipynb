{
 "cells": [
  {
   "cell_type": "code",
   "id": "initial_id",
   "metadata": {
    "collapsed": true,
    "ExecuteTime": {
     "end_time": "2025-05-08T15:12:52.922977Z",
     "start_time": "2025-05-08T15:12:51.598205Z"
    }
   },
   "source": [
    "# To read matlab files in pandas or numpy\n",
    "from scipy.io import loadmat\n",
    "\n",
    "base_dir = \"/mnt/wwn-0x5000000000000001-part1/datasets/AMIGOS/pre_processed/\"\n",
    "data_set = loadmat(base_dir + \"Data_Preprocessed_P01.mat\")"
   ],
   "outputs": [],
   "execution_count": 1
  },
  {
   "metadata": {
    "ExecuteTime": {
     "end_time": "2025-05-08T15:16:32.407132Z",
     "start_time": "2025-05-08T15:16:32.398433Z"
    }
   },
   "cell_type": "code",
   "source": "data_set.keys()",
   "id": "4b5cb66fd1d6b0cd",
   "outputs": [
    {
     "data": {
      "text/plain": [
       "dict_keys(['__header__', '__version__', '__globals__', 'VideoIDs', 'joined_data', 'labels_ext_annotation', 'labels_selfassessment'])"
      ]
     },
     "execution_count": 20,
     "metadata": {},
     "output_type": "execute_result"
    }
   ],
   "execution_count": 20
  },
  {
   "metadata": {
    "ExecuteTime": {
     "end_time": "2025-05-08T15:18:16.112694Z",
     "start_time": "2025-05-08T15:18:07.516986Z"
    }
   },
   "cell_type": "code",
   "source": [
    "base_dir = \"/mnt/wwn-0x5000000000000001-part1/datasets/DREAMER/\"\n",
    "data_set = loadmat(base_dir + \"DREAMER.mat\")"
   ],
   "id": "e5e5230e471844b4",
   "outputs": [],
   "execution_count": 22
  },
  {
   "metadata": {
    "ExecuteTime": {
     "end_time": "2025-05-08T15:18:16.529274Z",
     "start_time": "2025-05-08T15:18:16.524649Z"
    }
   },
   "cell_type": "code",
   "source": "data_set.keys()",
   "id": "6030cf60a59f1edd",
   "outputs": [
    {
     "data": {
      "text/plain": [
       "dict_keys(['__header__', '__version__', '__globals__', 'DREAMER'])"
      ]
     },
     "execution_count": 23,
     "metadata": {},
     "output_type": "execute_result"
    }
   ],
   "execution_count": 23
  },
  {
   "metadata": {
    "ExecuteTime": {
     "end_time": "2025-05-08T15:20:02.090329Z",
     "start_time": "2025-05-08T15:20:02.083409Z"
    }
   },
   "cell_type": "code",
   "source": "data_set['DREAMER'][0][0][0].shape",
   "id": "96b53cfee3c05be3",
   "outputs": [
    {
     "data": {
      "text/plain": [
       "(1, 23)"
      ]
     },
     "execution_count": 36,
     "metadata": {},
     "output_type": "execute_result"
    }
   ],
   "execution_count": 36
  },
  {
   "metadata": {
    "ExecuteTime": {
     "end_time": "2025-05-08T15:47:06.903098Z",
     "start_time": "2025-05-08T15:46:57.312190Z"
    }
   },
   "cell_type": "code",
   "source": [
    "import pandas as pd\n",
    "import numpy as np\n",
    "import pickle\n",
    "import pickletools\n",
    "\n",
    "# Come sono formattati i dat di DEAP?\n",
    "base_dir = \"/mnt/wwn-0x5000000000000001-part1/datasets/DEAP/\"\n",
    "with open(base_dir + \"data_preprocessed_python/s02.dat\", \"rb\") as f:\n",
    "    data = pickle.load(f, encoding='latin1')"
   ],
   "id": "8f063d7d4ccf64b",
   "outputs": [
    {
     "name": "stdout",
     "output_type": "stream",
     "text": [
      "    0: }    EMPTY_DICT\n",
      "    1: q    BINPUT     1\n",
      "    3: (    MARK\n",
      "    4: U        SHORT_BINSTRING 'labels'\n",
      "   12: q        BINPUT     2\n",
      "   14: c        GLOBAL     'numpy.core.multiarray _reconstruct'\n",
      "   50: q        BINPUT     3\n",
      "   52: (        MARK\n",
      "   53: c            GLOBAL     'numpy ndarray'\n",
      "   68: q            BINPUT     4\n",
      "   70: (            MARK\n",
      "   71: K                BININT1    0\n",
      "   73: t                TUPLE      (MARK at 70)\n",
      "   74: U            SHORT_BINSTRING 'b'\n",
      "   77: t            TUPLE      (MARK at 52)\n",
      "   78: R        REDUCE\n",
      "   79: q        BINPUT     5\n",
      "   81: (        MARK\n",
      "   82: K            BININT1    1\n",
      "   84: (            MARK\n",
      "   85: K                BININT1    40\n",
      "   87: K                BININT1    4\n",
      "   89: t                TUPLE      (MARK at 84)\n",
      "   90: c            GLOBAL     'numpy dtype'\n",
      "  103: q            BINPUT     6\n",
      "  105: (            MARK\n",
      "  106: U                SHORT_BINSTRING 'f8'\n",
      "  110: K                BININT1    0\n",
      "  112: K                BININT1    1\n",
      "  114: t                TUPLE      (MARK at 105)\n",
      "  115: R            REDUCE\n",
      "  116: q            BINPUT     7\n",
      "  118: (            MARK\n",
      "  119: K                BININT1    3\n",
      "  121: U                SHORT_BINSTRING '<'\n",
      "  124: N                NONE\n",
      "  125: N                NONE\n",
      "  126: N                NONE\n",
      "  127: J                BININT     -1\n",
      "  132: J                BININT     -1\n",
      "  137: K                BININT1    0\n",
      "  139: t                TUPLE      (MARK at 118)\n",
      "  140: b            BUILD\n",
      "  141: I            INT        True\n",
      "  145: T            BINSTRING  '\\x00\\x00\\x00\\x00\\x00\\x00\"@\\x85ëQ¸\\x1e\\x05 @\\x00\\x00\\x00\\x00\\x00\\x00\"@333333\\x18@)\\\\\\x8fÂõ(\\x14@\\x00\\x00\\x00\\x00\\x00\\x00\\x14@×£p=\\n×\\x13@\\x00\\x00\\x00\\x00\\x00\\x00\"@\\x00\\x00\\x00\\x00\\x00\\x00\"@ö(\\\\\\x8fÂõ\\x13@R¸\\x1e\\x85ëQ\\x1c@\\x85ëQ¸\\x1e\\x05 @\\x00\\x00\\x00\\x00\\x00\\x00\"@áz\\x14®Gá!@\\x00\\x00\\x00\\x00\\x00\\x00\"@\\x00\\x00\\x00\\x00\\x00\\x00\\x18@\\x00\\x00\\x00\\x00\\x00\\x00\"@\\x00\\x00\\x00\\x00\\x00\\x00\"@\\x00\\x00\\x00\\x00\\x00\\x00\"@q=\\n×£ð!@\\x00\\x00\\x00\\x00\\x00\\x00ð?\\x00\\x00\\x00\\x00\\x00\\x00\\x14@\\x00\\x00\\x00\\x00\\x00\\x00ð?R¸\\x1e\\x85ëQ\\x1c@\\x00\\x00\\x00\\x00\\x00\\x00\"@\\x00\\x00\\x00\\x00\\x00\\x00\"@×£p=\\n×\\x13@=\\n×£p=\\x10@ìQ¸\\x1e\\x85ë\\x07@\\x14®Gáz\\x14\\x00@=\\n×£p=\\x10@\\x00\\x00\\x00\\x00\\x00\\x00ð?\\x00\\x00\\x00\\x00\\x00\\x00\\x14@{\\x14®Gáz\\x13@×£p=\\n×ÿ?)\\\\\\x8fÂõ(\\x14@\\x00\\x00\\x00\\x00\\x00\\x00ð?\\x00\\x00\\x00\\x00\\x00\\x00ð?\\x00\\x00\\x00\\x00\\x00\\x00ð?333333\\x18@\\x1f\\x85ëQ¸\\x1e\\x14@ffffff\\x1c@\\x00\\x00\\x00\\x00\\x00\\x00\"@\\x00\\x00\\x00\\x00\\x00\\x00ð?\\x00\\x00\\x00\\x00\\x00\\x00\\x08@Ãõ(\\\\\\x8fÂ\\x13@×£p=\\n×ÿ?\\x00\\x00\\x00\\x00\\x00\\x00\"@\\x00\\x00\\x00\\x00\\x00\\x00\\x1c@\\x00\\x00\\x00\\x00\\x00\\x00ð?\\x00\\x00\\x00\\x00\\x00\\x00ð?=\\n×£p=\\x18@ö(\\\\\\x8fÂõ\\x13@\\x00\\x00\\x00\\x00\\x00\\x00\"@\\x85ëQ¸\\x1e\\x05 @333333\\x14@\\x00\\x00\\x00\\x00\\x00\\x00\\x08@\\x9a\\x99\\x99\\x99\\x99\\x99\\x18@¤p=\\n×£ @\\x00\\x00\\x00\\x00\\x00\\x00\"@\\x00\\x00\\x00\\x00\\x00\\x00ð?\\x00\\x00\\x00\\x00\\x00\\x00ð?Ãõ(\\\\\\x8fÂ\\x07@\\x00\\x00\\x00\\x00\\x00\\x00\"@\\x00\\x00\\x00\\x00\\x00\\x00\"@\\x14®Gáz\\x14 @\\n×£p=\\n\\x14@áz\\x14®Gá\\x13@)\\\\\\x8fÂõ(\\x1c@333333\\x1c@333333\\x1c@\\x00\\x00\\x00\\x00\\x00\\x00\"@\\x8fÂõ(\\\\\\x0f @\\x00\\x00\\x00\\x00\\x00\\x00ð?\\x00\\x00\\x00\\x00\\x00\\x00\\x00@\\x00\\x00\\x00\\x00\\x00\\x00ð?\\x1f\\x85ëQ¸\\x1e @\\x00\\x00\\x00\\x00\\x00\\x00\"@\\x00\\x00\\x00\\x00\\x00\\x00ð?®Gáz\\x14®\\x1a@\\x85ëQ¸\\x1e\\x85\\x1c@\\x14®Gáz\\x14 @ìQ¸\\x1e\\x85ë!@)\\\\\\x8fÂõ(\\x14@333333\\r@)\\\\\\x8fÂõ(\\x14@R¸\\x1e\\x85ëQ\\x10@\\x00\\x00\\x00\\x00\\x00\\x00\"@\\x00\\x00\\x00\\x00\\x00\\x00\"@\\x00\\x00\\x00\\x00\\x00\\x00\"@\\n×£p=\\n\\x1c@{\\x14®Gáz\\x1c@\\x00\\x00\\x00\\x00\\x00\\x00\"@q=\\n×£ð!@\\x1f\\x85ëQ¸\\x1e @\\x9a\\x99\\x99\\x99\\x99\\x19 @\\x1f\\x85ëQ¸\\x1e\\x18@\\x00\\x00\\x00\\x00\\x00\\x00\"@\\x1f\\x85ëQ¸\\x1e @\\x8fÂõ(\\\\\\x0f @)\\\\\\x8fÂõ(\\x14@áz\\x14®Gá\\x13@\\x00\\x00\\x00\\x00\\x00\\x00ð?=\\n×£p=\\x18@333333 @\\x00\\x00\\x00\\x00\\x00\\x00\"@\\x14®Gáz\\x14\\x08@\\x8fÂõ(\\\\\\x8f\\x1c@\\x1f\\x85ëQ¸\\x1e\\x1c@\\x00\\x00\\x00\\x00\\x00\\x00ð?\\x00\\x00\\x00\\x00\\x00\\x00ð?\\x14®Gáz\\x14\\x00@\\x14®Gáz\\x14\\x08@ö(\\\\\\x8fÂõ\\x1b@\\x00\\x00\\x00\\x00\\x00\\x00ð?\\\\\\x8fÂõ(\\\\\\x1c@\\x00\\x00\\x00\\x00\\x00\\x00ð?\\x00\\x00\\x00\\x00\\x00\\x00ð?Ãõ(\\\\\\x8fÂ\\x07@Ãõ(\\\\\\x8fÂ\\x1b@{\\x14®Gáz\\x1a@)\\\\\\x8fÂõ( @\\x9a\\x99\\x99\\x99\\x99\\x19 @\\x1f\\x85ëQ¸\\x1e\\x1c@)\\\\\\x8fÂõ(\\x14@)\\\\\\x8fÂõ(ð?\\x00\\x00\\x00\\x00\\x00\\x00ð?\\x00\\x00\\x00\\x00\\x00\\x00\"@¸\\x1e\\x85ëQ¸\\x1c@\\x00\\x00\\x00\\x00\\x00\\x00ð?\\x00\\x00\\x00\\x00\\x00\\x00\\x1c@\\x00\\x00\\x00\\x00\\x00\\x00\"@\\x00\\x00\\x00\\x00\\x00\\x00\"@\\x00\\x00\\x00\\x00\\x00\\x00\"@\\x00\\x00\\x00\\x00\\x00\\x00\"@\\x8fÂõ(\\\\\\x8f\\x18@¤p=\\n×£\\x1d@)\\\\\\x8fÂõ( @ö(\\\\\\x8fÂõ\\x1b@\\x00\\x00\\x00\\x00\\x00\\x00\"@\\x00\\x00\\x00\\x00\\x00\\x00ð?\\x00\\x00\\x00\\x00\\x00\\x00\\x14@Ház\\x14®G\\x1f@\\x00\\x00\\x00\\x00\\x00\\x00\"@\\x00\\x00\\x00\\x00\\x00\\x00\"@\\x00\\x00\\x00\\x00\\x00\\x00\"@333333\\x14@)\\\\\\x8fÂõ(\\x1c@\\x00\\x00\\x00\\x00\\x00\\x00\"@\\x85ëQ¸\\x1e\\x85\\x1c@\\x00\\x00\\x00\\x00\\x00\\x00\"@\\x00\\x00\\x00\\x00\\x00\\x00ð?\\x00\\x00\\x00\\x00\\x00\\x00ð?\\x00\\x00\\x00\\x00\\x00\\x00ð?\\x00\\x00\\x00\\x00\\x00\\x00ð?\\x00\\x00\\x00\\x00\\x00\\x00ð?\\x00\\x00\\x00\\x00\\x00\\x00ð?\\x00\\x00\\x00\\x00\\x00\\x00ð?\\x00\\x00\\x00\\x00\\x00\\x00ð?\\x1f\\x85ëQ¸\\x1e\\x1a@'\n",
      " 1430: t            TUPLE      (MARK at 81)\n",
      " 1431: b        BUILD\n",
      " 1432: U        SHORT_BINSTRING 'data'\n",
      " 1438: q        BINPUT     8\n",
      " 1440: h        BINGET     3\n",
      " 1442: (        MARK\n",
      " 1443: h            BINGET     4\n",
      " 1445: (            MARK\n",
      " 1446: K                BININT1    0\n",
      " 1448: t                TUPLE      (MARK at 1445)\n",
      " 1449: U            SHORT_BINSTRING 'b'\n",
      " 1452: t            TUPLE      (MARK at 1442)\n",
      " 1453: R        REDUCE\n",
      " 1454: q        BINPUT     9\n",
      " 1456: (        MARK\n",
      " 1457: K            BININT1    1\n",
      " 1459: (            MARK\n",
      " 1460: K                BININT1    40\n",
      " 1462: K                BININT1    40\n",
      " 1464: M                BININT2    8064\n",
      " 1467: t                TUPLE      (MARK at 1459)\n",
      " 1468: h            BINGET     7\n",
      " 1470: I            INT        False\n",
      " 1474: "
     ]
    },
    {
     "name": "stderr",
     "output_type": "stream",
     "text": [
      "IOPub data rate exceeded.\n",
      "The Jupyter server will temporarily stop sending output\n",
      "to the client in order to avoid crashing it.\n",
      "To change this limit, set the config variable\n",
      "`--ServerApp.iopub_data_rate_limit`.\n",
      "\n",
      "Current values:\n",
      "ServerApp.iopub_data_rate_limit=1000000.0 (bytes/sec)\n",
      "ServerApp.rate_limit_window=3.0 (secs)\n",
      "\n"
     ]
    },
    {
     "name": "stdout",
     "output_type": "stream",
     "text": [
      "\n",
      "103220681: u        SETITEMS   (MARK at 3)\n",
      "103220682: .    STOP\n",
      "highest protocol among opcodes = 1\n"
     ]
    }
   ],
   "execution_count": 63
  },
  {
   "metadata": {
    "ExecuteTime": {
     "end_time": "2025-05-08T15:47:46.397399Z",
     "start_time": "2025-05-08T15:47:46.389171Z"
    }
   },
   "cell_type": "code",
   "source": "data['data'].shape",
   "id": "8e4a1c9d3a9881ab",
   "outputs": [
    {
     "data": {
      "text/plain": [
       "(40, 40, 8064)"
      ]
     },
     "execution_count": 68,
     "metadata": {},
     "output_type": "execute_result"
    }
   ],
   "execution_count": 68
  },
  {
   "metadata": {},
   "cell_type": "code",
   "outputs": [],
   "execution_count": null,
   "source": "",
   "id": "a06cac3b7663e23"
  }
 ],
 "metadata": {
  "kernelspec": {
   "display_name": "Python 3",
   "language": "python",
   "name": "python3"
  },
  "language_info": {
   "codemirror_mode": {
    "name": "ipython",
    "version": 2
   },
   "file_extension": ".py",
   "mimetype": "text/x-python",
   "name": "python",
   "nbconvert_exporter": "python",
   "pygments_lexer": "ipython2",
   "version": "2.7.6"
  }
 },
 "nbformat": 4,
 "nbformat_minor": 5
}
