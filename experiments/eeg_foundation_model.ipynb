{
 "cells": [
  {
   "cell_type": "code",
   "id": "initial_id",
   "metadata": {
    "collapsed": true
   },
   "source": [
    "from huggingface_hub import hf_hub_download\n",
    "\n",
    "model_path = hf_hub_download(repo_id=\"wenhuic/Neuro-GPT\", filename=\"pretrained_model/pytorch_model.bin\")"
   ],
   "outputs": [],
   "execution_count": null
  },
  {
   "metadata": {},
   "cell_type": "code",
   "source": [
    "import torch\n",
    "\n",
    "# Weights of the pre-trained model\n",
    "model = torch.load(model_path, weights_only=False)"
   ],
   "id": "38c3b48c5f4133d0",
   "outputs": [],
   "execution_count": null
  },
  {
   "metadata": {},
   "cell_type": "code",
   "source": [
    "from NeuroGPT.src.model import Model\n",
    "\n",
    "from NeuroGPT.src.decoder.make_decoder import make_decoder\n",
    "from NeuroGPT.src.decoder.unembedder import make_unembedder\n",
    "from NeuroGPT.src.embedder.make import make_embedder\n",
    "\n",
    "Model(None, make_embedder(), make_decoder(), make_unembedder()).from_pretrained(model_path)"
   ],
   "id": "36f8c4e519c555d5",
   "outputs": [],
   "execution_count": null
  },
  {
   "metadata": {},
   "cell_type": "code",
   "source": "## NeuroGPT",
   "id": "747018e8df4d270a",
   "outputs": [],
   "execution_count": null
  },
  {
   "metadata": {},
   "cell_type": "code",
   "source": "",
   "id": "37bea6f67c7b44c0",
   "outputs": [],
   "execution_count": null
  },
  {
   "metadata": {},
   "cell_type": "markdown",
   "source": "## BrainBERT",
   "id": "762c1cc253a29230"
  },
  {
   "metadata": {
    "ExecuteTime": {
     "end_time": "2025-05-23T14:52:16.198402Z",
     "start_time": "2025-05-23T14:52:16.195850Z"
    }
   },
   "cell_type": "code",
   "source": [
    "import os\n",
    "\n",
    "os.environ[\"BrainBERT_HOME\"] = \"dependencies.BrainBERT.\""
   ],
   "id": "ad0bbccd41169d94",
   "outputs": [],
   "execution_count": 1
  },
  {
   "metadata": {
    "ExecuteTime": {
     "end_time": "2025-05-20T16:21:04.047346Z",
     "start_time": "2025-05-20T16:21:03.063585Z"
    }
   },
   "cell_type": "code",
   "source": [
    "\n",
    "import BrainBERT as models\n",
    "from omegaconf import OmegaConf\n",
    "import torch"
   ],
   "id": "a05d00274d4e651c",
   "outputs": [],
   "execution_count": 1
  },
  {
   "metadata": {
    "ExecuteTime": {
     "end_time": "2025-05-20T16:21:08.402152Z",
     "start_time": "2025-05-20T16:21:08.399297Z"
    }
   },
   "cell_type": "code",
   "source": [
    "def build_model(cfg):\n",
    "    ckpt_path = cfg.upstream_ckpt\n",
    "    init_state = torch.load(ckpt_path, weights_only=False)\n",
    "    upstream_cfg = init_state[\"model_cfg\"]\n",
    "    upstream = models.build_model(upstream_cfg)\n",
    "    return upstream\n",
    "\n",
    "\n",
    "def load_model_weights(model, states, multi_gpu):\n",
    "    if multi_gpu:\n",
    "        model.module.load_weights(states)\n",
    "    else:\n",
    "        model.load_weights(states)\n"
   ],
   "id": "cd94fabb32d9ad25",
   "outputs": [],
   "execution_count": 2
  },
  {
   "metadata": {
    "ExecuteTime": {
     "end_time": "2025-05-20T16:21:09.032481Z",
     "start_time": "2025-05-20T16:21:08.875182Z"
    }
   },
   "cell_type": "code",
   "source": [
    "ckpt_path = \"../dependencies/BrainBERT_weights/stft_large_pretrained.pth\"\n",
    "cfg = OmegaConf.create({\"upstream_ckpt\": ckpt_path})\n",
    "\n",
    "model = build_model(cfg)\n",
    "model.to('cuda')\n",
    "\n",
    "init_state = torch.load(ckpt_path, weights_only=False)\n",
    "load_model_weights(model, init_state['model'], False)"
   ],
   "id": "eae941954cbac1ce",
   "outputs": [
    {
     "ename": "FileNotFoundError",
     "evalue": "[Errno 2] No such file or directory: '../dependencies/BrainBERT_weights/stft_large_pretrained.pth'",
     "output_type": "error",
     "traceback": [
      "\u001B[31m---------------------------------------------------------------------------\u001B[39m",
      "\u001B[31mFileNotFoundError\u001B[39m                         Traceback (most recent call last)",
      "\u001B[36mCell\u001B[39m\u001B[36m \u001B[39m\u001B[32mIn[3]\u001B[39m\u001B[32m, line 4\u001B[39m\n\u001B[32m      1\u001B[39m ckpt_path = \u001B[33m\"\u001B[39m\u001B[33m../dependencies/BrainBERT_weights/stft_large_pretrained.pth\u001B[39m\u001B[33m\"\u001B[39m\n\u001B[32m      2\u001B[39m cfg = OmegaConf.create({\u001B[33m\"\u001B[39m\u001B[33mupstream_ckpt\u001B[39m\u001B[33m\"\u001B[39m: ckpt_path})\n\u001B[32m----> \u001B[39m\u001B[32m4\u001B[39m model = \u001B[43mbuild_model\u001B[49m\u001B[43m(\u001B[49m\u001B[43mcfg\u001B[49m\u001B[43m)\u001B[49m\n\u001B[32m      5\u001B[39m model.to(\u001B[33m'\u001B[39m\u001B[33mcuda\u001B[39m\u001B[33m'\u001B[39m)\n\u001B[32m      7\u001B[39m init_state = torch.load(ckpt_path, weights_only=\u001B[38;5;28;01mFalse\u001B[39;00m)\n",
      "\u001B[36mCell\u001B[39m\u001B[36m \u001B[39m\u001B[32mIn[2]\u001B[39m\u001B[32m, line 3\u001B[39m, in \u001B[36mbuild_model\u001B[39m\u001B[34m(cfg)\u001B[39m\n\u001B[32m      1\u001B[39m \u001B[38;5;28;01mdef\u001B[39;00m\u001B[38;5;250m \u001B[39m\u001B[34mbuild_model\u001B[39m(cfg):\n\u001B[32m      2\u001B[39m     ckpt_path = cfg.upstream_ckpt\n\u001B[32m----> \u001B[39m\u001B[32m3\u001B[39m     init_state = \u001B[43mtorch\u001B[49m\u001B[43m.\u001B[49m\u001B[43mload\u001B[49m\u001B[43m(\u001B[49m\u001B[43mckpt_path\u001B[49m\u001B[43m,\u001B[49m\u001B[43m \u001B[49m\u001B[43mweights_only\u001B[49m\u001B[43m=\u001B[49m\u001B[38;5;28;43;01mFalse\u001B[39;49;00m\u001B[43m)\u001B[49m\n\u001B[32m      4\u001B[39m     upstream_cfg = init_state[\u001B[33m\"\u001B[39m\u001B[33mmodel_cfg\u001B[39m\u001B[33m\"\u001B[39m]\n\u001B[32m      5\u001B[39m     upstream = models.build_model(upstream_cfg)\n",
      "\u001B[36mFile \u001B[39m\u001B[32m~/PycharmProjects/progetto-tesi/.venv/lib/python3.12/site-packages/torch/serialization.py:1479\u001B[39m, in \u001B[36mload\u001B[39m\u001B[34m(f, map_location, pickle_module, weights_only, mmap, **pickle_load_args)\u001B[39m\n\u001B[32m   1476\u001B[39m \u001B[38;5;28;01mif\u001B[39;00m \u001B[33m\"\u001B[39m\u001B[33mencoding\u001B[39m\u001B[33m\"\u001B[39m \u001B[38;5;129;01mnot\u001B[39;00m \u001B[38;5;129;01min\u001B[39;00m pickle_load_args.keys():\n\u001B[32m   1477\u001B[39m     pickle_load_args[\u001B[33m\"\u001B[39m\u001B[33mencoding\u001B[39m\u001B[33m\"\u001B[39m] = \u001B[33m\"\u001B[39m\u001B[33mutf-8\u001B[39m\u001B[33m\"\u001B[39m\n\u001B[32m-> \u001B[39m\u001B[32m1479\u001B[39m \u001B[38;5;28;01mwith\u001B[39;00m \u001B[43m_open_file_like\u001B[49m\u001B[43m(\u001B[49m\u001B[43mf\u001B[49m\u001B[43m,\u001B[49m\u001B[43m \u001B[49m\u001B[33;43m\"\u001B[39;49m\u001B[33;43mrb\u001B[39;49m\u001B[33;43m\"\u001B[39;49m\u001B[43m)\u001B[49m \u001B[38;5;28;01mas\u001B[39;00m opened_file:\n\u001B[32m   1480\u001B[39m     \u001B[38;5;28;01mif\u001B[39;00m _is_zipfile(opened_file):\n\u001B[32m   1481\u001B[39m         \u001B[38;5;66;03m# The zipfile reader is going to advance the current file position.\u001B[39;00m\n\u001B[32m   1482\u001B[39m         \u001B[38;5;66;03m# If we want to actually tail call to torch.jit.load, we need to\u001B[39;00m\n\u001B[32m   1483\u001B[39m         \u001B[38;5;66;03m# reset back to the original position.\u001B[39;00m\n\u001B[32m   1484\u001B[39m         orig_position = opened_file.tell()\n",
      "\u001B[36mFile \u001B[39m\u001B[32m~/PycharmProjects/progetto-tesi/.venv/lib/python3.12/site-packages/torch/serialization.py:759\u001B[39m, in \u001B[36m_open_file_like\u001B[39m\u001B[34m(name_or_buffer, mode)\u001B[39m\n\u001B[32m    757\u001B[39m \u001B[38;5;28;01mdef\u001B[39;00m\u001B[38;5;250m \u001B[39m\u001B[34m_open_file_like\u001B[39m(name_or_buffer: FileLike, mode: \u001B[38;5;28mstr\u001B[39m) -> _opener[IO[\u001B[38;5;28mbytes\u001B[39m]]:\n\u001B[32m    758\u001B[39m     \u001B[38;5;28;01mif\u001B[39;00m _is_path(name_or_buffer):\n\u001B[32m--> \u001B[39m\u001B[32m759\u001B[39m         \u001B[38;5;28;01mreturn\u001B[39;00m \u001B[43m_open_file\u001B[49m\u001B[43m(\u001B[49m\u001B[43mname_or_buffer\u001B[49m\u001B[43m,\u001B[49m\u001B[43m \u001B[49m\u001B[43mmode\u001B[49m\u001B[43m)\u001B[49m\n\u001B[32m    760\u001B[39m     \u001B[38;5;28;01melse\u001B[39;00m:\n\u001B[32m    761\u001B[39m         \u001B[38;5;28;01mif\u001B[39;00m \u001B[33m\"\u001B[39m\u001B[33mw\u001B[39m\u001B[33m\"\u001B[39m \u001B[38;5;129;01min\u001B[39;00m mode:\n",
      "\u001B[36mFile \u001B[39m\u001B[32m~/PycharmProjects/progetto-tesi/.venv/lib/python3.12/site-packages/torch/serialization.py:740\u001B[39m, in \u001B[36m_open_file.__init__\u001B[39m\u001B[34m(self, name, mode)\u001B[39m\n\u001B[32m    739\u001B[39m \u001B[38;5;28;01mdef\u001B[39;00m\u001B[38;5;250m \u001B[39m\u001B[34m__init__\u001B[39m(\u001B[38;5;28mself\u001B[39m, name: Union[\u001B[38;5;28mstr\u001B[39m, os.PathLike[\u001B[38;5;28mstr\u001B[39m]], mode: \u001B[38;5;28mstr\u001B[39m) -> \u001B[38;5;28;01mNone\u001B[39;00m:\n\u001B[32m--> \u001B[39m\u001B[32m740\u001B[39m     \u001B[38;5;28msuper\u001B[39m().\u001B[34m__init__\u001B[39m(\u001B[38;5;28;43mopen\u001B[39;49m\u001B[43m(\u001B[49m\u001B[43mname\u001B[49m\u001B[43m,\u001B[49m\u001B[43m \u001B[49m\u001B[43mmode\u001B[49m\u001B[43m)\u001B[49m)\n",
      "\u001B[31mFileNotFoundError\u001B[39m: [Errno 2] No such file or directory: '../dependencies/BrainBERT_weights/stft_large_pretrained.pth'"
     ]
    }
   ],
   "execution_count": 3
  },
  {
   "metadata": {},
   "cell_type": "code",
   "source": [
    "\n",
    "import torch\n",
    "\n",
    "\n",
    "def get_stft(x, fs, clip_fs=-1, normalizing=None, **kwargs):\n",
    "    f, t, Zxx = signal.stft(x, fs, **kwargs)\n",
    "\n",
    "    Zxx = Zxx[:clip_fs]\n",
    "    f = f[:clip_fs]\n",
    "\n",
    "    Zxx = np.abs(Zxx)\n",
    "    clip = 5  #To handle boundary effects\n",
    "    if normalizing == \"zscore\":\n",
    "        Zxx = Zxx[:, clip:-clip]\n",
    "        Zxx = stats.zscore(Zxx, axis=-1)\n",
    "        t = t[clip:-clip]\n",
    "    elif normalizing == \"db\":\n",
    "        Zxx = np.log2(Zxx[:, clip:-clip])\n",
    "        t = t[clip:-clip]\n",
    "\n",
    "    if np.isnan(Zxx).any():\n",
    "        import pdb;\n",
    "        pdb.set_trace()\n",
    "\n",
    "    return f, t, Zxx"
   ],
   "id": "4a412a73fd7d2931",
   "outputs": [],
   "execution_count": null
  },
  {
   "metadata": {},
   "cell_type": "code",
   "source": [
    "import numpy as np\n",
    "\n",
    "wav = np.load(\"../resources/example_wav_1.npy\")\n",
    "f, t, linear = get_stft(wav, 2048, clip_fs=40, nperseg=400, noverlap=350, normalizing=\"zscore\",\n",
    "                        return_onesided=True)  #TODO hardcode sampling rate\n",
    "inputs = torch.FloatTensor(linear).unsqueeze(0).transpose(1, 2).to('cuda')\n",
    "mask = torch.zeros((inputs.shape[:2])).bool().to('cuda')\n",
    "with torch.no_grad():\n",
    "    out = model.forward(inputs, mask, intermediate_rep=True)\n"
   ],
   "id": "f52129e19499d1a6",
   "outputs": [],
   "execution_count": null
  },
  {
   "metadata": {},
   "cell_type": "code",
   "source": "",
   "id": "59e795bae6e9ff4",
   "outputs": [],
   "execution_count": null
  },
  {
   "metadata": {},
   "cell_type": "code",
   "source": "out.shape  # Embedding",
   "id": "f8802a44857f0a3e",
   "outputs": [],
   "execution_count": null
  },
  {
   "metadata": {},
   "cell_type": "code",
   "source": "wav.shape",
   "id": "af8682b5781019ce",
   "outputs": [],
   "execution_count": null
  },
  {
   "metadata": {},
   "cell_type": "code",
   "source": [
    "from VATE.contrastive_model import Contrastive_model\n",
    "import torch\n",
    "\n",
    "vate_path = \"../dependencies/VATE/output/VATE/best_model_contrastive.pt\"\n",
    "state = torch.load(vate_path, weights_only=True)"
   ],
   "id": "2179d8a85d0879a6",
   "outputs": [],
   "execution_count": null
  },
  {
   "metadata": {},
   "cell_type": "code",
   "source": "state",
   "id": "950a05568bd5d41f",
   "outputs": [],
   "execution_count": null
  },
  {
   "metadata": {},
   "cell_type": "code",
   "source": "state['embedding_text.4.weight'].shape",
   "id": "e9605e5704d5efc1",
   "outputs": [],
   "execution_count": null
  },
  {
   "metadata": {},
   "cell_type": "code",
   "source": [
    "vate_model = Contrastive_model(200, 100)\n",
    "vate_model.load_state_dict(state)"
   ],
   "id": "62e78dbede234445",
   "outputs": [],
   "execution_count": null
  },
  {
   "metadata": {},
   "cell_type": "code",
   "source": "vate_model.eval()",
   "id": "694b22070725a2dd",
   "outputs": [],
   "execution_count": null
  },
  {
   "metadata": {},
   "cell_type": "code",
   "source": [
    "video = \"\"\n",
    "vate_model.forward(video, None, None)"
   ],
   "id": "58911ff2315fcc10",
   "outputs": [],
   "execution_count": null
  },
  {
   "metadata": {},
   "cell_type": "code",
   "source": [
    "import sys\n",
    "import os\n",
    "\n",
    "sys.path.insert(0, os.path.abspath(\"../dependencies/VATE\"))"
   ],
   "id": "5ccb266410cf03a9",
   "outputs": [],
   "execution_count": null
  },
  {
   "metadata": {},
   "cell_type": "code",
   "source": "",
   "id": "e1503096aacca85e",
   "outputs": [],
   "execution_count": null
  },
  {
   "metadata": {},
   "cell_type": "code",
   "source": [
    "import sys\n",
    "import os\n",
    "\n",
    "sys.path.insert(0, os.path.abspath(\"../dependencies/BrainBERT\"))"
   ],
   "id": "130a2c653880cda0",
   "outputs": [],
   "execution_count": null
  },
  {
   "metadata": {},
   "cell_type": "code",
   "source": [
    "\n",
    "from omegaconf import OmegaConf"
   ],
   "id": "16e2133d51c673b8",
   "outputs": [],
   "execution_count": null
  },
  {
   "metadata": {
    "ExecuteTime": {
     "end_time": "2025-05-22T16:13:12.517370Z",
     "start_time": "2025-05-22T16:13:10.105998Z"
    }
   },
   "cell_type": "code",
   "source": [
    "import numpy as np\n",
    "import matplotlib.pyplot as plt\n",
    "from scipy import signal, stats\n",
    "import torch"
   ],
   "id": "fea517ec8feeb937",
   "outputs": [],
   "execution_count": 1
  },
  {
   "metadata": {
    "ExecuteTime": {
     "end_time": "2025-05-22T16:18:55.888085Z",
     "start_time": "2025-05-22T16:18:55.885085Z"
    }
   },
   "cell_type": "code",
   "source": [
    "def plot_time_series(path):\n",
    "    wav = np.load(path)\n",
    "    plt.figure(figsize=(10, 3))\n",
    "    plt.xticks(fontsize=20)\n",
    "    plt.yticks(fontsize=20)\n",
    "    plt.ylabel(u\"Voltage (\\u03bcV)\", fontsize=25)\n",
    "    plt.xticks(np.arange(0, len(wav) + 1, 2048), [x / 2048 for x in np.arange(0, len(wav) + 1, 2048)])\n",
    "    plt.xlabel(\"Time (s)\", fontsize=25)\n",
    "    plt.plot(wav)"
   ],
   "id": "5adbd3efc340e034",
   "outputs": [],
   "execution_count": 13
  },
  {
   "metadata": {
    "ExecuteTime": {
     "end_time": "2025-05-22T16:28:51.758455Z",
     "start_time": "2025-05-22T16:28:51.755291Z"
    }
   },
   "cell_type": "code",
   "source": [
    "wav = np.load(\"../resources/example_wav_1.npy\")\n",
    "wav.shape"
   ],
   "id": "f5afd879345d2ddc",
   "outputs": [
    {
     "data": {
      "text/plain": [
       "(10240,)"
      ]
     },
     "execution_count": 17,
     "metadata": {},
     "output_type": "execute_result"
    }
   ],
   "execution_count": 17
  },
  {
   "metadata": {
    "ExecuteTime": {
     "end_time": "2025-05-22T16:18:56.569005Z",
     "start_time": "2025-05-22T16:18:56.497478Z"
    }
   },
   "cell_type": "code",
   "source": "plot_time_series(\"../resources/example_wav_1.npy\")",
   "id": "2a71abcadbcfaf53",
   "outputs": [
    {
     "data": {
      "text/plain": [
       "<Figure size 1000x300 with 1 Axes>"
      ],
      "image/png": "[encoded data removed]"
     },
     "metadata": {},
     "output_type": "display_data"
    }
   ],
   "execution_count": 14
  },
  {
   "metadata": {},
   "cell_type": "code",
   "source": [
    "def get_stft(x, fs, clip_fs=-1, normalizing=None, **kwargs):\n",
    "    f, t, Zxx = signal.stft(x, fs, **kwargs)\n",
    "\n",
    "    Zxx = Zxx[:clip_fs]\n",
    "    f = f[:clip_fs]\n",
    "\n",
    "    Zxx = np.abs(Zxx)\n",
    "    clip = 5  #To handle boundary effects\n",
    "    if normalizing == \"zscore\":\n",
    "        Zxx = Zxx[:, clip:-clip]\n",
    "        Zxx = stats.zscore(Zxx, axis=-1)\n",
    "        t = t[clip:-clip]\n",
    "    elif normalizing == \"db\":\n",
    "        Zxx = np.log2(Zxx[:, clip:-clip])\n",
    "        t = t[clip:-clip]\n",
    "\n",
    "    if np.isnan(Zxx).any():\n",
    "        import pdb;\n",
    "        pdb.set_trace()\n",
    "\n",
    "    return f, t, Zxx\n",
    "\n",
    "\n",
    "def plot_stft(path):\n",
    "    wav = np.load(path)\n",
    "    f, t, linear = get_stft(wav, 2048, clip_fs=40, nperseg=400, noverlap=350, normalizing=\"zscore\",\n",
    "                            return_onesided=True)  #TODO hardcode sampling rate\n",
    "    plt.figure(figsize=(15, 3))\n",
    "    f[-1] = 200\n",
    "    g1 = plt.pcolormesh(t, f, linear, shading=\"gouraud\", vmin=-3, vmax=5)\n",
    "\n",
    "    cbar = plt.colorbar(g1)\n",
    "    tick_font_size = 15\n",
    "    cbar.ax.tick_params(labelsize=tick_font_size)\n",
    "    cbar.ax.set_ylabel(\"Power (Arbitrary units)\", fontsize=15)\n",
    "    plt.xticks(fontsize=20)\n",
    "    plt.ylabel(\"\")\n",
    "    plt.yticks(fontsize=20)\n",
    "    plt.xlabel(\"Time (s)\", fontsize=20)\n",
    "    plt.ylabel(\"Frequency (Hz)\", fontsize=20)"
   ],
   "id": "e23a30e2e18b1c0b",
   "outputs": [],
   "execution_count": null
  },
  {
   "metadata": {},
   "cell_type": "code",
   "source": "plot_stft(\"../resources/example_wav_1.npy\")",
   "id": "542ffbd977fb13a8",
   "outputs": [],
   "execution_count": null
  },
  {
   "metadata": {},
   "cell_type": "code",
   "source": [
    "def build_model(cfg):\n",
    "    ckpt_path = cfg.upstream_ckpt\n",
    "    init_state = torch.load(ckpt_path, weights_only=False)\n",
    "    upstream_cfg = init_state[\"model_cfg\"]\n",
    "    upstream = models.build_model(upstream_cfg)\n",
    "    return upstream\n",
    "\n",
    "\n",
    "def load_model_weights(model, states, multi_gpu):\n",
    "    if multi_gpu:\n",
    "        model.module.load_weights(states)\n",
    "    else:\n",
    "        model.load_weights(states)"
   ],
   "id": "237455fa85a5315c",
   "outputs": [],
   "execution_count": null
  },
  {
   "metadata": {},
   "cell_type": "code",
   "source": "ckpt_path = \"../resources/stft_large_pretrained.pth\"",
   "id": "d7e8c54fd3b0665b",
   "outputs": [],
   "execution_count": null
  },
  {
   "metadata": {},
   "cell_type": "code",
   "source": [
    "cfg = OmegaConf.create({\"upstream_ckpt\": ckpt_path})\n",
    "model = build_model(cfg)\n",
    "model.to('cuda')\n",
    "init_state = torch.load(ckpt_path, weights_only=False)\n",
    "load_model_weights(model, init_state['model'], False)"
   ],
   "id": "386aec88dcdc091a",
   "outputs": [],
   "execution_count": null
  },
  {
   "metadata": {},
   "cell_type": "code",
   "source": "path = \"\"",
   "id": "74c9191357e76894",
   "outputs": [],
   "execution_count": null
  },
  {
   "metadata": {},
   "cell_type": "code",
   "source": [
    "wav = np.load(\"../resources/example_wav_1.npy\")\n",
    "\n",
    "f, t, linear = get_stft(wav, 2048, clip_fs=40, nperseg=400, noverlap=350, normalizing=\"zscore\",\n",
    "                        return_onesided=True)  #TODO hardcode sampling rate\n",
    "inputs = torch.FloatTensor(linear).unsqueeze(0).transpose(1, 2).to('cuda')\n",
    "mask = torch.zeros((inputs.shape[:2])).bool().to('cuda')\n",
    "with torch.no_grad():\n",
    "    out = model.forward(inputs, mask, intermediate_rep=True)"
   ],
   "id": "167942c1b0ff89ab",
   "outputs": [],
   "execution_count": null
  },
  {
   "metadata": {},
   "cell_type": "code",
   "source": "out",
   "id": "f6c0de1a53b19285",
   "outputs": [],
   "execution_count": null
  },
  {
   "metadata": {},
   "cell_type": "code",
   "source": "out.shape  # Embedding",
   "id": "71aedd3ba8970a27",
   "outputs": [],
   "execution_count": null
  },
  {
   "metadata": {},
   "cell_type": "code",
   "source": "wav.shape",
   "id": "aea28eda38ef9e66",
   "outputs": [],
   "execution_count": null
  },
  {
   "metadata": {},
   "cell_type": "code",
   "source": "inputs.shape",
   "id": "deaeb1d2dc3295fa",
   "outputs": [],
   "execution_count": null
  },
  {
   "metadata": {},
   "cell_type": "code",
   "source": [
    "from scipy.io import loadmat\n",
    "\n",
    "file = \"../resources/Data_Preprocessed_P01.mat\"\n",
    "data_set = loadmat(file)"
   ],
   "id": "9ad2a0b4561f352c",
   "outputs": [],
   "execution_count": null
  },
  {
   "metadata": {},
   "cell_type": "code",
   "source": "data_set.keys()",
   "id": "4b11bce471109bc",
   "outputs": [],
   "execution_count": null
  },
  {
   "metadata": {},
   "cell_type": "code",
   "source": "data_set['joined_data'][0][0][:, 0].shape",
   "id": "6e5e36508445421b",
   "outputs": [],
   "execution_count": null
  },
  {
   "metadata": {},
   "cell_type": "code",
   "source": "data_set['joined_data'][0][0][0][0].shape",
   "id": "4779a614c0142f4a",
   "outputs": [],
   "execution_count": null
  },
  {
   "metadata": {},
   "cell_type": "code",
   "source": [
    "# Devo capire meglio la storia della shape.\n",
    "f, t, linear = get_stft(data_set['joined_data'][0][0][:, 0], 2048, clip_fs=40, nperseg=400, noverlap=350,\n",
    "                        normalizing=\"zscore\", return_onesided=True)  #TODO hardcode sampling rate\n",
    "inputs = torch.FloatTensor(linear).unsqueeze(0).transpose(1, 2).to('cuda')\n",
    "mask = torch.zeros((inputs.shape[:2])).bool().to('cuda')\n",
    "with torch.no_grad():\n",
    "    out = model.forward(inputs, mask, intermediate_rep=True)"
   ],
   "id": "10b6bcb96b5b6713",
   "outputs": [],
   "execution_count": null
  },
  {
   "metadata": {},
   "cell_type": "code",
   "source": "out",
   "id": "d37845626eb3b8c3",
   "outputs": [],
   "execution_count": null
  },
  {
   "metadata": {},
   "cell_type": "code",
   "source": [
    "print(type(data_set['joined_data'][0][0]))\n",
    "print(data_set['joined_data'][0][0].shape)\n",
    "print(type(data_set['joined_data'][0][0][0, 0]))\n",
    "print(data_set['joined_data'][0][0][0, 0].shape)\n"
   ],
   "id": "9ff49396941bed3f",
   "outputs": [],
   "execution_count": null
  },
  {
   "metadata": {},
   "cell_type": "code",
   "source": "eeg = data_set['joined_data'][0][0].T  # Shape becomes (17, 12225)",
   "id": "5849d007443bdd5c",
   "outputs": [],
   "execution_count": null
  },
  {
   "metadata": {},
   "cell_type": "code",
   "source": [
    "# CAPTAIN TEEMO ON DUTY!\n",
    "f, t, linear = get_stft(data_set['joined_data'][0][0][:, 0], 2048, clip_fs=40, nperseg=400, noverlap=350,\n",
    "                        normalizing=\"zscore\",\n",
    "                        return_onesided=True)  #TODO hardcode sampling rate\n",
    "plt.figure(figsize=(15, 3))\n",
    "\n",
    "f[-1] = 200\n",
    "g1 = plt.pcolormesh(t, f, linear, shading=\"gouraud\", vmin=-3, vmax=5)\n",
    "\n",
    "cbar = plt.colorbar(g1)\n",
    "tick_font_size = 15\n",
    "cbar.ax.tick_params(labelsize=tick_font_size)\n",
    "cbar.ax.set_ylabel(\"Power (Arbitrary units)\", fontsize=15)\n",
    "plt.xticks(fontsize=20)\n",
    "plt.ylabel(\"\")\n",
    "plt.yticks(fontsize=20)\n",
    "plt.xlabel(\"Time (s)\", fontsize=20)\n",
    "plt.ylabel(\"Frequency (Hz)\", fontsize=20)"
   ],
   "id": "8b5eba96c06be51b",
   "outputs": [],
   "execution_count": null
  },
  {
   "metadata": {},
   "cell_type": "code",
   "source": [
    "wav = data_set['joined_data'][0][0][:, 12]\n",
    "plt.figure(figsize=(10, 3))\n",
    "plt.xticks(fontsize=20)\n",
    "plt.yticks(fontsize=20)\n",
    "plt.ylabel(u\"Voltage (\\u03bcV)\", fontsize=25)\n",
    "plt.xticks(np.arange(0, len(wav) + 1, 2048), [x / 2048 for x in np.arange(0, len(wav) + 1, 2048)])\n",
    "plt.xlabel(\"Time (s)\", fontsize=25)\n",
    "plt.plot(wav)"
   ],
   "id": "f3a15440eb7c1ae8",
   "outputs": [],
   "execution_count": null
  },
  {
   "metadata": {},
   "cell_type": "code",
   "source": "",
   "id": "eda05a7fc278ee6e",
   "outputs": [],
   "execution_count": null
  }
 ],
 "metadata": {
  "kernelspec": {
   "display_name": "Python 3",
   "language": "python",
   "name": "python3"
  },
  "language_info": {
   "codemirror_mode": {
    "name": "ipython",
    "version": 2
   },
   "file_extension": ".py",
   "mimetype": "text/x-python",
   "name": "python",
   "nbconvert_exporter": "python",
   "pygments_lexer": "ipython2",
   "version": "2.7.6"
  }
 },
 "nbformat": 4,
 "nbformat_minor": 5
}
