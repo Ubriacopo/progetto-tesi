{
 "cells": [
  {
   "cell_type": "code",
   "id": "initial_id",
   "metadata": {
    "collapsed": true,
    "ExecuteTime": {
     "end_time": "2025-04-28T15:33:04.898528Z",
     "start_time": "2025-04-28T15:33:04.358886Z"
    }
   },
   "source": [
    "from huggingface_hub import hf_hub_download\n",
    "\n",
    "model_path = hf_hub_download(repo_id=\"wenhuic/Neuro-GPT\", filename=\"pretrained_model/pytorch_model.bin\")"
   ],
   "outputs": [
    {
     "name": "stderr",
     "output_type": "stream",
     "text": [
      "/home/studenti/fichera/progetto-tesi/.venv/lib/python3.11/site-packages/tqdm/auto.py:21: TqdmWarning: IProgress not found. Please update jupyter and ipywidgets. See https://ipywidgets.readthedocs.io/en/stable/user_install.html\n",
      "  from .autonotebook import tqdm as notebook_tqdm\n"
     ]
    }
   ],
   "execution_count": 1
  },
  {
   "metadata": {
    "ExecuteTime": {
     "end_time": "2025-04-28T15:33:10.060791Z",
     "start_time": "2025-04-28T15:33:04.906926Z"
    }
   },
   "cell_type": "code",
   "source": [
    "import torch\n",
    "\n",
    "# Weights of the pre-trained model\n",
    "model = torch.load(model_path, weights_only=False)"
   ],
   "id": "38c3b48c5f4133d0",
   "outputs": [],
   "execution_count": 2
  },
  {
   "metadata": {
    "ExecuteTime": {
     "end_time": "2025-04-28T15:33:14.813455Z",
     "start_time": "2025-04-28T15:33:10.798033Z"
    }
   },
   "cell_type": "code",
   "source": [
    "from NeuroGPT.src.model import Model\n",
    "\n",
    "from NeuroGPT.src.decoder.make_decoder import make_decoder\n",
    "from NeuroGPT.src.decoder.unembedder import make_unembedder\n",
    "from NeuroGPT.src.embedder.make import make_embedder\n",
    "\n",
    "Model(None, make_embedder(), make_decoder(), make_unembedder()).from_pretrained(model_path)"
   ],
   "id": "36f8c4e519c555d5",
   "outputs": [
    {
     "name": "stdout",
     "output_type": "stream",
     "text": [
      "Loading pretrained model from /home/studenti/fichera/.cache/huggingface/hub/models--wenhuic--Neuro-GPT/snapshots/2e0b940580db95e6237227c27c13b2319909d0fc/pretrained_model/pytorch_model.bin\n"
     ]
    },
    {
     "ename": "AssertionError",
     "evalue": "embedder.msk_embed shape mismatch between pretrained model and current model torch.Size([1, 1, 1080]) vs torch.Size([1, 1, 1024])",
     "output_type": "error",
     "traceback": [
      "\u001B[31m---------------------------------------------------------------------------\u001B[39m",
      "\u001B[31mAssertionError\u001B[39m                            Traceback (most recent call last)",
      "\u001B[36mCell\u001B[39m\u001B[36m \u001B[39m\u001B[32mIn[3]\u001B[39m\u001B[32m, line 7\u001B[39m\n\u001B[32m      4\u001B[39m \u001B[38;5;28;01mfrom\u001B[39;00m\u001B[38;5;250m \u001B[39m\u001B[34;01mNeuroGPT\u001B[39;00m\u001B[34;01m.\u001B[39;00m\u001B[34;01msrc\u001B[39;00m\u001B[34;01m.\u001B[39;00m\u001B[34;01mdecoder\u001B[39;00m\u001B[34;01m.\u001B[39;00m\u001B[34;01munembedder\u001B[39;00m\u001B[38;5;250m \u001B[39m\u001B[38;5;28;01mimport\u001B[39;00m make_unembedder\n\u001B[32m      5\u001B[39m \u001B[38;5;28;01mfrom\u001B[39;00m\u001B[38;5;250m \u001B[39m\u001B[34;01mNeuroGPT\u001B[39;00m\u001B[34;01m.\u001B[39;00m\u001B[34;01msrc\u001B[39;00m\u001B[34;01m.\u001B[39;00m\u001B[34;01membedder\u001B[39;00m\u001B[34;01m.\u001B[39;00m\u001B[34;01mmake\u001B[39;00m\u001B[38;5;250m \u001B[39m\u001B[38;5;28;01mimport\u001B[39;00m make_embedder\n\u001B[32m----> \u001B[39m\u001B[32m7\u001B[39m \u001B[43mModel\u001B[49m\u001B[43m(\u001B[49m\u001B[38;5;28;43;01mNone\u001B[39;49;00m\u001B[43m,\u001B[49m\u001B[43m \u001B[49m\u001B[43mmake_embedder\u001B[49m\u001B[43m(\u001B[49m\u001B[43m)\u001B[49m\u001B[43m,\u001B[49m\u001B[43m \u001B[49m\u001B[43mmake_decoder\u001B[49m\u001B[43m(\u001B[49m\u001B[43m)\u001B[49m\u001B[43m,\u001B[49m\u001B[43m \u001B[49m\u001B[43mmake_unembedder\u001B[49m\u001B[43m(\u001B[49m\u001B[43m)\u001B[49m\u001B[43m)\u001B[49m\u001B[43m.\u001B[49m\u001B[43mfrom_pretrained\u001B[49m\u001B[43m(\u001B[49m\u001B[43mmodel_path\u001B[49m\u001B[43m)\u001B[49m\n",
      "\u001B[36mFile \u001B[39m\u001B[32m~/progetto-tesi/NeuroGPT/src/model.py:71\u001B[39m, in \u001B[36mModel.from_pretrained\u001B[39m\u001B[34m(self, pretrained_path)\u001B[39m\n\u001B[32m     68\u001B[39m \u001B[38;5;28;01mfor\u001B[39;00m k \u001B[38;5;129;01min\u001B[39;00m \u001B[38;5;28mself\u001B[39m.state_dict():\n\u001B[32m     70\u001B[39m     \u001B[38;5;28;01mif\u001B[39;00m k \u001B[38;5;129;01min\u001B[39;00m pretrained:\n\u001B[32m---> \u001B[39m\u001B[32m71\u001B[39m         \u001B[38;5;28;01massert\u001B[39;00m pretrained[k].shape == \u001B[38;5;28mself\u001B[39m.state_dict()[k].shape,\\\n\u001B[32m     72\u001B[39m             \u001B[33mf\u001B[39m\u001B[33m'\u001B[39m\u001B[38;5;132;01m{\u001B[39;00mk\u001B[38;5;132;01m}\u001B[39;00m\u001B[33m shape mismatch between pretrained model and current model \u001B[39m\u001B[33m'\u001B[39m+\\\n\u001B[32m     73\u001B[39m             \u001B[33mf\u001B[39m\u001B[33m'\u001B[39m\u001B[38;5;132;01m{\u001B[39;00mpretrained[k].shape\u001B[38;5;132;01m}\u001B[39;00m\u001B[33m vs \u001B[39m\u001B[38;5;132;01m{\u001B[39;00m\u001B[38;5;28mself\u001B[39m.state_dict()[k].shape\u001B[38;5;132;01m}\u001B[39;00m\u001B[33m'\u001B[39m\n\u001B[32m     75\u001B[39m \u001B[38;5;28;01mfor\u001B[39;00m k \u001B[38;5;129;01min\u001B[39;00m pretrained:     \n\u001B[32m     76\u001B[39m     \u001B[38;5;28;01mif\u001B[39;00m k \u001B[38;5;129;01mnot\u001B[39;00m \u001B[38;5;129;01min\u001B[39;00m \u001B[38;5;28mself\u001B[39m.state_dict():\n",
      "\u001B[31mAssertionError\u001B[39m: embedder.msk_embed shape mismatch between pretrained model and current model torch.Size([1, 1, 1080]) vs torch.Size([1, 1, 1024])"
     ]
    }
   ],
   "execution_count": 3
  },
  {
   "metadata": {},
   "cell_type": "code",
   "source": "model",
   "id": "a2aaae62f4d334f1",
   "outputs": [],
   "execution_count": null
  },
  {
   "metadata": {},
   "cell_type": "code",
   "source": "",
   "id": "fbbda40c2a266386",
   "outputs": [],
   "execution_count": null
  }
 ],
 "metadata": {
  "kernelspec": {
   "display_name": "Python 3",
   "language": "python",
   "name": "python3"
  },
  "language_info": {
   "codemirror_mode": {
    "name": "ipython",
    "version": 2
   },
   "file_extension": ".py",
   "mimetype": "text/x-python",
   "name": "python",
   "nbconvert_exporter": "python",
   "pygments_lexer": "ipython2",
   "version": "2.7.6"
  }
 },
 "nbformat": 4,
 "nbformat_minor": 5
}
